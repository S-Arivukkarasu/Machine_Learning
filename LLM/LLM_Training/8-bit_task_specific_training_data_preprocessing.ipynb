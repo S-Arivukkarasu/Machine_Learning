{
 "cells": [
  {
   "cell_type": "markdown",
   "id": "31c249b7-903f-41ed-997a-39fbb0cc4d3a",
   "metadata": {},
   "source": [
    "# Task-Focused Training: Aim for Better Learning - Dataset 📊\n",
    "\n",
    "## Learning Objectives 🎯\n",
    "- Install and configure necessary libraries to manage datasets.\n",
    "- Understand how to load and process datasets for specific tasks in machine learning.\n",
    "- Convert datasets to a format suitable for training machine learning models.\n",
    "- Prepare and store datasets efficiently for machine learning applications."
   ]
  },
  {
   "cell_type": "markdown",
   "id": "3a54a28c-acaa-4272-80b0-41c99635b02e",
   "metadata": {},
   "source": [
    "## Loading Dataset 📚\n",
    "Load a specific dataset using the Hugging Face `datasets` library. This step involves fetching the dataset from a public repository and examining its structure to ensure it fits the training task."
   ]
  },
  {
   "cell_type": "code",
   "execution_count": 1,
   "id": "3d247e42-d3ad-4874-b36b-253c21b829eb",
   "metadata": {},
   "outputs": [],
   "source": [
    "from datasets import load_dataset"
   ]
  },
  {
   "cell_type": "code",
   "execution_count": 2,
   "id": "83d2fcd6-c7e6-43b5-85b6-f1dca87b7cf2",
   "metadata": {},
   "outputs": [
    {
     "data": {
      "application/vnd.jupyter.widget-view+json": {
       "model_id": "3fc63f30e77c47de86e33f81f4aeeb15",
       "version_major": 2,
       "version_minor": 0
      },
      "text/plain": [
       "README.md:   0%|          | 0.00/7.62k [00:00<?, ?B/s]"
      ]
     },
     "metadata": {},
     "output_type": "display_data"
    },
    {
     "data": {
      "application/vnd.jupyter.widget-view+json": {
       "model_id": "154bdc9cbb464323b447b6ccacef7d97",
       "version_major": 2,
       "version_minor": 0
      },
      "text/plain": [
       "train-00000-of-00001.parquet:   0%|          | 0.00/14.5M [00:00<?, ?B/s]"
      ]
     },
     "metadata": {},
     "output_type": "display_data"
    },
    {
     "data": {
      "application/vnd.jupyter.widget-view+json": {
       "model_id": "b9ba4aa6a9044a92ab696c81fbd4b76b",
       "version_major": 2,
       "version_minor": 0
      },
      "text/plain": [
       "validation-00000-of-00001.parquet:   0%|          | 0.00/1.82M [00:00<?, ?B/s]"
      ]
     },
     "metadata": {},
     "output_type": "display_data"
    },
    {
     "data": {
      "application/vnd.jupyter.widget-view+json": {
       "model_id": "0f5322a7cc38403d9bcc1d2325c314b0",
       "version_major": 2,
       "version_minor": 0
      },
      "text/plain": [
       "Generating train split:   0%|          | 0/87599 [00:00<?, ? examples/s]"
      ]
     },
     "metadata": {},
     "output_type": "display_data"
    },
    {
     "data": {
      "application/vnd.jupyter.widget-view+json": {
       "model_id": "dc793a0ab8d640e294f13bb9ba811b07",
       "version_major": 2,
       "version_minor": 0
      },
      "text/plain": [
       "Generating validation split:   0%|          | 0/10570 [00:00<?, ? examples/s]"
      ]
     },
     "metadata": {},
     "output_type": "display_data"
    }
   ],
   "source": [
    "data = load_dataset(\"rajpurkar/squad\")"
   ]
  },
  {
   "cell_type": "code",
   "execution_count": 3,
   "id": "cce50417-055f-475b-ba03-cbca87b1ddb7",
   "metadata": {},
   "outputs": [
    {
     "data": {
      "text/plain": [
       "DatasetDict({\n",
       "    train: Dataset({\n",
       "        features: ['id', 'title', 'context', 'question', 'answers'],\n",
       "        num_rows: 87599\n",
       "    })\n",
       "    validation: Dataset({\n",
       "        features: ['id', 'title', 'context', 'question', 'answers'],\n",
       "        num_rows: 10570\n",
       "    })\n",
       "})"
      ]
     },
     "execution_count": 3,
     "metadata": {},
     "output_type": "execute_result"
    }
   ],
   "source": [
    "data"
   ]
  },
  {
   "cell_type": "code",
   "execution_count": 4,
   "id": "afc8c6f5-1480-4ff2-9972-830ce4369e75",
   "metadata": {},
   "outputs": [],
   "source": [
    "df = data['validation'].to_pandas()"
   ]
  },
  {
   "cell_type": "code",
   "execution_count": 5,
   "id": "9315f740-2f4f-40cd-8f42-075d1a8abe69",
   "metadata": {},
   "outputs": [
    {
     "data": {
      "text/html": [
       "<div>\n",
       "<style scoped>\n",
       "    .dataframe tbody tr th:only-of-type {\n",
       "        vertical-align: middle;\n",
       "    }\n",
       "\n",
       "    .dataframe tbody tr th {\n",
       "        vertical-align: top;\n",
       "    }\n",
       "\n",
       "    .dataframe thead th {\n",
       "        text-align: right;\n",
       "    }\n",
       "</style>\n",
       "<table border=\"1\" class=\"dataframe\">\n",
       "  <thead>\n",
       "    <tr style=\"text-align: right;\">\n",
       "      <th></th>\n",
       "      <th>id</th>\n",
       "      <th>title</th>\n",
       "      <th>context</th>\n",
       "      <th>question</th>\n",
       "      <th>answers</th>\n",
       "    </tr>\n",
       "  </thead>\n",
       "  <tbody>\n",
       "    <tr>\n",
       "      <th>0</th>\n",
       "      <td>56be4db0acb8001400a502ec</td>\n",
       "      <td>Super_Bowl_50</td>\n",
       "      <td>Super Bowl 50 was an American football game to...</td>\n",
       "      <td>Which NFL team represented the AFC at Super Bo...</td>\n",
       "      <td>{'text': ['Denver Broncos', 'Denver Broncos', ...</td>\n",
       "    </tr>\n",
       "    <tr>\n",
       "      <th>1</th>\n",
       "      <td>56be4db0acb8001400a502ed</td>\n",
       "      <td>Super_Bowl_50</td>\n",
       "      <td>Super Bowl 50 was an American football game to...</td>\n",
       "      <td>Which NFL team represented the NFC at Super Bo...</td>\n",
       "      <td>{'text': ['Carolina Panthers', 'Carolina Panth...</td>\n",
       "    </tr>\n",
       "    <tr>\n",
       "      <th>2</th>\n",
       "      <td>56be4db0acb8001400a502ee</td>\n",
       "      <td>Super_Bowl_50</td>\n",
       "      <td>Super Bowl 50 was an American football game to...</td>\n",
       "      <td>Where did Super Bowl 50 take place?</td>\n",
       "      <td>{'text': ['Santa Clara, California', 'Levi's S...</td>\n",
       "    </tr>\n",
       "    <tr>\n",
       "      <th>3</th>\n",
       "      <td>56be4db0acb8001400a502ef</td>\n",
       "      <td>Super_Bowl_50</td>\n",
       "      <td>Super Bowl 50 was an American football game to...</td>\n",
       "      <td>Which NFL team won Super Bowl 50?</td>\n",
       "      <td>{'text': ['Denver Broncos', 'Denver Broncos', ...</td>\n",
       "    </tr>\n",
       "    <tr>\n",
       "      <th>4</th>\n",
       "      <td>56be4db0acb8001400a502f0</td>\n",
       "      <td>Super_Bowl_50</td>\n",
       "      <td>Super Bowl 50 was an American football game to...</td>\n",
       "      <td>What color was used to emphasize the 50th anni...</td>\n",
       "      <td>{'text': ['gold', 'gold', 'gold'], 'answer_sta...</td>\n",
       "    </tr>\n",
       "  </tbody>\n",
       "</table>\n",
       "</div>"
      ],
      "text/plain": [
       "                         id  ...                                            answers\n",
       "0  56be4db0acb8001400a502ec  ...  {'text': ['Denver Broncos', 'Denver Broncos', ...\n",
       "1  56be4db0acb8001400a502ed  ...  {'text': ['Carolina Panthers', 'Carolina Panth...\n",
       "2  56be4db0acb8001400a502ee  ...  {'text': ['Santa Clara, California', 'Levi's S...\n",
       "3  56be4db0acb8001400a502ef  ...  {'text': ['Denver Broncos', 'Denver Broncos', ...\n",
       "4  56be4db0acb8001400a502f0  ...  {'text': ['gold', 'gold', 'gold'], 'answer_sta...\n",
       "\n",
       "[5 rows x 5 columns]"
      ]
     },
     "execution_count": 5,
     "metadata": {},
     "output_type": "execute_result"
    }
   ],
   "source": [
    "df.head()"
   ]
  },
  {
   "cell_type": "markdown",
   "id": "ccf63b07-2ada-4c96-9428-3cd0c5b61c06",
   "metadata": {},
   "source": [
    "## Data Processing and Transformation 🔧\n",
    "Transform the dataset into a more usable format by extracting necessary fields and converting it into a DataFrame. This process is crucial for tailoring the data to the specific needs of the training model."
   ]
  },
  {
   "cell_type": "code",
   "execution_count": 6,
   "id": "bb7df53b-f0b6-42b0-b41e-95827fc12baa",
   "metadata": {},
   "outputs": [],
   "source": [
    "df['output'] = df['answers'].map(lambda x: x['text'][0])\n",
    "df = df.drop(columns=['answers'])"
   ]
  },
  {
   "cell_type": "code",
   "execution_count": 7,
   "id": "c8c60c79-c0e7-4cbc-bcbc-6fc98bb6089e",
   "metadata": {},
   "outputs": [
    {
     "data": {
      "text/html": [
       "<div>\n",
       "<style scoped>\n",
       "    .dataframe tbody tr th:only-of-type {\n",
       "        vertical-align: middle;\n",
       "    }\n",
       "\n",
       "    .dataframe tbody tr th {\n",
       "        vertical-align: top;\n",
       "    }\n",
       "\n",
       "    .dataframe thead th {\n",
       "        text-align: right;\n",
       "    }\n",
       "</style>\n",
       "<table border=\"1\" class=\"dataframe\">\n",
       "  <thead>\n",
       "    <tr style=\"text-align: right;\">\n",
       "      <th></th>\n",
       "      <th>id</th>\n",
       "      <th>title</th>\n",
       "      <th>context</th>\n",
       "      <th>question</th>\n",
       "      <th>output</th>\n",
       "    </tr>\n",
       "  </thead>\n",
       "  <tbody>\n",
       "    <tr>\n",
       "      <th>0</th>\n",
       "      <td>56be4db0acb8001400a502ec</td>\n",
       "      <td>Super_Bowl_50</td>\n",
       "      <td>Super Bowl 50 was an American football game to...</td>\n",
       "      <td>Which NFL team represented the AFC at Super Bo...</td>\n",
       "      <td>Denver Broncos</td>\n",
       "    </tr>\n",
       "    <tr>\n",
       "      <th>1</th>\n",
       "      <td>56be4db0acb8001400a502ed</td>\n",
       "      <td>Super_Bowl_50</td>\n",
       "      <td>Super Bowl 50 was an American football game to...</td>\n",
       "      <td>Which NFL team represented the NFC at Super Bo...</td>\n",
       "      <td>Carolina Panthers</td>\n",
       "    </tr>\n",
       "    <tr>\n",
       "      <th>2</th>\n",
       "      <td>56be4db0acb8001400a502ee</td>\n",
       "      <td>Super_Bowl_50</td>\n",
       "      <td>Super Bowl 50 was an American football game to...</td>\n",
       "      <td>Where did Super Bowl 50 take place?</td>\n",
       "      <td>Santa Clara, California</td>\n",
       "    </tr>\n",
       "    <tr>\n",
       "      <th>3</th>\n",
       "      <td>56be4db0acb8001400a502ef</td>\n",
       "      <td>Super_Bowl_50</td>\n",
       "      <td>Super Bowl 50 was an American football game to...</td>\n",
       "      <td>Which NFL team won Super Bowl 50?</td>\n",
       "      <td>Denver Broncos</td>\n",
       "    </tr>\n",
       "    <tr>\n",
       "      <th>4</th>\n",
       "      <td>56be4db0acb8001400a502f0</td>\n",
       "      <td>Super_Bowl_50</td>\n",
       "      <td>Super Bowl 50 was an American football game to...</td>\n",
       "      <td>What color was used to emphasize the 50th anni...</td>\n",
       "      <td>gold</td>\n",
       "    </tr>\n",
       "  </tbody>\n",
       "</table>\n",
       "</div>"
      ],
      "text/plain": [
       "                         id  ...                   output\n",
       "0  56be4db0acb8001400a502ec  ...           Denver Broncos\n",
       "1  56be4db0acb8001400a502ed  ...        Carolina Panthers\n",
       "2  56be4db0acb8001400a502ee  ...  Santa Clara, California\n",
       "3  56be4db0acb8001400a502ef  ...           Denver Broncos\n",
       "4  56be4db0acb8001400a502f0  ...                     gold\n",
       "\n",
       "[5 rows x 5 columns]"
      ]
     },
     "execution_count": 7,
     "metadata": {},
     "output_type": "execute_result"
    }
   ],
   "source": [
    "df.head()"
   ]
  },
  {
   "cell_type": "markdown",
   "id": "9c91e2aa-9c70-4915-9b01-4c5e5c1dbb7d",
   "metadata": {},
   "source": [
    "## Data Storage and Preparation 🗃️\n",
    "Prepare the processed data for training by saving it in a Parquet file. This format is optimized for large-scale data storage and access, making it ideal for machine learning workflows."
   ]
  },
  {
   "cell_type": "code",
   "execution_count": 20,
   "id": "74f851cc-8286-40de-a1cd-7cdb467461e8",
   "metadata": {},
   "outputs": [],
   "source": [
    "# df.to_parquet(\"/home/alexender/Desktop/Projects/My_projects/Data/squad_for_llms/squad_for_llms.parquet\")"
   ]
  },
  {
   "cell_type": "code",
   "execution_count": 21,
   "id": "d2414a13-f18b-4f06-95be-36b9dd784019",
   "metadata": {},
   "outputs": [],
   "source": [
    "# from huggingface_hub import create_repo, upload_folder\n",
    "# from huggingface_hub import notebook_login\n",
    "\n",
    "# notebook_login()"
   ]
  },
  {
   "cell_type": "code",
   "execution_count": 22,
   "id": "97cabd11-436d-440f-8e4a-db312a77ae6a",
   "metadata": {},
   "outputs": [],
   "source": [
    "# repo_id = \"Arivukkarasu/squad_for_llms\"\n",
    "# create_repo(repo_id, repo_type=\"dataset\", exist_ok=True)"
   ]
  },
  {
   "cell_type": "code",
   "execution_count": 23,
   "id": "017bb507-e24c-4a86-bc3e-86881fb3cf52",
   "metadata": {},
   "outputs": [],
   "source": [
    "# upload_folder(\n",
    "#     repo_id=repo_id,\n",
    "#     folder_path=\"/home/alexender/Desktop/Projects/My_projects/Data/squad_for_llms\",  # path to your folder\n",
    "#     repo_type=\"dataset\"\n",
    "# )"
   ]
  },
  {
   "cell_type": "code",
   "execution_count": null,
   "id": "7000e3bf-a2bc-4533-9b4a-6dff7335ff1a",
   "metadata": {},
   "outputs": [],
   "source": []
  }
 ],
 "metadata": {
  "kernelspec": {
   "display_name": "Python 3 (ipykernel)",
   "language": "python",
   "name": "python3"
  },
  "language_info": {
   "codemirror_mode": {
    "name": "ipython",
    "version": 3
   },
   "file_extension": ".py",
   "mimetype": "text/x-python",
   "name": "python",
   "nbconvert_exporter": "python",
   "pygments_lexer": "ipython3",
   "version": "3.12.3"
  }
 },
 "nbformat": 4,
 "nbformat_minor": 5
}
