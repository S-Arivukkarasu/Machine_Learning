{
 "cells": [
  {
   "cell_type": "markdown",
   "id": "8ed4b543-9e25-475d-940d-ab042f0f307f",
   "metadata": {},
   "source": [
    "# 🤖 **Training GPT-2 for Instruction Following**"
   ]
  },
  {
   "cell_type": "markdown",
   "id": "e0c8a689-1b18-4710-bea8-3518f1b02c52",
   "metadata": {},
   "source": [
    "### Importing Libraries"
   ]
  },
  {
   "cell_type": "code",
   "execution_count": 1,
   "id": "af0efc5e-8e6a-4681-927e-fa7ff56bf02f",
   "metadata": {},
   "outputs": [],
   "source": [
    "from transformers import (\n",
    "AutoTokenizer,\n",
    "AutoModelForCausalLM,\n",
    "DataCollatorForLanguageModeling,\n",
    "Trainer,\n",
    "TrainingArguments\n",
    ")\n",
    "from datasets import load_dataset\n",
    "import torch\n",
    "import os\n",
    "os.environ[\"PYTORCH_CUDA_ALLOC_CONF\"] = \"expandable_segments:True\"\n",
    "# os.environ[\"PYTORCH_CUDA_ALLOC_CONF\"] = \"max_split_size_mb:64\"\n",
    "\n",
    "device = torch.device(\"cuda\" if torch.cuda.is_available() else \"cpu\")\n",
    "\n",
    "torch.cuda.empty_cache()  # Frees unreferenced memory\n",
    "torch.cuda.ipc_collect()  # Collects inter-process memory\n",
    "\n",
    "# print(torch.cuda.is_available())  # Should return True\n",
    "# print(torch.cuda.device_count())  # Should be > 0\n",
    "# print(torch.cuda.current_device())  # Should return an integer (device index)\n",
    "# print(torch.cuda.get_device_name(0))  # Should return your GPU name\n",
    "\n",
    "# print(torch.__version__)         # PyTorch version\n",
    "# print(torch.version.cuda)        # CUDA version PyTorch was built for\n",
    "# print(torch.backends.cudnn.version())  # cuDNN version"
   ]
  },
  {
   "cell_type": "markdown",
   "id": "c24bafac-48e6-4597-9f60-5f43f446cf31",
   "metadata": {},
   "source": [
    "### Load the Dataset"
   ]
  },
  {
   "cell_type": "code",
   "execution_count": 2,
   "id": "36f9def4-7602-451a-9c79-2910386af0db",
   "metadata": {},
   "outputs": [],
   "source": [
    "dataset = load_dataset(\"hakurei/open-instruct-v1\", split='train')"
   ]
  },
  {
   "cell_type": "code",
   "execution_count": 3,
   "id": "b21e70bc-dc09-44cf-9bb6-095d03c82466",
   "metadata": {},
   "outputs": [
    {
     "data": {
      "text/html": [
       "<div>\n",
       "<style scoped>\n",
       "    .dataframe tbody tr th:only-of-type {\n",
       "        vertical-align: middle;\n",
       "    }\n",
       "\n",
       "    .dataframe tbody tr th {\n",
       "        vertical-align: top;\n",
       "    }\n",
       "\n",
       "    .dataframe thead th {\n",
       "        text-align: right;\n",
       "    }\n",
       "</style>\n",
       "<table border=\"1\" class=\"dataframe\">\n",
       "  <thead>\n",
       "    <tr style=\"text-align: right;\">\n",
       "      <th></th>\n",
       "      <th>output</th>\n",
       "      <th>input</th>\n",
       "      <th>instruction</th>\n",
       "    </tr>\n",
       "  </thead>\n",
       "  <tbody>\n",
       "    <tr>\n",
       "      <th>457654</th>\n",
       "      <td>1. Stanford University\\n2. Massachusetts Insti...</td>\n",
       "      <td></td>\n",
       "      <td>Top 20 colleges produced successful founders a...</td>\n",
       "    </tr>\n",
       "    <tr>\n",
       "      <th>459891</th>\n",
       "      <td>​</td>\n",
       "      <td></td>\n",
       "      <td>Hi Joanne.\\nI would like to take the renovatio...</td>\n",
       "    </tr>\n",
       "    <tr>\n",
       "      <th>159410</th>\n",
       "      <td>The average price for a new pair of running sh...</td>\n",
       "      <td></td>\n",
       "      <td>What is the average price for a new pair of ru...</td>\n",
       "    </tr>\n",
       "    <tr>\n",
       "      <th>391368</th>\n",
       "      <td>- Lack of sex education in schools.\\n- Peer pr...</td>\n",
       "      <td></td>\n",
       "      <td>What do you think are the main reasons for tee...</td>\n",
       "    </tr>\n",
       "    <tr>\n",
       "      <th>145447</th>\n",
       "      <td>It is gratifying to hear that you have acquire...</td>\n",
       "      <td>Hey, it's cool you got a job and stuff, but li...</td>\n",
       "      <td>Rewrite the given paragraph using formal langu...</td>\n",
       "    </tr>\n",
       "    <tr>\n",
       "      <th>222951</th>\n",
       "      <td>(defn solve-problem [lst target]\\n  (-&gt; lst\\n ...</td>\n",
       "      <td></td>\n",
       "      <td>Write Clojure code to solve the following prob...</td>\n",
       "    </tr>\n",
       "    <tr>\n",
       "      <th>387513</th>\n",
       "      <td>I love you, my dear.</td>\n",
       "      <td></td>\n",
       "      <td>Write a poem about your life, or something els...</td>\n",
       "    </tr>\n",
       "    <tr>\n",
       "      <th>39024</th>\n",
       "      <td>Bread, Cake, Coffee, Milk</td>\n",
       "      <td>Cake, Coffee, Bread, Milk</td>\n",
       "      <td>Organize the given list alphabetically.</td>\n",
       "    </tr>\n",
       "    <tr>\n",
       "      <th>191769</th>\n",
       "      <td>The 'if' statement is used to check if the len...</td>\n",
       "      <td></td>\n",
       "      <td>In the following code, what is the purpose of ...</td>\n",
       "    </tr>\n",
       "    <tr>\n",
       "      <th>246831</th>\n",
       "      <td>Oil and water do not mix. Water is denser than...</td>\n",
       "      <td></td>\n",
       "      <td>Why does adding water to a hot pan of oil caus...</td>\n",
       "    </tr>\n",
       "    <tr>\n",
       "      <th>15261</th>\n",
       "      <td>Negative sentiment.</td>\n",
       "      <td>I'll just have to accept that some people are ...</td>\n",
       "      <td>Categorize the given statement into either pos...</td>\n",
       "    </tr>\n",
       "    <tr>\n",
       "      <th>287452</th>\n",
       "      <td>Her team went to harvest the rice.</td>\n",
       "      <td>Her team went to farm the field to gather the ...</td>\n",
       "      <td>Take the following text and delete or edit any...</td>\n",
       "    </tr>\n",
       "    <tr>\n",
       "      <th>251899</th>\n",
       "      <td>Golden Retrievers, Labrador Retriever, Poodle,...</td>\n",
       "      <td></td>\n",
       "      <td>Name five popular large dog breeds</td>\n",
       "    </tr>\n",
       "    <tr>\n",
       "      <th>165741</th>\n",
       "      <td>A natural solution you could use is a mixture ...</td>\n",
       "      <td></td>\n",
       "      <td>I'm trying to find a way to clean my carpet. D...</td>\n",
       "    </tr>\n",
       "    <tr>\n",
       "      <th>305637</th>\n",
       "      <td>&lt;html&gt;\\n    &lt;head&gt;\\n        &lt;title&gt;White House...</td>\n",
       "      <td>CNN News Summary: \"Today, the White House anno...</td>\n",
       "      <td>Using the data given, build a https://www.cnn....</td>\n",
       "    </tr>\n",
       "    <tr>\n",
       "      <th>107494</th>\n",
       "      <td>I was walking down the street when a man appro...</td>\n",
       "      <td></td>\n",
       "      <td>Write a story in which i'm the main character....</td>\n",
       "    </tr>\n",
       "    <tr>\n",
       "      <th>103293</th>\n",
       "      <td>I usually spend my weekends with my family. We...</td>\n",
       "      <td></td>\n",
       "      <td>Write a paragraph about what you do on the wee...</td>\n",
       "    </tr>\n",
       "    <tr>\n",
       "      <th>490026</th>\n",
       "      <td>To increase the battery life of your cell phon...</td>\n",
       "      <td></td>\n",
       "      <td>How can I increase the battery life of my cell...</td>\n",
       "    </tr>\n",
       "    <tr>\n",
       "      <th>454298</th>\n",
       "      <td>To inject code into a process in Windows 10 us...</td>\n",
       "      <td></td>\n",
       "      <td>How to inject code into a processin windows 10...</td>\n",
       "    </tr>\n",
       "    <tr>\n",
       "      <th>475473</th>\n",
       "      <td>The main difference between socialism and comm...</td>\n",
       "      <td></td>\n",
       "      <td>What is the difference between socialism and c...</td>\n",
       "    </tr>\n",
       "  </tbody>\n",
       "</table>\n",
       "</div>"
      ],
      "text/plain": [
       "                                                   output  \\\n",
       "457654  1. Stanford University\\n2. Massachusetts Insti...   \n",
       "459891                                                  ​   \n",
       "159410  The average price for a new pair of running sh...   \n",
       "391368  - Lack of sex education in schools.\\n- Peer pr...   \n",
       "145447  It is gratifying to hear that you have acquire...   \n",
       "222951  (defn solve-problem [lst target]\\n  (-> lst\\n ...   \n",
       "387513                               I love you, my dear.   \n",
       "39024                           Bread, Cake, Coffee, Milk   \n",
       "191769  The 'if' statement is used to check if the len...   \n",
       "246831  Oil and water do not mix. Water is denser than...   \n",
       "15261                                 Negative sentiment.   \n",
       "287452                 Her team went to harvest the rice.   \n",
       "251899  Golden Retrievers, Labrador Retriever, Poodle,...   \n",
       "165741  A natural solution you could use is a mixture ...   \n",
       "305637  <html>\\n    <head>\\n        <title>White House...   \n",
       "107494  I was walking down the street when a man appro...   \n",
       "103293  I usually spend my weekends with my family. We...   \n",
       "490026  To increase the battery life of your cell phon...   \n",
       "454298  To inject code into a process in Windows 10 us...   \n",
       "475473  The main difference between socialism and comm...   \n",
       "\n",
       "                                                    input  \\\n",
       "457654                                                      \n",
       "459891                                                      \n",
       "159410                                                      \n",
       "391368                                                      \n",
       "145447  Hey, it's cool you got a job and stuff, but li...   \n",
       "222951                                                      \n",
       "387513                                                      \n",
       "39024                           Cake, Coffee, Bread, Milk   \n",
       "191769                                                      \n",
       "246831                                                      \n",
       "15261   I'll just have to accept that some people are ...   \n",
       "287452  Her team went to farm the field to gather the ...   \n",
       "251899                                                      \n",
       "165741                                                      \n",
       "305637  CNN News Summary: \"Today, the White House anno...   \n",
       "107494                                                      \n",
       "103293                                                      \n",
       "490026                                                      \n",
       "454298                                                      \n",
       "475473                                                      \n",
       "\n",
       "                                              instruction  \n",
       "457654  Top 20 colleges produced successful founders a...  \n",
       "459891  Hi Joanne.\\nI would like to take the renovatio...  \n",
       "159410  What is the average price for a new pair of ru...  \n",
       "391368  What do you think are the main reasons for tee...  \n",
       "145447  Rewrite the given paragraph using formal langu...  \n",
       "222951  Write Clojure code to solve the following prob...  \n",
       "387513  Write a poem about your life, or something els...  \n",
       "39024             Organize the given list alphabetically.  \n",
       "191769  In the following code, what is the purpose of ...  \n",
       "246831  Why does adding water to a hot pan of oil caus...  \n",
       "15261   Categorize the given statement into either pos...  \n",
       "287452  Take the following text and delete or edit any...  \n",
       "251899                 Name five popular large dog breeds  \n",
       "165741  I'm trying to find a way to clean my carpet. D...  \n",
       "305637  Using the data given, build a https://www.cnn....  \n",
       "107494  Write a story in which i'm the main character....  \n",
       "103293  Write a paragraph about what you do on the wee...  \n",
       "490026  How can I increase the battery life of my cell...  \n",
       "454298  How to inject code into a processin windows 10...  \n",
       "475473  What is the difference between socialism and c...  "
      ]
     },
     "execution_count": 3,
     "metadata": {},
     "output_type": "execute_result"
    }
   ],
   "source": [
    "dataset.to_pandas().sample(20)"
   ]
  },
  {
   "cell_type": "markdown",
   "id": "27579286-ddea-46a5-8078-8decf532fc42",
   "metadata": {},
   "source": [
    "* Each record contains an input, output, instruction\n",
    "* Model will be trained on these instructions to get the output\n",
    "* We will create the prompt using these input, instruction and output"
   ]
  },
  {
   "cell_type": "code",
   "execution_count": 4,
   "id": "bc673f77-7678-4baa-837a-ffb4bb006f4d",
   "metadata": {},
   "outputs": [],
   "source": [
    "def preprocess(example):\n",
    "    example['prompt'] = f\"{example['instruction']} {example['input']} {example['output']}\"\n",
    "    return example\n",
    "\n",
    "def tokenize_dataset(dataset):\n",
    "    tokenize_dataset = dataset.map(lambda example: tokenizer(example['prompt'], truncation=True, max_length=128), batched=True, remove_columns=['prompt'])\n",
    "    return tokenize_dataset"
   ]
  },
  {
   "cell_type": "code",
   "execution_count": 5,
   "id": "18f30155-64fe-4637-83dc-b5b357d96df3",
   "metadata": {},
   "outputs": [
    {
     "data": {
      "text/plain": [
       "Dataset({\n",
       "    features: ['prompt'],\n",
       "    num_rows: 498813\n",
       "})"
      ]
     },
     "execution_count": 5,
     "metadata": {},
     "output_type": "execute_result"
    }
   ],
   "source": [
    "dataset = dataset.map(preprocess, remove_columns=['output', 'input', 'instruction'])\n",
    "dataset"
   ]
  },
  {
   "cell_type": "markdown",
   "id": "e9b08bea-6fce-4096-83fd-476e81447673",
   "metadata": {},
   "source": [
    "* Splitting train and test"
   ]
  },
  {
   "cell_type": "code",
   "execution_count": 6,
   "id": "865dcbe2-62e5-4e7c-94b2-3d22b76e2241",
   "metadata": {},
   "outputs": [
    {
     "data": {
      "text/plain": [
       "DatasetDict({\n",
       "    train: Dataset({\n",
       "        features: ['prompt'],\n",
       "        num_rows: 90000\n",
       "    })\n",
       "    test: Dataset({\n",
       "        features: ['prompt'],\n",
       "        num_rows: 10000\n",
       "    })\n",
       "})"
      ]
     },
     "execution_count": 6,
     "metadata": {},
     "output_type": "execute_result"
    }
   ],
   "source": [
    "dataset = dataset.shuffle(seed=42).select(range(100000)).train_test_split(test_size=0.1, seed=42)\n",
    "# dataset = dataset.shuffle(seed=42).train_test_split(test_size=0.1, seed=42)\n",
    "dataset"
   ]
  },
  {
   "cell_type": "code",
   "execution_count": 7,
   "id": "c08f7c4b-89b3-4d9c-a0b0-100274201434",
   "metadata": {},
   "outputs": [],
   "source": [
    "train_dataset = dataset[\"train\"]\n",
    "test_dataset = dataset[\"test\"]"
   ]
  },
  {
   "cell_type": "markdown",
   "id": "bd67dddb-dfb7-45ed-95a2-08af5e3967b2",
   "metadata": {},
   "source": [
    "### Loading the Model\n",
    "\n",
    "* GPT is a Causal Language Modeling (CLM) \n",
    "* CLM is a type of language model that predicts the next token in a sequence based on the preceding tokens, without access to future context\n",
    "* It uses a technique called Sliding window, Sliding window based part-of-speech tagging is used to part-of-speech tag a text\n",
    "* In this technique data is divided into fixed length of chuncks with some overlap, its helps while training with minimum amount of GPU usage as every token is tightly packed and not token wastage\n",
    "* It dont have the padding tokens but in our usage is different\n",
    "* So we define a seperate pad token at the end of the sentence"
   ]
  },
  {
   "cell_type": "code",
   "execution_count": 8,
   "id": "86c8fac7-ec17-4941-9469-a6ccbb00445a",
   "metadata": {},
   "outputs": [],
   "source": [
    "MODEL_NAME = \"microsoft/DialoGPT-medium\"\n",
    "\n",
    "tokenizer = AutoTokenizer.from_pretrained(MODEL_NAME)\n",
    "\n",
    "tokenizer.pad_token = tokenizer.eos_token"
   ]
  },
  {
   "cell_type": "code",
   "execution_count": 9,
   "id": "a50ffe16-45ba-4e76-a69b-5f08b3cf5692",
   "metadata": {},
   "outputs": [],
   "source": [
    "train_dataset = tokenize_dataset(train_dataset)\n",
    "test_dataset = tokenize_dataset(test_dataset)"
   ]
  },
  {
   "cell_type": "code",
   "execution_count": 10,
   "id": "33eeba59-fbaa-4b3d-875c-b116be6a2d93",
   "metadata": {},
   "outputs": [],
   "source": [
    "model = AutoModelForCausalLM.from_pretrained(MODEL_NAME)\n",
    "model.gradient_checkpointing_enable()"
   ]
  },
  {
   "cell_type": "markdown",
   "id": "28c1f7bb-58e6-440b-8dbe-6547bfa60627",
   "metadata": {},
   "source": [
    "## Training the GPT Model 🎯\n",
    "\n",
    "Now, we configure the training parameters and initiate the training process using our prepared datasets."
   ]
  },
  {
   "cell_type": "markdown",
   "id": "0a1bf89c-d1e4-466e-a532-072d3e9e43f6",
   "metadata": {},
   "source": [
    "To process the training data we need a data collator to do masking, hiding the data, loss function calculation, and creating batches for training, it need a tokenizer for pad examples. Since GPT is a generative model we will set the MLM as false"
   ]
  },
  {
   "cell_type": "code",
   "execution_count": 11,
   "id": "94e5cb70-8a27-480d-a56d-0ddb982d5813",
   "metadata": {},
   "outputs": [],
   "source": [
    "data_collator = DataCollatorForLanguageModeling(tokenizer=tokenizer, mlm=False)"
   ]
  },
  {
   "cell_type": "code",
   "execution_count": 12,
   "id": "dbca4c26-61cd-4a01-a522-2e077947cb76",
   "metadata": {},
   "outputs": [],
   "source": [
    "training_args = TrainingArguments(\n",
    "    output_dir=\"./models/dialogpt2-instruct\",\n",
    "    num_train_epochs=1,\n",
    "    per_device_eval_batch_size=1,\n",
    "    per_device_train_batch_size=1,\n",
    "    fp16=True,  # Enables mixed precision (saves memory)\n",
    "    # deepspeed=\"ds_config.json\"\n",
    ")"
   ]
  },
  {
   "cell_type": "markdown",
   "id": "37a5c473-8a9b-4de4-bbc8-5d7e63fba928",
   "metadata": {
    "scrolled": true
   },
   "source": [
    "Now creating the training Pipelines `Trainer` class will do that for us"
   ]
  },
  {
   "cell_type": "code",
   "execution_count": 13,
   "id": "65a3a4cb-41a4-4a10-b7fc-bcc7ab7fadae",
   "metadata": {},
   "outputs": [],
   "source": [
    "# trainer = Trainer(\n",
    "#     model=model,\n",
    "#     args=training_args,\n",
    "#     train_dataset=train_dataset,\n",
    "#     eval_dataset=test_dataset,\n",
    "#     data_collator=data_collator\n",
    "# )\n",
    "\n",
    "# Since it consumes more GPU and takes more time to train we will import the exact trained model in this dataset\n",
    "# trainer.train()"
   ]
  },
  {
   "cell_type": "code",
   "execution_count": 14,
   "id": "fbe9fc10-46f8-4b82-82d3-a03c8d92ccae",
   "metadata": {},
   "outputs": [],
   "source": [
    "trained_model_name = \"TheFuzzyScientist/diabloGPT_open-instruct\"\n",
    "trained_model = AutoModelForCausalLM.from_pretrained(trained_model_name).to(device)"
   ]
  },
  {
   "cell_type": "markdown",
   "id": "c9cf69fb-bb5a-43f4-b409-0d9eaa27b5c5",
   "metadata": {},
   "source": [
    "* We will tokenize the inputs and pass it to our model\n",
    "* We will set the max_length to 64 so our model will generate only 64 tokens which will be short and crisp\n",
    "* Since this is a generative model it will generate tokens instead of probability vectors, these tokens will be decoded into text using the same tokenizer"
   ]
  },
  {
   "cell_type": "code",
   "execution_count": 15,
   "id": "66d5dd6c-8e59-4a16-96b6-239d714a6d69",
   "metadata": {},
   "outputs": [],
   "source": [
    "def generate_text(prompt):\n",
    "    inputs = tokenizer.encode(prompt, return_tensors='pt').to(device)\n",
    "    outputs = trained_model.generate(inputs, max_length=64, pad_token_id=tokenizer.eos_token_id)\n",
    "    generated_text = tokenizer.decode(outputs[0], skip_special_tokens=True)\n",
    "    return generated_text[:generated_text.rfind('.')+1]"
   ]
  },
  {
   "cell_type": "code",
   "execution_count": 16,
   "id": "56a07acb-6420-43c7-8de6-15b41c1d764f",
   "metadata": {},
   "outputs": [],
   "source": [
    "prompt = \"Should I invest stocks?\""
   ]
  },
  {
   "cell_type": "code",
   "execution_count": 17,
   "id": "ba9c88de-f7f9-450e-81c2-3df5e694ad08",
   "metadata": {},
   "outputs": [
    {
     "name": "stderr",
     "output_type": "stream",
     "text": [
      "The attention mask is not set and cannot be inferred from input because pad token is same as eos token. As a consequence, you may observe unexpected behavior. Please pass your input's `attention_mask` to obtain reliable results.\n"
     ]
    },
    {
     "name": "stdout",
     "output_type": "stream",
     "text": [
      "What's the best way to cook chiken breast?  The best way to cook chiken breast is to season it with salt and pepper, then heat a pan over medium heat. Add a tablespoon of olive oil and cook for about 5 minutes, stirring occasionally.\n"
     ]
    }
   ],
   "source": [
    "print(generate_text(\"What's the best way to cook chiken breast?\"))"
   ]
  },
  {
   "cell_type": "code",
   "execution_count": 18,
   "id": "e6b87885-d8fb-4ac9-9c13-fcf29db2be0e",
   "metadata": {},
   "outputs": [
    {
     "name": "stdout",
     "output_type": "stream",
     "text": [
      "Should I invest stocks?  Yes, it is a good idea to invest in stocks. It is important to understand the risks associated with investing in stocks and to make sure that you are taking the necessary precautions. It is also important to understand the potential returns and to make sure that you are making the right investment.\n"
     ]
    }
   ],
   "source": [
    "print(generate_text(prompt))"
   ]
  },
  {
   "cell_type": "code",
   "execution_count": 19,
   "id": "6fed40c1-768a-4fe1-88ad-3e275e06cd69",
   "metadata": {},
   "outputs": [
    {
     "name": "stdout",
     "output_type": "stream",
     "text": [
      "I need a place to go for this summer vacation, what locations would you recommend.  I would recommend visiting the beach in San Diego, California. It is a popular destination for vacationers and has a great view of the ocean.\n"
     ]
    }
   ],
   "source": [
    "print(generate_text(\"I need a place to go for this summer vacation, what locations would you recommend\"))"
   ]
  },
  {
   "cell_type": "code",
   "execution_count": 20,
   "id": "2e135e66-08a7-46de-b5e5-d5513e94e44f",
   "metadata": {},
   "outputs": [
    {
     "data": {
      "text/plain": [
       "\"What's the fastest route from NY City to Boston?  The fastest route from New York City to Boston is by taking the New York City subway. The subway takes about 3 hours and 15 minutes to get from the city center to the Boston Common.\""
      ]
     },
     "execution_count": 20,
     "metadata": {},
     "output_type": "execute_result"
    }
   ],
   "source": [
    "generate_text(\"What's the fastest route from NY City to Boston?\")"
   ]
  },
  {
   "cell_type": "code",
   "execution_count": null,
   "id": "e733ba3b-eabe-4f2e-a778-da8e183bda3d",
   "metadata": {},
   "outputs": [],
   "source": []
  }
 ],
 "metadata": {
  "kernelspec": {
   "display_name": "Python 3 (ipykernel)",
   "language": "python",
   "name": "python3"
  },
  "language_info": {
   "codemirror_mode": {
    "name": "ipython",
    "version": 3
   },
   "file_extension": ".py",
   "mimetype": "text/x-python",
   "name": "python",
   "nbconvert_exporter": "python",
   "pygments_lexer": "ipython3",
   "version": "3.12.3"
  }
 },
 "nbformat": 4,
 "nbformat_minor": 5
}
