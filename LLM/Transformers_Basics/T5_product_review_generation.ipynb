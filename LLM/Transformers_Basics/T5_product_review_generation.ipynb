{
 "cells": [
  {
   "cell_type": "markdown",
   "id": "ceb58ea8-10e6-48e6-ac76-42275bc883ef",
   "metadata": {},
   "source": [
    "# 🤖 Fine-Tuning T5 for Product Review Generation"
   ]
  },
  {
   "cell_type": "markdown",
   "id": "1ce34b04-1812-4a5e-9f3a-4d1b6b451499",
   "metadata": {},
   "source": [
    "### Importing Libraries"
   ]
  },
  {
   "cell_type": "code",
   "execution_count": 1,
   "id": "37c842ae-83cc-4675-8a54-697fa7d58a44",
   "metadata": {},
   "outputs": [
    {
     "data": {
      "text/plain": [
       "device(type='cuda')"
      ]
     },
     "execution_count": 1,
     "metadata": {},
     "output_type": "execute_result"
    }
   ],
   "source": [
    "import numpy as np\n",
    "import pandas as pd\n",
    "from datasets import load_dataset, Dataset\n",
    "from transformers import T5Tokenizer, T5ForConditionalGeneration, Trainer, TrainingArguments\n",
    "from transformers import DataCollatorWithPadding\n",
    "import torch\n",
    "import os\n",
    "\n",
    "os.environ[\"PYTORCH_CUDA_ALLOC_CONF\"] = \"expandable_segments:True\"\n",
    "# os.environ[\"PYTORCH_CUDA_ALLOC_CONF\"] = \"max_split_size_mb:64\"\n",
    "\n",
    "torch.cuda.empty_cache()  # Frees unreferenced memory\n",
    "torch.cuda.ipc_collect()  # Collects inter-process memory\n",
    "\n",
    "device = torch.device(\"cuda\" if torch.cuda.is_available() else \"cpu\")\n",
    "device"
   ]
  },
  {
   "cell_type": "markdown",
   "id": "35794a58-0791-4e50-82a7-810df00ac449",
   "metadata": {},
   "source": [
    "### Loading the dataset\n",
    "\n",
    "Our journey begins with preparing our dataset. We'll use a subset of Amazon product reviews for our analysis and training.\n",
    "\n",
    "Loading and Merging Datasets\n",
    "We replace the unavailable \"amazon_us_reviews\" with a similar dataset and merge metadata with review data."
   ]
  },
  {
   "cell_type": "code",
   "execution_count": 2,
   "id": "d352683b-bc67-49c2-b2d7-3055dfef8830",
   "metadata": {},
   "outputs": [
    {
     "data": {
      "text/html": [
       "<div>\n",
       "<style scoped>\n",
       "    .dataframe tbody tr th:only-of-type {\n",
       "        vertical-align: middle;\n",
       "    }\n",
       "\n",
       "    .dataframe tbody tr th {\n",
       "        vertical-align: top;\n",
       "    }\n",
       "\n",
       "    .dataframe thead th {\n",
       "        text-align: right;\n",
       "    }\n",
       "</style>\n",
       "<table border=\"1\" class=\"dataframe\">\n",
       "  <thead>\n",
       "    <tr style=\"text-align: right;\">\n",
       "      <th></th>\n",
       "      <th>product_title</th>\n",
       "      <th>star_rating</th>\n",
       "      <th>review_body</th>\n",
       "      <th>verified_purchase</th>\n",
       "    </tr>\n",
       "  </thead>\n",
       "  <tbody>\n",
       "    <tr>\n",
       "      <th>4844282</th>\n",
       "      <td>ESET Smart Security 2014 Edition - 3 Users</td>\n",
       "      <td>3.0</td>\n",
       "      <td>I've used eset for a long time and have been h...</td>\n",
       "      <td>True</td>\n",
       "    </tr>\n",
       "    <tr>\n",
       "      <th>83854</th>\n",
       "      <td>Flight Tracker Plus</td>\n",
       "      <td>1.0</td>\n",
       "      <td>All I wanted was a way to track a flight in re...</td>\n",
       "      <td>True</td>\n",
       "    </tr>\n",
       "    <tr>\n",
       "      <th>1663526</th>\n",
       "      <td>Cogs</td>\n",
       "      <td>1.0</td>\n",
       "      <td>The game needs permission to &amp;#34;run at start...</td>\n",
       "      <td>True</td>\n",
       "    </tr>\n",
       "    <tr>\n",
       "      <th>4243990</th>\n",
       "      <td>Subway Surfers</td>\n",
       "      <td>4.0</td>\n",
       "      <td>It's really fun and addictive but whenever I b...</td>\n",
       "      <td>True</td>\n",
       "    </tr>\n",
       "    <tr>\n",
       "      <th>8257</th>\n",
       "      <td>UniWar</td>\n",
       "      <td>5.0</td>\n",
       "      <td>this game is well worth it. don't miss this on...</td>\n",
       "      <td>True</td>\n",
       "    </tr>\n",
       "    <tr>\n",
       "      <th>...</th>\n",
       "      <td>...</td>\n",
       "      <td>...</td>\n",
       "      <td>...</td>\n",
       "      <td>...</td>\n",
       "    </tr>\n",
       "    <tr>\n",
       "      <th>1921480</th>\n",
       "      <td>Ultimate Jewel</td>\n",
       "      <td>5.0</td>\n",
       "      <td>This is the best gem matching game I've played...</td>\n",
       "      <td>True</td>\n",
       "    </tr>\n",
       "    <tr>\n",
       "      <th>859834</th>\n",
       "      <td>SHOWTIME</td>\n",
       "      <td>1.0</td>\n",
       "      <td>There isn't anything that I am interested in v...</td>\n",
       "      <td>True</td>\n",
       "    </tr>\n",
       "    <tr>\n",
       "      <th>589032</th>\n",
       "      <td>YouTube</td>\n",
       "      <td>5.0</td>\n",
       "      <td>What I liked about it was you could search lik...</td>\n",
       "      <td>True</td>\n",
       "    </tr>\n",
       "    <tr>\n",
       "      <th>2086682</th>\n",
       "      <td>NBC News: Breaking News, US News &amp; Live Video</td>\n",
       "      <td>3.0</td>\n",
       "      <td>It's a really good and useful app when it work...</td>\n",
       "      <td>True</td>\n",
       "    </tr>\n",
       "    <tr>\n",
       "      <th>3440529</th>\n",
       "      <td>Quicken Deluxe 2018 – 27-Month Personal Financ...</td>\n",
       "      <td>5.0</td>\n",
       "      <td>Have been using Quicken for over 25 years.  Th...</td>\n",
       "      <td>True</td>\n",
       "    </tr>\n",
       "  </tbody>\n",
       "</table>\n",
       "<p>100000 rows × 4 columns</p>\n",
       "</div>"
      ],
      "text/plain": [
       "                                             product_title  star_rating  \\\n",
       "4844282         ESET Smart Security 2014 Edition - 3 Users          3.0   \n",
       "83854                                  Flight Tracker Plus          1.0   \n",
       "1663526                                               Cogs          1.0   \n",
       "4243990                                     Subway Surfers          4.0   \n",
       "8257                                                UniWar          5.0   \n",
       "...                                                    ...          ...   \n",
       "1921480                                     Ultimate Jewel          5.0   \n",
       "859834                                            SHOWTIME          1.0   \n",
       "589032                                             YouTube          5.0   \n",
       "2086682      NBC News: Breaking News, US News & Live Video          3.0   \n",
       "3440529  Quicken Deluxe 2018 – 27-Month Personal Financ...          5.0   \n",
       "\n",
       "                                               review_body  verified_purchase  \n",
       "4844282  I've used eset for a long time and have been h...               True  \n",
       "83854    All I wanted was a way to track a flight in re...               True  \n",
       "1663526  The game needs permission to &#34;run at start...               True  \n",
       "4243990  It's really fun and addictive but whenever I b...               True  \n",
       "8257     this game is well worth it. don't miss this on...               True  \n",
       "...                                                    ...                ...  \n",
       "1921480  This is the best gem matching game I've played...               True  \n",
       "859834   There isn't anything that I am interested in v...               True  \n",
       "589032   What I liked about it was you could search lik...               True  \n",
       "2086682  It's a really good and useful app when it work...               True  \n",
       "3440529  Have been using Quicken for over 25 years.  Th...               True  \n",
       "\n",
       "[100000 rows x 4 columns]"
      ]
     },
     "execution_count": 2,
     "metadata": {},
     "output_type": "execute_result"
    }
   ],
   "source": [
    "# \"Electronics\" you can also choose electronics like in the lesson, but the dataset is bigger and loading will take longer\n",
    "dataset_category = \"Software\"\n",
    "\n",
    "meta_ds = load_dataset(\"McAuley-Lab/Amazon-Reviews-2023\", f\"raw_meta_{dataset_category}\", split='full').to_pandas()[['parent_asin', 'title']]\n",
    "review_ds = load_dataset(\"McAuley-Lab/Amazon-Reviews-2023\", f\"raw_review_{dataset_category}\", split='full').to_pandas()[['parent_asin', 'rating', 'text', 'verified_purchase']]\n",
    "\n",
    "ds = meta_ds.merge(review_ds, on='parent_asin', how='inner').drop(columns=\"parent_asin\")\n",
    "ds = ds.rename(columns={\"rating\":\"star_rating\", \"title\":\"product_title\", \"text\":\"review_body\"})\n",
    "\n",
    "ds = ds[ds['verified_purchase'] & (ds['review_body'].map(len) > 100)].sample(100_000)\n",
    "ds"
   ]
  },
  {
   "cell_type": "markdown",
   "id": "3678224f-0d18-4110-a74d-290f81272247",
   "metadata": {},
   "source": [
    "Encoding and Splitting Next, we encode our star_rating column and split our dataset into training and testing sets."
   ]
  },
  {
   "cell_type": "code",
   "execution_count": 3,
   "id": "d0293a72-3060-48f9-8cd4-6021337fe5fa",
   "metadata": {},
   "outputs": [
    {
     "data": {
      "application/vnd.jupyter.widget-view+json": {
       "model_id": "71d0a8be08c748038a7c84b59ccc7112",
       "version_major": 2,
       "version_minor": 0
      },
      "text/plain": [
       "Stringifying the column:   0%|          | 0/100000 [00:00<?, ? examples/s]"
      ]
     },
     "metadata": {},
     "output_type": "display_data"
    },
    {
     "data": {
      "application/vnd.jupyter.widget-view+json": {
       "model_id": "e493e084deff47518783753aaf7053e7",
       "version_major": 2,
       "version_minor": 0
      },
      "text/plain": [
       "Casting to class labels:   0%|          | 0/100000 [00:00<?, ? examples/s]"
      ]
     },
     "metadata": {},
     "output_type": "display_data"
    },
    {
     "name": "stdout",
     "output_type": "stream",
     "text": [
      "{'product_title': 'Paperama', 'star_rating': 4, 'review_body': '...and my 6 year old is better at it then I am! Fun game.  Who knew virtual paper-folding could be so enthralling!', 'verified_purchase': True, '__index_level_0__': 79214}\n"
     ]
    }
   ],
   "source": [
    "# Loading the dataset\n",
    "dataset = Dataset.from_pandas(ds)\n",
    "\n",
    "# encoding the 'star_rating' column\n",
    "dataset = dataset.class_encode_column(\"star_rating\")\n",
    "\n",
    "# Splitting the dataset into training and testing sets\n",
    "dataset = dataset.train_test_split(test_size=0.1, seed=42, stratify_by_column=\"star_rating\")\n",
    "\n",
    "train_dataset = dataset['train']\n",
    "test_dataset = dataset['test']\n",
    "print(train_dataset[0])"
   ]
  },
  {
   "cell_type": "markdown",
   "id": "b984d6a2-3a19-4964-9f64-42541bbaecfc",
   "metadata": {},
   "source": [
    "### Model Preparation 🛠️\n",
    "Now, let's prepare our T5 model for training.\n",
    "\n",
    "#### Tokenizer Initialization"
   ]
  },
  {
   "cell_type": "code",
   "execution_count": 4,
   "id": "494caa8c-f355-4c62-84e1-703b467e39ee",
   "metadata": {},
   "outputs": [
    {
     "name": "stderr",
     "output_type": "stream",
     "text": [
      "You are using the default legacy behaviour of the <class 'transformers.models.t5.tokenization_t5.T5Tokenizer'>. This is expected, and simply means that the `legacy` (previous) behavior will be used so nothing changes for you. If you want to use the new behaviour, set `legacy=False`. This should only be set if you understand what it means, and thoroughly read the reason why this was added as explained in https://github.com/huggingface/transformers/pull/24565\n"
     ]
    }
   ],
   "source": [
    "MODEL_NAME = \"t5-base\"\n",
    "tokenizer = T5Tokenizer.from_pretrained(MODEL_NAME)"
   ]
  },
  {
   "cell_type": "markdown",
   "id": "ba893fe2-b4c9-4eda-b294-70dcb2afe671",
   "metadata": {},
   "source": [
    "### Data Preprocessing Function\n",
    "We define a function to preprocess our data, preparing it for the model."
   ]
  },
  {
   "cell_type": "code",
   "execution_count": 5,
   "id": "12354119-f22a-49d2-b033-b560ea669af9",
   "metadata": {},
   "outputs": [],
   "source": [
    "# Method for Preprocessing the inputs data\n",
    "def preprocess_data(examples):\n",
    "    examples['prompt'] = [f\"review: {product_title}, {star_rating} Stars!\" for product_title, star_rating in zip(examples[\"product_title\"], examples[\"star_rating\"])]\n",
    "    examples['response'] = [f\"{review_body}\" for review_body in examples[\"review_body\"]]\n",
    "\n",
    "    inputs = tokenizer(examples['prompt'], padding='max_length', truncation=True, max_length=128)\n",
    "    targets = tokenizer(examples['response'], padding='max_length', truncation=True, max_length=128)\n",
    "\n",
    "    # Set -100 at the padding positions of target tokens\n",
    "    target_input_ids = []\n",
    "    for ids in targets['input_ids']:\n",
    "        target_input_ids.append([id if id!=tokenizer.pad_token_id else -100 for id in ids])\n",
    "\n",
    "    inputs.update({'labels': target_input_ids})\n",
    "    return inputs"
   ]
  },
  {
   "cell_type": "markdown",
   "id": "46dd937a-8a07-48e6-b123-db749900e871",
   "metadata": {},
   "source": [
    "### Preprocessing the Datasets"
   ]
  },
  {
   "cell_type": "code",
   "execution_count": 6,
   "id": "4604c1a4-76b1-4adc-bba9-5d020c525a09",
   "metadata": {},
   "outputs": [
    {
     "data": {
      "application/vnd.jupyter.widget-view+json": {
       "model_id": "4f70fb96884e45fabb96b33a7cf4879a",
       "version_major": 2,
       "version_minor": 0
      },
      "text/plain": [
       "Map:   0%|          | 0/90000 [00:00<?, ? examples/s]"
      ]
     },
     "metadata": {},
     "output_type": "display_data"
    },
    {
     "data": {
      "application/vnd.jupyter.widget-view+json": {
       "model_id": "e2ada157346f4ab1bdd2883a53d454bd",
       "version_major": 2,
       "version_minor": 0
      },
      "text/plain": [
       "Map:   0%|          | 0/10000 [00:00<?, ? examples/s]"
      ]
     },
     "metadata": {},
     "output_type": "display_data"
    }
   ],
   "source": [
    "train_dataset = train_dataset.map(preprocess_data, batched=True)\n",
    "test_dataset = test_dataset.map(preprocess_data, batched=True)"
   ]
  },
  {
   "cell_type": "markdown",
   "id": "2c68d7de-50f9-442e-9d74-21b54a00a6ed",
   "metadata": {},
   "source": [
    "We need a Datacollator like GPT for training T5 just like GPT"
   ]
  },
  {
   "cell_type": "code",
   "execution_count": 7,
   "id": "331a4d9e-a422-4e6c-9c54-16c2c0d3a7ca",
   "metadata": {},
   "outputs": [],
   "source": [
    "data_collator = DataCollatorWithPadding(tokenizer=tokenizer)"
   ]
  },
  {
   "cell_type": "markdown",
   "id": "f7f34688-bf78-43ee-b2a0-16ee9963decc",
   "metadata": {},
   "source": [
    "### Fine-Tuning the Model 🎯\n",
    "With our data ready, we proceed to fine-tune the T5 model on our dataset."
   ]
  },
  {
   "cell_type": "code",
   "execution_count": 8,
   "id": "6360d2f4-c50d-4f77-b90a-491958be6196",
   "metadata": {},
   "outputs": [],
   "source": [
    "model = T5ForConditionalGeneration.from_pretrained(MODEL_NAME)\n",
    "model.gradient_checkpointing_enable()"
   ]
  },
  {
   "cell_type": "markdown",
   "id": "24044564-0bd9-44de-9923-71c894deacf9",
   "metadata": {},
   "source": [
    "We will prepare our class for conditional generation (i.e.) starting from an input our T5 model is expected to give a seperate output\n",
    "\n",
    "In our case starting from the product title and star rating it should give full review, we will train it to do "
   ]
  },
  {
   "cell_type": "code",
   "execution_count": 9,
   "id": "dd8f89af-7f55-46cf-98de-dc096c5938d3",
   "metadata": {},
   "outputs": [],
   "source": [
    "TRAINING_OUTPUT = \"./t5_fine_tuned_reviews\"\n",
    "\n",
    "training_args = TrainingArguments(\n",
    "    output_dir=TRAINING_OUTPUT,\n",
    "    num_train_epochs=3, \n",
    "    per_device_train_batch_size=1,\n",
    "    per_device_eval_batch_size=1,\n",
    "    save_strategy='epoch',\n",
    "    gradient_checkpointing=True,\n",
    "    fp16=True,\n",
    "    logging_steps=10,\n",
    "    eval_steps=50,\n",
    "    save_total_limit=2\n",
    ")"
   ]
  },
  {
   "cell_type": "code",
   "execution_count": 10,
   "id": "ca8e947d-da01-4a8f-8042-9914fdf39fd5",
   "metadata": {},
   "outputs": [],
   "source": [
    "# trainer = Trainer(\n",
    "#     args=training_args,\n",
    "#     model=model,\n",
    "#     train_dataset=train_dataset,\n",
    "#     data_collator=data_collator\n",
    "# )\n",
    "# # Since it consumes more GPU and takes more time to train we will import the exact trained model in this dataset\n",
    "# trainer.train()\n",
    "# Saving and Loading the Model 💾\n",
    "# After training, we save our model for later use and demonstrate how to load it.\n",
    "\n",
    "# trainer.save_model(TRAINING_OUTPUT)"
   ]
  },
  {
   "cell_type": "code",
   "execution_count": 11,
   "id": "6faa71be-74b9-4d4e-9125-a9460fc1455d",
   "metadata": {},
   "outputs": [],
   "source": [
    "# Loading the pretrained model from hugging face for this problem\n",
    "model = T5ForConditionalGeneration.from_pretrained(\"TheFuzzyScientist/T5-base_Amazon-product-reviews\").to(device)"
   ]
  },
  {
   "cell_type": "markdown",
   "id": "ad6d4de4-3c66-4807-9046-14e79780e3c5",
   "metadata": {},
   "source": [
    "### Generating Reviews ✍️\n",
    "Finally, we use our fine-tuned model to generate reviews for new products."
   ]
  },
  {
   "cell_type": "code",
   "execution_count": 37,
   "id": "6aade0de-da72-461a-b9a0-84101d6a0f9b",
   "metadata": {},
   "outputs": [],
   "source": [
    "def generate_review(text):\n",
    "    inputs = tokenizer(\"review \"+ text, return_tensors='pt', max_length=512, padding='max_length', truncation=True).to(device)\n",
    "    # no_repeat_ngram_size will restrict the model a single word to appear 3 or more times in generated output\n",
    "    # num_beam will allow the model to think longer time before the generating the output, it allow the model to explore more possibilities and chosing the output\n",
    "    # early_stopping will give shorter response if the model thinks its good ennough\n",
    "    outputs = model.generate(inputs['input_ids'], max_length=1024, no_repeat_ngram_size=3, num_beams=6, early_stopping=True)\n",
    "    # Decode the output and skip the special tokens\n",
    "    review = tokenizer.decode(outputs[0], skip_special_tokens=True)\n",
    "\n",
    "    return review"
   ]
  },
  {
   "cell_type": "code",
   "execution_count": 38,
   "id": "b05f21f3-71c8-47f8-9c24-aa9ed69828bd",
   "metadata": {
    "scrolled": true
   },
   "outputs": [
    {
     "data": {
      "text/plain": [
       "{'product_title': 'Goat Evolution',\n",
       " 'star_rating': 4,\n",
       " 'review_body': \"This game is so cool! I love it it's awesome I have another game like a called Cal volution another called platypus of evolution and they're really fun to . Playing this game can show you the things of God about goats also known as the weird stuff by the way if you don't play this game exactly yeah and you're looking their ratings to see what's in the see anything helpful that could help you when you're playing this game if you want to download it just telling you the fifth thing for either the fifth or the six I forgot one of the go looks like a dog or not a dog they look like dingoes so if you want to play this game it's really fun see you should find it helpful right that put the check on it helpful we don't think that will don't check it helpful .\",\n",
       " 'verified_purchase': True,\n",
       " '__index_level_0__': 2559599,\n",
       " 'prompt': 'review: Goat Evolution, 4 Stars!',\n",
       " 'response': \"This game is so cool! I love it it's awesome I have another game like a called Cal volution another called platypus of evolution and they're really fun to . Playing this game can show you the things of God about goats also known as the weird stuff by the way if you don't play this game exactly yeah and you're looking their ratings to see what's in the see anything helpful that could help you when you're playing this game if you want to download it just telling you the fifth thing for either the fifth or the six I forgot one of the go looks like a dog or not a dog they look like dingoes so if you want to play this game it's really fun see you should find it helpful right that put the check on it helpful we don't think that will don't check it helpful .\",\n",
       " 'input_ids': [1132,\n",
       "  10,\n",
       "  1263,\n",
       "  144,\n",
       "  21625,\n",
       "  6,\n",
       "  314,\n",
       "  2042,\n",
       "  7,\n",
       "  55,\n",
       "  1,\n",
       "  0,\n",
       "  0,\n",
       "  0,\n",
       "  0,\n",
       "  0,\n",
       "  0,\n",
       "  0,\n",
       "  0,\n",
       "  0,\n",
       "  0,\n",
       "  0,\n",
       "  0,\n",
       "  0,\n",
       "  0,\n",
       "  0,\n",
       "  0,\n",
       "  0,\n",
       "  0,\n",
       "  0,\n",
       "  0,\n",
       "  0,\n",
       "  0,\n",
       "  0,\n",
       "  0,\n",
       "  0,\n",
       "  0,\n",
       "  0,\n",
       "  0,\n",
       "  0,\n",
       "  0,\n",
       "  0,\n",
       "  0,\n",
       "  0,\n",
       "  0,\n",
       "  0,\n",
       "  0,\n",
       "  0,\n",
       "  0,\n",
       "  0,\n",
       "  0,\n",
       "  0,\n",
       "  0,\n",
       "  0,\n",
       "  0,\n",
       "  0,\n",
       "  0,\n",
       "  0,\n",
       "  0,\n",
       "  0,\n",
       "  0,\n",
       "  0,\n",
       "  0,\n",
       "  0,\n",
       "  0,\n",
       "  0,\n",
       "  0,\n",
       "  0,\n",
       "  0,\n",
       "  0,\n",
       "  0,\n",
       "  0,\n",
       "  0,\n",
       "  0,\n",
       "  0,\n",
       "  0,\n",
       "  0,\n",
       "  0,\n",
       "  0,\n",
       "  0,\n",
       "  0,\n",
       "  0,\n",
       "  0,\n",
       "  0,\n",
       "  0,\n",
       "  0,\n",
       "  0,\n",
       "  0,\n",
       "  0,\n",
       "  0,\n",
       "  0,\n",
       "  0,\n",
       "  0,\n",
       "  0,\n",
       "  0,\n",
       "  0,\n",
       "  0,\n",
       "  0,\n",
       "  0,\n",
       "  0,\n",
       "  0,\n",
       "  0,\n",
       "  0,\n",
       "  0,\n",
       "  0,\n",
       "  0,\n",
       "  0,\n",
       "  0,\n",
       "  0,\n",
       "  0,\n",
       "  0,\n",
       "  0,\n",
       "  0,\n",
       "  0,\n",
       "  0,\n",
       "  0,\n",
       "  0,\n",
       "  0,\n",
       "  0,\n",
       "  0,\n",
       "  0,\n",
       "  0,\n",
       "  0,\n",
       "  0,\n",
       "  0,\n",
       "  0,\n",
       "  0,\n",
       "  0],\n",
       " 'attention_mask': [1,\n",
       "  1,\n",
       "  1,\n",
       "  1,\n",
       "  1,\n",
       "  1,\n",
       "  1,\n",
       "  1,\n",
       "  1,\n",
       "  1,\n",
       "  1,\n",
       "  0,\n",
       "  0,\n",
       "  0,\n",
       "  0,\n",
       "  0,\n",
       "  0,\n",
       "  0,\n",
       "  0,\n",
       "  0,\n",
       "  0,\n",
       "  0,\n",
       "  0,\n",
       "  0,\n",
       "  0,\n",
       "  0,\n",
       "  0,\n",
       "  0,\n",
       "  0,\n",
       "  0,\n",
       "  0,\n",
       "  0,\n",
       "  0,\n",
       "  0,\n",
       "  0,\n",
       "  0,\n",
       "  0,\n",
       "  0,\n",
       "  0,\n",
       "  0,\n",
       "  0,\n",
       "  0,\n",
       "  0,\n",
       "  0,\n",
       "  0,\n",
       "  0,\n",
       "  0,\n",
       "  0,\n",
       "  0,\n",
       "  0,\n",
       "  0,\n",
       "  0,\n",
       "  0,\n",
       "  0,\n",
       "  0,\n",
       "  0,\n",
       "  0,\n",
       "  0,\n",
       "  0,\n",
       "  0,\n",
       "  0,\n",
       "  0,\n",
       "  0,\n",
       "  0,\n",
       "  0,\n",
       "  0,\n",
       "  0,\n",
       "  0,\n",
       "  0,\n",
       "  0,\n",
       "  0,\n",
       "  0,\n",
       "  0,\n",
       "  0,\n",
       "  0,\n",
       "  0,\n",
       "  0,\n",
       "  0,\n",
       "  0,\n",
       "  0,\n",
       "  0,\n",
       "  0,\n",
       "  0,\n",
       "  0,\n",
       "  0,\n",
       "  0,\n",
       "  0,\n",
       "  0,\n",
       "  0,\n",
       "  0,\n",
       "  0,\n",
       "  0,\n",
       "  0,\n",
       "  0,\n",
       "  0,\n",
       "  0,\n",
       "  0,\n",
       "  0,\n",
       "  0,\n",
       "  0,\n",
       "  0,\n",
       "  0,\n",
       "  0,\n",
       "  0,\n",
       "  0,\n",
       "  0,\n",
       "  0,\n",
       "  0,\n",
       "  0,\n",
       "  0,\n",
       "  0,\n",
       "  0,\n",
       "  0,\n",
       "  0,\n",
       "  0,\n",
       "  0,\n",
       "  0,\n",
       "  0,\n",
       "  0,\n",
       "  0,\n",
       "  0,\n",
       "  0,\n",
       "  0,\n",
       "  0,\n",
       "  0,\n",
       "  0,\n",
       "  0,\n",
       "  0],\n",
       " 'labels': [100,\n",
       "  467,\n",
       "  19,\n",
       "  78,\n",
       "  1633,\n",
       "  55,\n",
       "  27,\n",
       "  333,\n",
       "  34,\n",
       "  34,\n",
       "  31,\n",
       "  7,\n",
       "  2879,\n",
       "  27,\n",
       "  43,\n",
       "  430,\n",
       "  467,\n",
       "  114,\n",
       "  3,\n",
       "  9,\n",
       "  718,\n",
       "  3104,\n",
       "  3,\n",
       "  24817,\n",
       "  430,\n",
       "  718,\n",
       "  5350,\n",
       "  63,\n",
       "  7800,\n",
       "  13,\n",
       "  9009,\n",
       "  11,\n",
       "  79,\n",
       "  31,\n",
       "  60,\n",
       "  310,\n",
       "  694,\n",
       "  12,\n",
       "  3,\n",
       "  5,\n",
       "  2911,\n",
       "  53,\n",
       "  48,\n",
       "  467,\n",
       "  54,\n",
       "  504,\n",
       "  25,\n",
       "  8,\n",
       "  378,\n",
       "  13,\n",
       "  601,\n",
       "  81,\n",
       "  18174,\n",
       "  7,\n",
       "  92,\n",
       "  801,\n",
       "  38,\n",
       "  8,\n",
       "  10088,\n",
       "  2005,\n",
       "  57,\n",
       "  8,\n",
       "  194,\n",
       "  3,\n",
       "  99,\n",
       "  25,\n",
       "  278,\n",
       "  31,\n",
       "  17,\n",
       "  577,\n",
       "  48,\n",
       "  467,\n",
       "  1776,\n",
       "  17945,\n",
       "  11,\n",
       "  25,\n",
       "  31,\n",
       "  60,\n",
       "  479,\n",
       "  70,\n",
       "  9712,\n",
       "  12,\n",
       "  217,\n",
       "  125,\n",
       "  31,\n",
       "  7,\n",
       "  16,\n",
       "  8,\n",
       "  217,\n",
       "  959,\n",
       "  2690,\n",
       "  24,\n",
       "  228,\n",
       "  199,\n",
       "  25,\n",
       "  116,\n",
       "  25,\n",
       "  31,\n",
       "  60,\n",
       "  1556,\n",
       "  48,\n",
       "  467,\n",
       "  3,\n",
       "  99,\n",
       "  25,\n",
       "  241,\n",
       "  12,\n",
       "  946,\n",
       "  34,\n",
       "  131,\n",
       "  5188,\n",
       "  25,\n",
       "  8,\n",
       "  8486,\n",
       "  589,\n",
       "  21,\n",
       "  893,\n",
       "  8,\n",
       "  8486,\n",
       "  42,\n",
       "  8,\n",
       "  1296,\n",
       "  27,\n",
       "  15687,\n",
       "  80,\n",
       "  13,\n",
       "  8,\n",
       "  1]}"
      ]
     },
     "execution_count": 38,
     "metadata": {},
     "output_type": "execute_result"
    }
   ],
   "source": [
    "test_dataset[0]"
   ]
  },
  {
   "cell_type": "code",
   "execution_count": 39,
   "id": "36717e53-de6f-4882-bf5b-d77132ea1779",
   "metadata": {},
   "outputs": [],
   "source": [
    "# Testing the model\n",
    "random_test_products = test_dataset.shuffle(seed=42).select(range(10))[\"product_title\"]"
   ]
  },
  {
   "cell_type": "code",
   "execution_count": 40,
   "id": "8ef168a6-85f8-4430-9212-72095b54d3c6",
   "metadata": {},
   "outputs": [
    {
     "data": {
      "text/plain": [
       "['Picus Wav Player Trial Unlocker',\n",
       " 'Nyan Cat!',\n",
       " 'SeekDroid',\n",
       " 'Hoyle Card Puzzle & Board Games',\n",
       " 'Parallels Desktop 7 for Mac [Old Version]',\n",
       " 'Temple Run',\n",
       " 'Mirrors of Albion',\n",
       " 'Toilet Paper - Speed Challenge',\n",
       " 'Funimation',\n",
       " 'Amazon Alexa']"
      ]
     },
     "execution_count": 40,
     "metadata": {},
     "output_type": "execute_result"
    }
   ],
   "source": [
    "random_test_products"
   ]
  },
  {
   "cell_type": "code",
   "execution_count": 41,
   "id": "74d04d12-31ca-417e-93b2-e52864e51026",
   "metadata": {},
   "outputs": [
    {
     "name": "stdout",
     "output_type": "stream",
     "text": [
      "Worked great for a couple of months before it stopped working. Now it's time to get back to work.\n"
     ]
    }
   ],
   "source": [
    "print(generate_review(random_test_products[0]+ \", 3 Stars!\"))"
   ]
  },
  {
   "cell_type": "code",
   "execution_count": 42,
   "id": "e8683775-2b65-4f98-8993-84ac7388f27c",
   "metadata": {},
   "outputs": [
    {
     "name": "stdout",
     "output_type": "stream",
     "text": [
      "br />Also, if you're looking for a \"smartphone\", you'll want to look no further.\n"
     ]
    }
   ],
   "source": [
    "print(generate_review(random_test_products[5]+ \", 5 Stars!\"))"
   ]
  },
  {
   "cell_type": "code",
   "execution_count": 43,
   "id": "f18d4a0c-af48-4d95-a125-0df6b289a9b2",
   "metadata": {},
   "outputs": [
    {
     "name": "stdout",
     "output_type": "stream",
     "text": [
      "Great product, great service, great customer service. I would recommend this product to anyone looking for a great product.\n"
     ]
    }
   ],
   "source": [
    "print(generate_review(random_test_products[2]+ \", 4 Stars!\"))"
   ]
  },
  {
   "cell_type": "code",
   "execution_count": 44,
   "id": "e9bc74b7-dd6a-408d-b3a7-54d7465a1d2f",
   "metadata": {},
   "outputs": [
    {
     "name": "stdout",
     "output_type": "stream",
     "text": [
      "So far, so good. I haven't had any problems with this product.\n"
     ]
    }
   ],
   "source": [
    "print(generate_review(random_test_products[9]+ \", 5 Stars!\"))"
   ]
  },
  {
   "cell_type": "code",
   "execution_count": 45,
   "id": "ca070795-f0fe-4c18-b63b-8cc830b6528e",
   "metadata": {},
   "outputs": [
    {
     "name": "stdout",
     "output_type": "stream",
     "text": [
      "Worked great for a few months before it stopped working. Now it's time to get back to work.\n"
     ]
    }
   ],
   "source": [
    "print(generate_review(random_test_products[5]+ \", 1 Stars!\"))"
   ]
  },
  {
   "cell_type": "code",
   "execution_count": null,
   "id": "4e46d171-b4fa-4ea9-8052-0ba92e84a98d",
   "metadata": {},
   "outputs": [],
   "source": []
  }
 ],
 "metadata": {
  "kernelspec": {
   "display_name": "Python 3 (ipykernel)",
   "language": "python",
   "name": "python3"
  },
  "language_info": {
   "codemirror_mode": {
    "name": "ipython",
    "version": 3
   },
   "file_extension": ".py",
   "mimetype": "text/x-python",
   "name": "python",
   "nbconvert_exporter": "python",
   "pygments_lexer": "ipython3",
   "version": "3.12.3"
  }
 },
 "nbformat": 4,
 "nbformat_minor": 5
}
