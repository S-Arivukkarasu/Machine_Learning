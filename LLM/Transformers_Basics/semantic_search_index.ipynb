{
 "cells": [
  {
   "cell_type": "markdown",
   "id": "97b6c7ad-11e5-4f4b-bed7-bf90e6e0858f",
   "metadata": {},
   "source": [
    "# Semantic Search Index"
   ]
  },
  {
   "cell_type": "code",
   "execution_count": 1,
   "id": "732d5aaa-2a0b-422e-8ccb-5bb071dc2bd8",
   "metadata": {},
   "outputs": [],
   "source": [
    "# !pip install datasets\n",
    "# !pip install sentence-transformers\n",
    "\n",
    "from datasets import load_dataset\n",
    "from sentence_transformers import SentenceTransformer, util\n",
    "import torch\n",
    "device = torch.device(\"cuda\" if torch.cuda.is_available() else \"cpu\")"
   ]
  },
  {
   "cell_type": "markdown",
   "id": "9024a4b0-f076-49fe-b67c-4a50513f44e5",
   "metadata": {},
   "source": [
    "* Fetching the news dataset and selecting 2000 sample for this model"
   ]
  },
  {
   "cell_type": "code",
   "execution_count": 11,
   "id": "aec18e7b-0a2d-4182-a602-5749760b5608",
   "metadata": {},
   "outputs": [],
   "source": [
    "dataset = load_dataset(\"multi_news\", split='test')\n",
    "df = dataset.to_pandas()"
   ]
  },
  {
   "cell_type": "code",
   "execution_count": 16,
   "id": "3274c550-f513-461d-bab7-786342a4c4fc",
   "metadata": {},
   "outputs": [
    {
     "data": {
      "text/plain": [
       "(5622, 2)"
      ]
     },
     "execution_count": 16,
     "metadata": {},
     "output_type": "execute_result"
    }
   ],
   "source": [
    "df.shape"
   ]
  },
  {
   "cell_type": "markdown",
   "id": "21bb130b-3569-4705-9238-fec1757f1ac7",
   "metadata": {},
   "source": [
    "* A Normal Transformer will give vector representation for embedding tokens\n",
    "* Sentence Transformer(SBERT) gives a single representation at once for the entire sentence\n",
    "* Sentence transformers are used in search engines to match queries with relevant documents, enabling semantic search that goes beyond simple keyword matching.\n",
    "* Its embeddings designed to compare sentence similarities"
   ]
  },
  {
   "cell_type": "code",
   "execution_count": 17,
   "id": "4877f516-b86a-4a96-a40f-7becae7785d8",
   "metadata": {},
   "outputs": [],
   "source": [
    "model = SentenceTransformer(\"all-MiniLM-L6-v2\")\n",
    "# Transfering the model to GPU\n",
    "model = model.to(device)"
   ]
  },
  {
   "cell_type": "code",
   "execution_count": 18,
   "id": "78e364e4-4332-458c-addb-f8b7e6a7f489",
   "metadata": {},
   "outputs": [
    {
     "data": {
      "text/plain": [
       "SentenceTransformer(\n",
       "  (0): Transformer({'max_seq_length': 256, 'do_lower_case': False}) with Transformer model: BertModel \n",
       "  (1): Pooling({'word_embedding_dimension': 384, 'pooling_mode_cls_token': False, 'pooling_mode_mean_tokens': True, 'pooling_mode_max_tokens': False, 'pooling_mode_mean_sqrt_len_tokens': False, 'pooling_mode_weightedmean_tokens': False, 'pooling_mode_lasttoken': False, 'include_prompt': True})\n",
       "  (2): Normalize()\n",
       ")"
      ]
     },
     "execution_count": 18,
     "metadata": {},
     "output_type": "execute_result"
    }
   ],
   "source": [
    "model"
   ]
  },
  {
   "cell_type": "markdown",
   "id": "3a7bffb7-6938-436b-9850-e7639c5909db",
   "metadata": {},
   "source": [
    "### Generate Embeddings\n",
    "* Here, we encode the article summaries into embeddings, transforming the textual information into a numerical format that's easier to analyze."
   ]
  },
  {
   "cell_type": "code",
   "execution_count": 19,
   "id": "cf8b96d9-0f85-440f-bca6-7d5a99c647c0",
   "metadata": {},
   "outputs": [
    {
     "data": {
      "application/vnd.jupyter.widget-view+json": {
       "model_id": "3d226effde4b4fe68dfb00b2a13364dd",
       "version_major": 2,
       "version_minor": 0
      },
      "text/plain": [
       "Batches:   0%|          | 0/176 [00:00<?, ?it/s]"
      ]
     },
     "metadata": {},
     "output_type": "display_data"
    }
   ],
   "source": [
    "passage_embeddings = list(model.encode(df[\"summary\"].to_list(), show_progress_bar=True))"
   ]
  },
  {
   "cell_type": "code",
   "execution_count": 20,
   "id": "b330eadf-35e4-4378-a7a3-2f8210221ad1",
   "metadata": {},
   "outputs": [
    {
     "data": {
      "text/plain": [
       "(384,)"
      ]
     },
     "execution_count": 20,
     "metadata": {},
     "output_type": "execute_result"
    }
   ],
   "source": [
    "passage_embeddings[0].shape"
   ]
  },
  {
   "cell_type": "code",
   "execution_count": 21,
   "id": "e055b401-e52c-4f84-9dea-1c1d3dce547d",
   "metadata": {},
   "outputs": [
    {
     "data": {
      "text/plain": [
       "5622"
      ]
     },
     "execution_count": 21,
     "metadata": {},
     "output_type": "execute_result"
    }
   ],
   "source": [
    "len(passage_embeddings)"
   ]
  },
  {
   "cell_type": "code",
   "execution_count": null,
   "id": "56bbdb7f-12c2-470b-a768-dcee6215e740",
   "metadata": {},
   "outputs": [],
   "source": [
    "query = \"Find me some articles about technology and Artificial Intelligence\""
   ]
  },
  {
   "cell_type": "code",
   "execution_count": null,
   "id": "8efadb73-0013-4d6a-ae34-cf69533cab6c",
   "metadata": {},
   "outputs": [],
   "source": [
    "query_embedding = model.encode(query)"
   ]
  },
  {
   "cell_type": "code",
   "execution_count": null,
   "id": "24c6ee6d-c858-4ac7-bd11-dc9e41ea6f27",
   "metadata": {},
   "outputs": [],
   "source": [
    "query_embedding.shape"
   ]
  },
  {
   "cell_type": "code",
   "execution_count": null,
   "id": "f13d0ae9-4f61-42ed-936e-db9b9f839a59",
   "metadata": {},
   "outputs": [],
   "source": [
    "similarities = util.cos_sim(query_embedding, passage_embeddings)"
   ]
  },
  {
   "cell_type": "code",
   "execution_count": null,
   "id": "0e206cce-7d62-435d-b23d-11a28827ea74",
   "metadata": {},
   "outputs": [],
   "source": [
    "top_index = torch.topk(similarities.flatten(), k=3)\n",
    "top_index"
   ]
  },
  {
   "cell_type": "code",
   "execution_count": null,
   "id": "b54abcfe-ce36-455f-8bc8-3ea33c38db2e",
   "metadata": {},
   "outputs": [],
   "source": [
    "top_index = top_index.indices\n",
    "top_index"
   ]
  },
  {
   "cell_type": "code",
   "execution_count": null,
   "id": "ffde509c-ab54-4aa6-8f34-abe6504bc4db",
   "metadata": {},
   "outputs": [],
   "source": [
    "top_relavent_passages = [df.iloc[x.item()][\"summary\"][:200] + \"...\" for x in top_index]\n",
    "top_relavent_passages"
   ]
  },
  {
   "cell_type": "code",
   "execution_count": 22,
   "id": "179bcf78-2b11-4229-a2c1-65144f1bdf94",
   "metadata": {},
   "outputs": [],
   "source": [
    "def find_relavent_news(query:str):\n",
    "    # Encode the query using the same model\n",
    "    query_embedding = model.encode(query)\n",
    "\n",
    "    # Calculate the cosine similarity between the query and passage embeddings\n",
    "    similarities = util.cos_sim(query_embedding, passage_embeddings)\n",
    "\n",
    "    # Get the indices of the top 3 most similar passages\n",
    "    top_index = torch.topk(similarities.flatten(), k=3).indices\n",
    "\n",
    "    # Retrieve the summaries of the top 3 passages and truncate them to 160 characters\n",
    "    top_relavent_passages = [df.iloc[x.item()][\"summary\"][:200] + \"...\" for x in top_index]\n",
    "    \n",
    "    return top_relavent_passages"
   ]
  },
  {
   "cell_type": "code",
   "execution_count": 23,
   "id": "cfef440a-5c48-491e-b48d-0432fc4f6b64",
   "metadata": {},
   "outputs": [
    {
     "data": {
      "text/plain": [
       "['– Harvey is getting its proper attention in the US, but another devastating flood is unfolding in a different part of the world. Monsoon rains have triggered flooding and mudslides that have left more...',\n",
       " '– The tsunami that killed hundreds, possibly thousands of people after an earthquake in Indonesia on Friday was much bigger and more devastating than would normally be expected after that kind of quak...',\n",
       " '– A rare outbreak of winter tornadoes has killed at least seven people in Missouri and Arkansas and left a trail of destruction across the South and Midwest. Three people were killed by a tornado in a...']"
      ]
     },
     "execution_count": 23,
     "metadata": {},
     "output_type": "execute_result"
    }
   ],
   "source": [
    "find_relavent_news(\"Natural Disasters\")"
   ]
  },
  {
   "cell_type": "code",
   "execution_count": null,
   "id": "eaef42b7-fa89-4365-be9c-a972c731c618",
   "metadata": {},
   "outputs": [],
   "source": [
    "find_relavent_news(\"Law enforcement and police\")"
   ]
  },
  {
   "cell_type": "code",
   "execution_count": null,
   "id": "b35bce1f-38fd-40d1-a5ec-be85f6c4ebfe",
   "metadata": {},
   "outputs": [],
   "source": [
    "find_relavent_news(\"Anime News\")"
   ]
  },
  {
   "cell_type": "code",
   "execution_count": null,
   "id": "25eec97a-e207-4e8d-8661-9215cc8b0da9",
   "metadata": {},
   "outputs": [],
   "source": [
    "find_relavent_news(\"Politics, diplomacy and nationalism in india\")"
   ]
  },
  {
   "cell_type": "code",
   "execution_count": null,
   "id": "b64a6059-ce8d-49ca-a0f7-e5cb15ebe94c",
   "metadata": {},
   "outputs": [],
   "source": [
    "query = input(\"Enter the query or topic you need to know the news: \")\n",
    "find_relavent_news(query)"
   ]
  },
  {
   "cell_type": "code",
   "execution_count": null,
   "id": "593112a5-b12d-4b23-8510-f7af141c1b47",
   "metadata": {},
   "outputs": [],
   "source": []
  }
 ],
 "metadata": {
  "kernelspec": {
   "display_name": "Python 3 (ipykernel)",
   "language": "python",
   "name": "python3"
  },
  "language_info": {
   "codemirror_mode": {
    "name": "ipython",
    "version": 3
   },
   "file_extension": ".py",
   "mimetype": "text/x-python",
   "name": "python",
   "nbconvert_exporter": "python",
   "pygments_lexer": "ipython3",
   "version": "3.12.3"
  }
 },
 "nbformat": 4,
 "nbformat_minor": 5
}
