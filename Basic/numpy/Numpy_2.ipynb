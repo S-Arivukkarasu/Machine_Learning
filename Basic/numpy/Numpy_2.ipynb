{
 "cells": [
  {
   "cell_type": "markdown",
   "id": "da0dfa23-3c0f-4424-aa63-972be8c7372b",
   "metadata": {},
   "source": [
    "# Numpy Arrays"
   ]
  },
  {
   "cell_type": "code",
   "execution_count": 1,
   "id": "73e1622a-649c-46d5-a9bc-cc31e04fce8d",
   "metadata": {},
   "outputs": [],
   "source": [
    "import numpy as np"
   ]
  },
  {
   "cell_type": "code",
   "execution_count": 2,
   "id": "f8b2bdb8-2f9d-4d41-acb5-6c391db9f2eb",
   "metadata": {},
   "outputs": [
    {
     "data": {
      "text/plain": [
       "list"
      ]
     },
     "execution_count": 2,
     "metadata": {},
     "output_type": "execute_result"
    }
   ],
   "source": [
    "my_list = [1, 2, 3]\n",
    "type(my_list)"
   ]
  },
  {
   "cell_type": "code",
   "execution_count": 3,
   "id": "0a4a34c9-322a-406c-b6a0-d7008c332aa0",
   "metadata": {},
   "outputs": [
    {
     "data": {
      "text/plain": [
       "numpy.ndarray"
      ]
     },
     "execution_count": 3,
     "metadata": {},
     "output_type": "execute_result"
    }
   ],
   "source": [
    "myarr = np.array(my_list)\n",
    "type(myarr)"
   ]
  },
  {
   "cell_type": "code",
   "execution_count": 4,
   "id": "253dd7e3-19bf-4d87-935c-c0e82eee50a0",
   "metadata": {},
   "outputs": [
    {
     "data": {
      "text/plain": [
       "[[1, 2, 3], [4, 5, 6], [7, 8, 9]]"
      ]
     },
     "execution_count": 4,
     "metadata": {},
     "output_type": "execute_result"
    }
   ],
   "source": [
    "my_matrix = [[1,2,3], [4,5,6], [7,8,9]]\n",
    "my_matrix"
   ]
  },
  {
   "cell_type": "code",
   "execution_count": 5,
   "id": "38a18aae-6ecb-4334-ba60-bce2a0f896cf",
   "metadata": {},
   "outputs": [
    {
     "data": {
      "text/plain": [
       "array([[1, 2, 3],\n",
       "       [4, 5, 6],\n",
       "       [7, 8, 9]])"
      ]
     },
     "execution_count": 5,
     "metadata": {},
     "output_type": "execute_result"
    }
   ],
   "source": [
    "np.array(my_matrix)"
   ]
  },
  {
   "cell_type": "code",
   "execution_count": 6,
   "id": "6127c3aa-a9aa-434c-915e-3b5c3ad82c5a",
   "metadata": {},
   "outputs": [
    {
     "data": {
      "text/plain": [
       "array([0, 1, 2, 3, 4, 5, 6, 7, 8, 9])"
      ]
     },
     "execution_count": 6,
     "metadata": {},
     "output_type": "execute_result"
    }
   ],
   "source": [
    "np.arange(0, 10)"
   ]
  },
  {
   "cell_type": "code",
   "execution_count": 7,
   "id": "b84109da-fc1b-4645-9679-63d68dc4660f",
   "metadata": {},
   "outputs": [
    {
     "data": {
      "text/plain": [
       "array([  0,   2,   4,   6,   8,  10,  12,  14,  16,  18,  20,  22,  24,\n",
       "        26,  28,  30,  32,  34,  36,  38,  40,  42,  44,  46,  48,  50,\n",
       "        52,  54,  56,  58,  60,  62,  64,  66,  68,  70,  72,  74,  76,\n",
       "        78,  80,  82,  84,  86,  88,  90,  92,  94,  96,  98, 100])"
      ]
     },
     "execution_count": 7,
     "metadata": {},
     "output_type": "execute_result"
    }
   ],
   "source": [
    "np.arange(0, 101, 2)"
   ]
  },
  {
   "cell_type": "code",
   "execution_count": 8,
   "id": "d98c334b-a0c3-4165-b2fd-6d81736f5f9d",
   "metadata": {},
   "outputs": [
    {
     "data": {
      "text/plain": [
       "array([0., 0., 0., 0., 0.])"
      ]
     },
     "execution_count": 8,
     "metadata": {},
     "output_type": "execute_result"
    }
   ],
   "source": [
    "np.zeros(5)"
   ]
  },
  {
   "cell_type": "code",
   "execution_count": 9,
   "id": "738868c7-d773-4c52-a1ce-ab1706f877a5",
   "metadata": {},
   "outputs": [
    {
     "data": {
      "text/plain": [
       "array([[0., 0., 0., 0., 0.],\n",
       "       [0., 0., 0., 0., 0.],\n",
       "       [0., 0., 0., 0., 0.]])"
      ]
     },
     "execution_count": 9,
     "metadata": {},
     "output_type": "execute_result"
    }
   ],
   "source": [
    "np.zeros(shape=(3, 5))"
   ]
  },
  {
   "cell_type": "code",
   "execution_count": 10,
   "id": "0ab63a44-cb43-4a85-a496-e89486645d1c",
   "metadata": {},
   "outputs": [
    {
     "data": {
      "text/plain": [
       "array([[1., 1., 1.],\n",
       "       [1., 1., 1.],\n",
       "       [1., 1., 1.],\n",
       "       [1., 1., 1.]])"
      ]
     },
     "execution_count": 10,
     "metadata": {},
     "output_type": "execute_result"
    }
   ],
   "source": [
    "np.ones(shape=(4,3))"
   ]
  },
  {
   "cell_type": "code",
   "execution_count": 11,
   "id": "d9ae2110-6f5c-4397-9fc7-2b05799a5831",
   "metadata": {},
   "outputs": [
    {
     "data": {
      "text/plain": [
       "array([ 0.        ,  0.90909091,  1.81818182,  2.72727273,  3.63636364,\n",
       "        4.54545455,  5.45454545,  6.36363636,  7.27272727,  8.18181818,\n",
       "        9.09090909, 10.        ])"
      ]
     },
     "execution_count": 11,
     "metadata": {},
     "output_type": "execute_result"
    }
   ],
   "source": [
    "np.linspace(0, 10, 12)"
   ]
  },
  {
   "cell_type": "code",
   "execution_count": 12,
   "id": "23836c29-e039-481f-9b28-f0cabd6f9db5",
   "metadata": {},
   "outputs": [
    {
     "data": {
      "text/plain": [
       "array([[1., 0., 0., 0., 0., 0.],\n",
       "       [0., 1., 0., 0., 0., 0.],\n",
       "       [0., 0., 1., 0., 0., 0.],\n",
       "       [0., 0., 0., 1., 0., 0.],\n",
       "       [0., 0., 0., 0., 1., 0.],\n",
       "       [0., 0., 0., 0., 0., 1.]])"
      ]
     },
     "execution_count": 12,
     "metadata": {},
     "output_type": "execute_result"
    }
   ],
   "source": [
    "np.eye(6)"
   ]
  },
  {
   "cell_type": "code",
   "execution_count": 13,
   "id": "33d99eb1-46c8-4e75-a11a-bf7cdae02acb",
   "metadata": {},
   "outputs": [
    {
     "data": {
      "text/plain": [
       "array([[0.14026987, 0.29575784, 0.24939324, 0.0448194 ],\n",
       "       [0.09528913, 0.58526398, 0.77029803, 0.70408518],\n",
       "       [0.24383487, 0.59231664, 0.22788998, 0.53738529]])"
      ]
     },
     "execution_count": 13,
     "metadata": {},
     "output_type": "execute_result"
    }
   ],
   "source": [
    "np.random.rand(3, 4)"
   ]
  },
  {
   "cell_type": "code",
   "execution_count": 14,
   "id": "035f919c-a87c-4463-9aed-400524dff9d9",
   "metadata": {},
   "outputs": [
    {
     "data": {
      "text/plain": [
       "array([[-1.24955757, -0.01221885,  1.53783637,  0.14242932],\n",
       "       [-1.46769056, -1.23590872,  1.0666317 , -3.36132667],\n",
       "       [-0.4565617 ,  0.20911671,  0.67770422,  0.10493426]])"
      ]
     },
     "execution_count": 14,
     "metadata": {},
     "output_type": "execute_result"
    }
   ],
   "source": [
    "np.random.randn(3, 4)"
   ]
  },
  {
   "cell_type": "code",
   "execution_count": 15,
   "id": "8e80b1a4-1efd-4803-9d43-3b473fb9776b",
   "metadata": {},
   "outputs": [
    {
     "data": {
      "text/plain": [
       "array([[ 46,  36, 110,  31, 159],\n",
       "       [169, 142, 123,  17, 115],\n",
       "       [185,  75,  64, 116, 200],\n",
       "       [ 98, 132, 175,  60, 107],\n",
       "       [ 12,  91,  89, 135,  76]])"
      ]
     },
     "execution_count": 15,
     "metadata": {},
     "output_type": "execute_result"
    }
   ],
   "source": [
    "np.random.randint(0, 201, size=(5, 5))"
   ]
  },
  {
   "cell_type": "code",
   "execution_count": 16,
   "id": "25126104-1490-4714-ac6c-e7ac0f09cc71",
   "metadata": {},
   "outputs": [
    {
     "data": {
      "text/plain": [
       "array([0.37454012, 0.95071431, 0.73199394, 0.59865848])"
      ]
     },
     "execution_count": 16,
     "metadata": {},
     "output_type": "execute_result"
    }
   ],
   "source": [
    "np.random.seed(42)\n",
    "np.random.rand(4)"
   ]
  },
  {
   "cell_type": "code",
   "execution_count": 17,
   "id": "c2b3710c-34b5-4387-9afa-caf6b666135a",
   "metadata": {},
   "outputs": [
    {
     "data": {
      "text/plain": [
       "array([ 0,  1,  2,  3,  4,  5,  6,  7,  8,  9, 10, 11, 12, 13, 14, 15, 16,\n",
       "       17, 18, 19, 20, 21, 22, 23, 24])"
      ]
     },
     "execution_count": 17,
     "metadata": {},
     "output_type": "execute_result"
    }
   ],
   "source": [
    "arr = np.arange(0, 25)\n",
    "arr"
   ]
  },
  {
   "cell_type": "code",
   "execution_count": 18,
   "id": "ecdaf3d8-58c7-4d2e-b2fe-2391cbdfa37f",
   "metadata": {},
   "outputs": [
    {
     "data": {
      "text/plain": [
       "array([[ 0,  1,  2,  3,  4],\n",
       "       [ 5,  6,  7,  8,  9],\n",
       "       [10, 11, 12, 13, 14],\n",
       "       [15, 16, 17, 18, 19],\n",
       "       [20, 21, 22, 23, 24]])"
      ]
     },
     "execution_count": 18,
     "metadata": {},
     "output_type": "execute_result"
    }
   ],
   "source": [
    "arr.reshape(5,5)"
   ]
  },
  {
   "cell_type": "code",
   "execution_count": 19,
   "id": "c897e229-dbb8-49c6-b329-5d51eeb97089",
   "metadata": {},
   "outputs": [],
   "source": [
    "randarr = np.random.randint(0, 20, 10)"
   ]
  },
  {
   "cell_type": "code",
   "execution_count": 20,
   "id": "0e79a656-5332-422b-b494-bc170982e2f3",
   "metadata": {},
   "outputs": [
    {
     "data": {
      "text/plain": [
       "array([ 6, 18, 10, 10,  3,  7,  2,  1, 11,  5])"
      ]
     },
     "execution_count": 20,
     "metadata": {},
     "output_type": "execute_result"
    }
   ],
   "source": [
    "randarr"
   ]
  },
  {
   "cell_type": "code",
   "execution_count": 21,
   "id": "7d3ada85-1a1a-4f48-930c-2b2bc49dbbbb",
   "metadata": {},
   "outputs": [
    {
     "data": {
      "text/plain": [
       "18"
      ]
     },
     "execution_count": 21,
     "metadata": {},
     "output_type": "execute_result"
    }
   ],
   "source": [
    "randarr.max()"
   ]
  },
  {
   "cell_type": "code",
   "execution_count": 22,
   "id": "deed9edf-df5c-4656-b394-369baf634853",
   "metadata": {},
   "outputs": [
    {
     "data": {
      "text/plain": [
       "1"
      ]
     },
     "execution_count": 22,
     "metadata": {},
     "output_type": "execute_result"
    }
   ],
   "source": [
    "randarr.min()"
   ]
  },
  {
   "cell_type": "code",
   "execution_count": 23,
   "id": "0c9c6a37-70da-4777-9b89-cbef943a4a16",
   "metadata": {},
   "outputs": [
    {
     "data": {
      "text/plain": [
       "1"
      ]
     },
     "execution_count": 23,
     "metadata": {},
     "output_type": "execute_result"
    }
   ],
   "source": [
    "randarr.argmax()"
   ]
  },
  {
   "cell_type": "code",
   "execution_count": 24,
   "id": "694006de-46b4-4e76-88a6-fb82f824a1bd",
   "metadata": {},
   "outputs": [
    {
     "data": {
      "text/plain": [
       "7"
      ]
     },
     "execution_count": 24,
     "metadata": {},
     "output_type": "execute_result"
    }
   ],
   "source": [
    "randarr.argmin()"
   ]
  },
  {
   "cell_type": "code",
   "execution_count": 25,
   "id": "ace10798-3efc-4fcc-a043-8563f15131aa",
   "metadata": {},
   "outputs": [
    {
     "data": {
      "text/plain": [
       "dtype('int64')"
      ]
     },
     "execution_count": 25,
     "metadata": {},
     "output_type": "execute_result"
    }
   ],
   "source": [
    "randarr.dtype"
   ]
  },
  {
   "cell_type": "code",
   "execution_count": 26,
   "id": "a8b2e9bc-90b4-491f-b7a6-29d1928fdc14",
   "metadata": {},
   "outputs": [
    {
     "data": {
      "text/plain": [
       "(25,)"
      ]
     },
     "execution_count": 26,
     "metadata": {},
     "output_type": "execute_result"
    }
   ],
   "source": [
    "arr.shape"
   ]
  },
  {
   "cell_type": "code",
   "execution_count": 27,
   "id": "dd00d119-4423-4c9c-aac8-ffa36e05be19",
   "metadata": {},
   "outputs": [],
   "source": [
    "arr = arr.reshape(5, 5)"
   ]
  },
  {
   "cell_type": "code",
   "execution_count": 28,
   "id": "78cbcd00-3249-4e29-8c21-93c9a4640ee8",
   "metadata": {},
   "outputs": [
    {
     "data": {
      "text/plain": [
       "(5, 5)"
      ]
     },
     "execution_count": 28,
     "metadata": {},
     "output_type": "execute_result"
    }
   ],
   "source": [
    "arr.shape"
   ]
  },
  {
   "cell_type": "code",
   "execution_count": 30,
   "id": "ab693c82-41eb-4a28-9866-ef4566ee9e18",
   "metadata": {},
   "outputs": [
    {
     "data": {
      "text/plain": [
       "array([ 6, 18, 10, 10,  3,  7,  2,  1, 11,  5])"
      ]
     },
     "execution_count": 30,
     "metadata": {},
     "output_type": "execute_result"
    }
   ],
   "source": [
    "randarr"
   ]
  },
  {
   "cell_type": "code",
   "execution_count": 31,
   "id": "ab334e54-ab0b-41d9-91fe-f38b4bf81fb0",
   "metadata": {},
   "outputs": [
    {
     "data": {
      "text/plain": [
       "array([18, 10, 10,  3])"
      ]
     },
     "execution_count": 31,
     "metadata": {},
     "output_type": "execute_result"
    }
   ],
   "source": [
    "randarr[1:5]"
   ]
  },
  {
   "cell_type": "code",
   "execution_count": 32,
   "id": "8185ae83-7d3a-4585-98ab-3bd359f09839",
   "metadata": {},
   "outputs": [
    {
     "data": {
      "text/plain": [
       "array([ 6, 18, 10, 10,  3])"
      ]
     },
     "execution_count": 32,
     "metadata": {},
     "output_type": "execute_result"
    }
   ],
   "source": [
    "randarr[:5]"
   ]
  },
  {
   "cell_type": "code",
   "execution_count": 33,
   "id": "4511828b-0261-4a52-9ae8-1dd122721aff",
   "metadata": {},
   "outputs": [
    {
     "data": {
      "text/plain": [
       "array([ 7,  2,  1, 11,  5])"
      ]
     },
     "execution_count": 33,
     "metadata": {},
     "output_type": "execute_result"
    }
   ],
   "source": [
    "randarr[5:]"
   ]
  },
  {
   "cell_type": "code",
   "execution_count": 35,
   "id": "41987cd8-1302-415f-808b-1f920ad96743",
   "metadata": {},
   "outputs": [
    {
     "data": {
      "text/plain": [
       "array([  6,  18,  10,  10,   3, 100, 100, 100, 100, 100])"
      ]
     },
     "execution_count": 35,
     "metadata": {},
     "output_type": "execute_result"
    }
   ],
   "source": [
    "randarr[5:] = 100\n",
    "randarr"
   ]
  },
  {
   "cell_type": "code",
   "execution_count": 57,
   "id": "a39542e0-7619-4542-ae39-843cf2581af7",
   "metadata": {},
   "outputs": [
    {
     "data": {
      "text/plain": [
       "array([0, 2, 4, 2, 0, 4, 1, 2, 0, 1])"
      ]
     },
     "execution_count": 57,
     "metadata": {},
     "output_type": "execute_result"
    }
   ],
   "source": [
    "randarr = np.random.randint(0, 5, 10)\n",
    "randarr"
   ]
  },
  {
   "cell_type": "code",
   "execution_count": 58,
   "id": "6cac276e-ef60-4941-92cc-7ee4875149d7",
   "metadata": {},
   "outputs": [
    {
     "data": {
      "text/plain": [
       "array([0, 2, 4, 2, 0])"
      ]
     },
     "execution_count": 58,
     "metadata": {},
     "output_type": "execute_result"
    }
   ],
   "source": [
    "slice_of_arr  = randarr[:5]\n",
    "slice_of_arr"
   ]
  },
  {
   "cell_type": "code",
   "execution_count": 59,
   "id": "01e1490a-446b-4de9-85ca-17d52aa668d2",
   "metadata": {},
   "outputs": [],
   "source": [
    "slice_of_arr[:] = 99"
   ]
  },
  {
   "cell_type": "code",
   "execution_count": 60,
   "id": "ad85f91f-3a92-4a82-9471-1adb534412d7",
   "metadata": {},
   "outputs": [
    {
     "data": {
      "text/plain": [
       "array([99, 99, 99, 99, 99,  4,  1,  2,  0,  1])"
      ]
     },
     "execution_count": 60,
     "metadata": {},
     "output_type": "execute_result"
    }
   ],
   "source": [
    "randarr"
   ]
  },
  {
   "cell_type": "code",
   "execution_count": 61,
   "id": "03ef309b-3991-4bd7-9e83-51d1deefad94",
   "metadata": {},
   "outputs": [
    {
     "data": {
      "text/plain": [
       "array([[41, 76, 50],\n",
       "       [62, 95, 51],\n",
       "       [95,  3, 93]])"
      ]
     },
     "execution_count": 61,
     "metadata": {},
     "output_type": "execute_result"
    }
   ],
   "source": [
    "arr_2d = np.random.randint(0, 99, size=(3,3))\n",
    "arr_2d"
   ]
  },
  {
   "cell_type": "code",
   "execution_count": 62,
   "id": "51bd2771-a9b9-4263-a129-d56c9fc8356f",
   "metadata": {},
   "outputs": [
    {
     "data": {
      "text/plain": [
       "array([ True,  True,  True,  True,  True, False, False, False, False,\n",
       "       False])"
      ]
     },
     "execution_count": 62,
     "metadata": {},
     "output_type": "execute_result"
    }
   ],
   "source": [
    "randarr>10"
   ]
  },
  {
   "cell_type": "code",
   "execution_count": 63,
   "id": "eba0132a-b77d-4bc1-a55d-b389a8803508",
   "metadata": {},
   "outputs": [
    {
     "data": {
      "text/plain": [
       "array([104, 104, 104, 104, 104,   9,   6,   7,   5,   6])"
      ]
     },
     "execution_count": 63,
     "metadata": {},
     "output_type": "execute_result"
    }
   ],
   "source": [
    "randarr + 5"
   ]
  },
  {
   "cell_type": "code",
   "execution_count": 64,
   "id": "71434be3-9fc9-46b6-aaa6-0aefcbf99262",
   "metadata": {},
   "outputs": [
    {
     "data": {
      "text/plain": [
       "array([97, 97, 97, 97, 97,  2, -1,  0, -2, -1])"
      ]
     },
     "execution_count": 64,
     "metadata": {},
     "output_type": "execute_result"
    }
   ],
   "source": [
    "randarr - 2"
   ]
  },
  {
   "cell_type": "code",
   "execution_count": 65,
   "id": "d7604104-3e38-4e73-9628-f01f3a46804c",
   "metadata": {},
   "outputs": [
    {
     "data": {
      "text/plain": [
       "array([396, 396, 396, 396, 396,  16,   4,   8,   0,   4])"
      ]
     },
     "execution_count": 65,
     "metadata": {},
     "output_type": "execute_result"
    }
   ],
   "source": [
    "randarr * 4"
   ]
  },
  {
   "cell_type": "code",
   "execution_count": 66,
   "id": "500b84c6-0d1f-4ab8-811f-ddc4a27bcac3",
   "metadata": {},
   "outputs": [
    {
     "data": {
      "text/plain": [
       "array([49.5, 49.5, 49.5, 49.5, 49.5,  2. ,  0.5,  1. ,  0. ,  0.5])"
      ]
     },
     "execution_count": 66,
     "metadata": {},
     "output_type": "execute_result"
    }
   ],
   "source": [
    "randarr/2"
   ]
  },
  {
   "cell_type": "code",
   "execution_count": 67,
   "id": "98305da7-6218-415e-9d39-89744e3c9102",
   "metadata": {},
   "outputs": [
    {
     "data": {
      "text/plain": [
       "array([49, 49, 49, 49, 49,  2,  0,  1,  0,  0])"
      ]
     },
     "execution_count": 67,
     "metadata": {},
     "output_type": "execute_result"
    }
   ],
   "source": [
    "randarr//2"
   ]
  },
  {
   "cell_type": "code",
   "execution_count": 68,
   "id": "92ef972d-618d-4b18-81b6-f8f74a41cca2",
   "metadata": {},
   "outputs": [
    {
     "data": {
      "text/plain": [
       "array([198, 198, 198, 198, 198,   8,   2,   4,   0,   2])"
      ]
     },
     "execution_count": 68,
     "metadata": {},
     "output_type": "execute_result"
    }
   ],
   "source": [
    "randarr + randarr"
   ]
  },
  {
   "cell_type": "code",
   "execution_count": 69,
   "id": "20738c9b-aa94-4f31-a63c-1b6becb67527",
   "metadata": {},
   "outputs": [
    {
     "data": {
      "text/plain": [
       "array([0, 0, 0, 0, 0, 0, 0, 0, 0, 0])"
      ]
     },
     "execution_count": 69,
     "metadata": {},
     "output_type": "execute_result"
    }
   ],
   "source": [
    "randarr - randarr"
   ]
  },
  {
   "cell_type": "code",
   "execution_count": 70,
   "id": "36b1bc82-8d32-4332-b96f-4a00617bdece",
   "metadata": {},
   "outputs": [
    {
     "name": "stderr",
     "output_type": "stream",
     "text": [
      "/tmp/ipykernel_6957/3980430846.py:1: RuntimeWarning: invalid value encountered in divide\n",
      "  randarr/ randarr\n"
     ]
    },
    {
     "data": {
      "text/plain": [
       "array([ 1.,  1.,  1.,  1.,  1.,  1.,  1.,  1., nan,  1.])"
      ]
     },
     "execution_count": 70,
     "metadata": {},
     "output_type": "execute_result"
    }
   ],
   "source": [
    "randarr/ randarr"
   ]
  },
  {
   "cell_type": "code",
   "execution_count": 71,
   "id": "3461677e-ee6f-43c7-b6b9-9b1db6e5d6bb",
   "metadata": {},
   "outputs": [
    {
     "data": {
      "text/plain": [
       "array([9.94987437, 9.94987437, 9.94987437, 9.94987437, 9.94987437,\n",
       "       2.        , 1.        , 1.41421356, 0.        , 1.        ])"
      ]
     },
     "execution_count": 71,
     "metadata": {},
     "output_type": "execute_result"
    }
   ],
   "source": [
    "np.sqrt(randarr)"
   ]
  },
  {
   "cell_type": "code",
   "execution_count": 72,
   "id": "92efa759-c1d9-4e17-a8dc-5d777ac637e9",
   "metadata": {},
   "outputs": [
    {
     "data": {
      "text/plain": [
       "array([9801, 9801, 9801, 9801, 9801,   16,    1,    4,    0,    1])"
      ]
     },
     "execution_count": 72,
     "metadata": {},
     "output_type": "execute_result"
    }
   ],
   "source": [
    "np.square(randarr)"
   ]
  },
  {
   "cell_type": "code",
   "execution_count": 73,
   "id": "a3b7adc9-a00e-478c-8098-244cb3cc02fc",
   "metadata": {},
   "outputs": [
    {
     "data": {
      "text/plain": [
       "array([-0.99920683, -0.99920683, -0.99920683, -0.99920683, -0.99920683,\n",
       "       -0.7568025 ,  0.84147098,  0.90929743,  0.        ,  0.84147098])"
      ]
     },
     "execution_count": 73,
     "metadata": {},
     "output_type": "execute_result"
    }
   ],
   "source": [
    "np.sin(randarr)"
   ]
  },
  {
   "cell_type": "code",
   "execution_count": 74,
   "id": "b1d45bef-951c-4549-95bd-3bcf1050dde4",
   "metadata": {},
   "outputs": [
    {
     "data": {
      "text/plain": [
       "array([ 0.03982088,  0.03982088,  0.03982088,  0.03982088,  0.03982088,\n",
       "       -0.65364362,  0.54030231, -0.41614684,  1.        ,  0.54030231])"
      ]
     },
     "execution_count": 74,
     "metadata": {},
     "output_type": "execute_result"
    }
   ],
   "source": [
    "np.cos(randarr)"
   ]
  },
  {
   "cell_type": "code",
   "execution_count": 75,
   "id": "36d37af1-c562-412b-802b-b60243bdb65a",
   "metadata": {},
   "outputs": [
    {
     "name": "stderr",
     "output_type": "stream",
     "text": [
      "/tmp/ipykernel_6957/2641870028.py:1: RuntimeWarning: divide by zero encountered in log\n",
      "  np.log(randarr)\n"
     ]
    },
    {
     "data": {
      "text/plain": [
       "array([4.59511985, 4.59511985, 4.59511985, 4.59511985, 4.59511985,\n",
       "       1.38629436, 0.        , 0.69314718,       -inf, 0.        ])"
      ]
     },
     "execution_count": 75,
     "metadata": {},
     "output_type": "execute_result"
    }
   ],
   "source": [
    "np.log(randarr)"
   ]
  },
  {
   "cell_type": "code",
   "execution_count": 77,
   "id": "071fc318-2d40-41cb-a78b-d7072b38d84d",
   "metadata": {},
   "outputs": [
    {
     "data": {
      "text/plain": [
       "503"
      ]
     },
     "execution_count": 77,
     "metadata": {},
     "output_type": "execute_result"
    }
   ],
   "source": [
    "randarr.sum()"
   ]
  },
  {
   "cell_type": "code",
   "execution_count": 79,
   "id": "39fee224-9501-42b4-9ad9-9d2a0264140a",
   "metadata": {},
   "outputs": [
    {
     "data": {
      "text/plain": [
       "(48.709444669386244, 2372.6099999999997)"
      ]
     },
     "execution_count": 79,
     "metadata": {},
     "output_type": "execute_result"
    }
   ],
   "source": [
    "randarr.std(), randarr.var()"
   ]
  },
  {
   "cell_type": "code",
   "execution_count": 80,
   "id": "5dc96920-c500-439c-97b6-81c2f251f67b",
   "metadata": {},
   "outputs": [
    {
     "data": {
      "text/plain": [
       "array([[41, 76, 50],\n",
       "       [62, 95, 51],\n",
       "       [95,  3, 93]])"
      ]
     },
     "execution_count": 80,
     "metadata": {},
     "output_type": "execute_result"
    }
   ],
   "source": [
    "arr_2d"
   ]
  },
  {
   "cell_type": "code",
   "execution_count": 83,
   "id": "b303b1be-d35b-4575-98d2-fb8fce647c1a",
   "metadata": {},
   "outputs": [
    {
     "data": {
      "text/plain": [
       "(array([198, 174, 194]), array([167, 208, 191]))"
      ]
     },
     "execution_count": 83,
     "metadata": {},
     "output_type": "execute_result"
    }
   ],
   "source": [
    "arr_2d.sum(axis=0), arr_2d.sum(axis=1)"
   ]
  },
  {
   "cell_type": "code",
   "execution_count": null,
   "id": "03e246d4-fa40-4b92-b8f5-e0efa7451776",
   "metadata": {},
   "outputs": [],
   "source": []
  },
  {
   "cell_type": "code",
   "execution_count": null,
   "id": "47c94540-8055-4a8f-9ea9-da5468122d86",
   "metadata": {},
   "outputs": [],
   "source": []
  }
 ],
 "metadata": {
  "kernelspec": {
   "display_name": "Python 3 (ipykernel)",
   "language": "python",
   "name": "python3"
  },
  "language_info": {
   "codemirror_mode": {
    "name": "ipython",
    "version": 3
   },
   "file_extension": ".py",
   "mimetype": "text/x-python",
   "name": "python",
   "nbconvert_exporter": "python",
   "pygments_lexer": "ipython3",
   "version": "3.12.3"
  }
 },
 "nbformat": 4,
 "nbformat_minor": 5
}
