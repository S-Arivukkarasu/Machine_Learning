{
 "cells": [
  {
   "cell_type": "markdown",
   "id": "c721483e-276b-4606-9f8c-9faf13f383a6",
   "metadata": {},
   "source": [
    "# Preprocessing the Dataset, Balancing the dataset, create 3 dataset training, validation and testing, Saving the new data in tensor friendly format(npz)"
   ]
  },
  {
   "cell_type": "markdown",
   "id": "6ae7e462-882d-458b-9f4f-819f84609ff6",
   "metadata": {},
   "source": [
    "## Extract the data from csv"
   ]
  },
  {
   "cell_type": "code",
   "execution_count": 1,
   "id": "1d5b66a7-3da0-4a87-9d49-54f20240d3d5",
   "metadata": {},
   "outputs": [],
   "source": [
    "import numpy as np \n",
    "from sklearn import preprocessing\n",
    "\n",
    "raw_data_csv = np.loadtxt(\"/home/alexender/Desktop/Projects/My_Projects/Data/Audiobooks_data.csv\", delimiter=\",\")\n",
    "unscaled_inputs_all = raw_data_csv[:, 1:-1]\n",
    "targets_all_raw = raw_data_csv[:,-1]"
   ]
  },
  {
   "cell_type": "markdown",
   "id": "71487735-0dc2-464d-be1f-cd8fbb22a535",
   "metadata": {},
   "source": [
    "## Balancing the Dataset "
   ]
  },
  {
   "cell_type": "code",
   "execution_count": 2,
   "id": "1805f3bb-1cba-4676-9d2a-ee3b8a617dad",
   "metadata": {},
   "outputs": [],
   "source": [
    "num_one_targets = int(np.sum(targets_all_raw))\n",
    "zero_targets_counter = 0\n",
    "indices_to_remove = []\n",
    "\n",
    "for i in range(targets_all_raw.shape[0]):\n",
    "    if targets_all_raw[i] == 0: \n",
    "        zero_targets_counter+=1\n",
    "        if zero_targets_counter > num_one_targets:\n",
    "            indices_to_remove.append(i)\n",
    "\n",
    "unscaled_inputs_equal_priors = np.delete(unscaled_inputs_all, indices_to_remove, axis=0)\n",
    "targets_equal_priors = np.delete(targets_all_raw, indices_to_remove, axis=0)"
   ]
  },
  {
   "cell_type": "markdown",
   "id": "cbb992f2-6a39-4921-b6e0-14dfba27506c",
   "metadata": {},
   "source": [
    "## Standardizing the inputs"
   ]
  },
  {
   "cell_type": "code",
   "execution_count": 3,
   "id": "d26f564f-c367-40ac-ae4e-aaf877f22d14",
   "metadata": {},
   "outputs": [],
   "source": [
    "scaled_inputs = preprocessing.scale(unscaled_inputs_equal_priors)"
   ]
  },
  {
   "cell_type": "code",
   "execution_count": 5,
   "id": "37f46036-b0b6-40a0-8a7a-75cd041f41f4",
   "metadata": {},
   "outputs": [
    {
     "data": {
      "text/plain": [
       "numpy.ndarray"
      ]
     },
     "execution_count": 5,
     "metadata": {},
     "output_type": "execute_result"
    }
   ],
   "source": [
    "type(scaled_inputs)"
   ]
  },
  {
   "cell_type": "markdown",
   "id": "c6b5376b-5970-478b-9730-3d04102739db",
   "metadata": {},
   "source": [
    "## Shuffle the data "
   ]
  },
  {
   "cell_type": "code",
   "execution_count": 6,
   "id": "67f4c831-46f9-41fd-b684-8a4da210b568",
   "metadata": {},
   "outputs": [],
   "source": [
    "shuffled_indices = np.arange(scaled_inputs.shape[0])\n",
    "np.random.shuffle(shuffled_indices)\n",
    "\n",
    "shuffled_inputs = scaled_inputs[shuffled_indices]\n",
    "shuffled_targets = targets_equal_priors[shuffled_indices]"
   ]
  },
  {
   "cell_type": "markdown",
   "id": "2e370ec1-537b-4e72-9113-aea3c5246cd3",
   "metadata": {},
   "source": [
    "## Splitting dataset into training, validation and testing sets"
   ]
  },
  {
   "cell_type": "code",
   "execution_count": 9,
   "id": "c67f44a8-220b-4679-a71b-e56719b9ec57",
   "metadata": {},
   "outputs": [
    {
     "name": "stdout",
     "output_type": "stream",
     "text": [
      "1798.0 3579 0.502374965074043\n",
      "214.0 447 0.47874720357941836\n",
      "225.0 448 0.5022321428571429\n"
     ]
    }
   ],
   "source": [
    "samples_count = shuffled_inputs.shape[0]\n",
    "\n",
    "training_samples_count = int(0.8*samples_count)\n",
    "validation_samples_count = int(0.1*samples_count)\n",
    "test_samples_count = samples_count - training_samples_count - validation_samples_count\n",
    "\n",
    "train_inputs = shuffled_inputs[:training_samples_count]\n",
    "train_targets = shuffled_targets[:training_samples_count]\n",
    "\n",
    "validation_inputs = shuffled_inputs[training_samples_count:training_samples_count+validation_samples_count]\n",
    "validation_targets = shuffled_targets[training_samples_count:training_samples_count+validation_samples_count]\n",
    "\n",
    "test_inputs = shuffled_inputs[training_samples_count+validation_samples_count:]\n",
    "test_targets = shuffled_targets[training_samples_count+validation_samples_count:]\n",
    "\n",
    "# printing the ones in the target to validate the dataset is balanced \n",
    "print(np.sum(train_targets), training_samples_count, np.sum(train_targets)/training_samples_count)\n",
    "print(np.sum(validation_targets), validation_samples_count, np.sum(validation_targets)/validation_samples_count)\n",
    "print(np.sum(test_targets), test_samples_count, np.sum(test_targets)/test_samples_count)"
   ]
  },
  {
   "cell_type": "markdown",
   "id": "be257e16-15b1-482d-aef9-091aef5993fc",
   "metadata": {},
   "source": [
    "## Saving three datasets in *.npz formats"
   ]
  },
  {
   "cell_type": "code",
   "execution_count": 10,
   "id": "bf45404d-b783-4622-8248-710cac2083dd",
   "metadata": {},
   "outputs": [],
   "source": [
    "np.savez(\"Audiobooks_data_train\", inputs=train_inputs, targets=train_targets)\n",
    "np.savez(\"Audiobooks_data_validation\", inputs=validation_inputs, targets=validation_targets)\n",
    "np.savez(\"Audiobooks_data_test\", inputs=test_inputs, targets=test_targets)"
   ]
  },
  {
   "cell_type": "code",
   "execution_count": null,
   "id": "50c97c63-1c12-46e5-811c-7662356fadf8",
   "metadata": {},
   "outputs": [],
   "source": []
  }
 ],
 "metadata": {
  "kernelspec": {
   "display_name": "Python 3 (ipykernel)",
   "language": "python",
   "name": "python3"
  },
  "language_info": {
   "codemirror_mode": {
    "name": "ipython",
    "version": 3
   },
   "file_extension": ".py",
   "mimetype": "text/x-python",
   "name": "python",
   "nbconvert_exporter": "python",
   "pygments_lexer": "ipython3",
   "version": "3.12.3"
  }
 },
 "nbformat": 4,
 "nbformat_minor": 5
}
