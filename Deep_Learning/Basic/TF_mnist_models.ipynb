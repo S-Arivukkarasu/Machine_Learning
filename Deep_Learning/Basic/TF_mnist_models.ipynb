{
 "cells": [
  {
   "cell_type": "markdown",
   "id": "77aaf9bb-ba00-45c4-b8e1-95e612080686",
   "metadata": {},
   "source": [
    "# Deep Neural Network for MNIST Classification\n",
    "\n",
    "We'll apply all the knowledge from the lectures in this section to write a deep neural network. The problem we've chosen is referred to as the \"Hello World\" of deep learning because for most students it is the first deep learning algorithm they see.\n",
    "\n",
    "The dataset is called MNIST and refers to handwritten digit recognition. You can find more about it on Yann LeCun's website (Director of AI Research, Facebook). He is one of the pioneers of what we've been talking about and of more complex approaches that are widely used today, such as covolutional neural networks (CNNs). \n",
    "\n",
    "The dataset provides 70,000 images (28x28 pixels) of handwritten digits (1 digit per image). \n",
    "\n",
    "The goal is to write an algorithm that detects which digit is written. Since there are only 10 digits (0, 1, 2, 3, 4, 5, 6, 7, 8, 9), this is a classification problem with 10 classes. \n",
    "\n",
    "Our goal would be to build a neural network with 2 hidden layers."
   ]
  },
  {
   "cell_type": "markdown",
   "id": "a9206892-02d1-4b01-844d-5c28a0e6236e",
   "metadata": {},
   "source": [
    "### Importing Packages"
   ]
  },
  {
   "cell_type": "code",
   "execution_count": 2,
   "id": "1285f79d-cde2-440b-a57b-7785fffb82f8",
   "metadata": {},
   "outputs": [
    {
     "name": "stderr",
     "output_type": "stream",
     "text": [
      "2025-01-19 13:23:24.056807: E external/local_xla/xla/stream_executor/cuda/cuda_fft.cc:477] Unable to register cuFFT factory: Attempting to register factory for plugin cuFFT when one has already been registered\n",
      "WARNING: All log messages before absl::InitializeLog() is called are written to STDERR\n",
      "E0000 00:00:1737273204.072360    9695 cuda_dnn.cc:8310] Unable to register cuDNN factory: Attempting to register factory for plugin cuDNN when one has already been registered\n",
      "E0000 00:00:1737273204.077129    9695 cuda_blas.cc:1418] Unable to register cuBLAS factory: Attempting to register factory for plugin cuBLAS when one has already been registered\n",
      "2025-01-19 13:23:24.093006: I tensorflow/core/platform/cpu_feature_guard.cc:210] This TensorFlow binary is optimized to use available CPU instructions in performance-critical operations.\n",
      "To enable the following instructions: AVX2 FMA, in other operations, rebuild TensorFlow with the appropriate compiler flags.\n"
     ]
    }
   ],
   "source": [
    "# !pip install tensorflow-datasets\n",
    "\n",
    "import numpy as np\n",
    "import tensorflow as tf\n",
    "\n",
    "import tensorflow_datasets as tfds"
   ]
  },
  {
   "cell_type": "markdown",
   "id": "e63fef32-ab5b-4fed-8609-82f0fe3fafe6",
   "metadata": {},
   "source": [
    "### Data"
   ]
  },
  {
   "cell_type": "code",
   "execution_count": 4,
   "id": "8803832f-ff0d-42ac-8d80-4f57c278b007",
   "metadata": {},
   "outputs": [],
   "source": [
    "# as_supervised splits the data into training and testing as we can use it easily\n",
    "# with_info gives information about the dataset that we can use \n",
    "\n",
    "mnist_data, mnist_info  = tfds.load(name='mnist', with_info=True, as_supervised=True)"
   ]
  },
  {
   "cell_type": "code",
   "execution_count": 5,
   "id": "7dad43ff-e3ce-48c6-85e3-a89de7522c4f",
   "metadata": {},
   "outputs": [
    {
     "data": {
      "text/plain": [
       "tfds.core.DatasetInfo(\n",
       "    name='mnist',\n",
       "    full_name='mnist/3.0.1',\n",
       "    description=\"\"\"\n",
       "    The MNIST database of handwritten digits.\n",
       "    \"\"\",\n",
       "    homepage='http://yann.lecun.com/exdb/mnist/',\n",
       "    data_dir='/home/alexender/tensorflow_datasets/mnist/3.0.1',\n",
       "    file_format=tfrecord,\n",
       "    download_size=11.06 MiB,\n",
       "    dataset_size=21.00 MiB,\n",
       "    features=FeaturesDict({\n",
       "        'image': Image(shape=(28, 28, 1), dtype=uint8),\n",
       "        'label': ClassLabel(shape=(), dtype=int64, num_classes=10),\n",
       "    }),\n",
       "    supervised_keys=('image', 'label'),\n",
       "    disable_shuffling=False,\n",
       "    splits={\n",
       "        'test': <SplitInfo num_examples=10000, num_shards=1>,\n",
       "        'train': <SplitInfo num_examples=60000, num_shards=1>,\n",
       "    },\n",
       "    citation=\"\"\"@article{lecun2010mnist,\n",
       "      title={MNIST handwritten digit database},\n",
       "      author={LeCun, Yann and Cortes, Corinna and Burges, CJ},\n",
       "      journal={ATT Labs [Online]. Available: http://yann.lecun.com/exdb/mnist},\n",
       "      volume={2},\n",
       "      year={2010}\n",
       "    }\"\"\",\n",
       ")"
      ]
     },
     "execution_count": 5,
     "metadata": {},
     "output_type": "execute_result"
    }
   ],
   "source": [
    "mnist_info"
   ]
  },
  {
   "cell_type": "code",
   "execution_count": 6,
   "id": "0aaf1deb-b533-4f18-9bf4-a3de2b4f6a07",
   "metadata": {},
   "outputs": [],
   "source": [
    "# We can split the train and test sets from data \n",
    "\n",
    "mnist_train, mnist_test = mnist_data['train'], mnist_data['test']"
   ]
  },
  {
   "cell_type": "code",
   "execution_count": 7,
   "id": "bba5a017-a832-4c15-8619-1aad8cb801d6",
   "metadata": {},
   "outputs": [],
   "source": [
    "# We need validation samples so we are spliting training data using the info we have from the dataset and converting it into int64 using TF\n",
    "\n",
    "num_validation_samples = 0.1 * mnist_info.splits['train'].num_examples\n",
    "num_validation_samples = tf.cast(num_validation_samples, tf.int64)\n",
    "\n",
    "num_test_samples = mnist_info.splits['test'].num_examples\n",
    "num_test_samples = tf.cast(num_test_samples, tf.int64)"
   ]
  },
  {
   "cell_type": "code",
   "execution_count": 8,
   "id": "174d390f-74df-42b9-8356-420f47e30deb",
   "metadata": {},
   "outputs": [],
   "source": [
    "def scale(image, label):\n",
    "    \"\"\"Now we will generally scale our inputs(eg: from 0 to 1) we will write a function.\n",
    "    It will take mnist image and its label as input and cast the images as float\"\"\"\n",
    "    image = tf.cast(image, tf.float32)\n",
    "    \n",
    "    # To scale our image we have to divide it into 255 because each image consist of values from 0 to 255 in each cell in 28*28 matrix\n",
    "    \n",
    "    image = image/255.\n",
    "    return image, label\n",
    "    "
   ]
  },
  {
   "cell_type": "code",
   "execution_count": 9,
   "id": "12a4b7fc-06df-4910-8a09-922047e782d8",
   "metadata": {},
   "outputs": [],
   "source": [
    "scaled_train_and_validation_data = mnist_train.map(scale)\n",
    "scaled_test_data = mnist_test.map(scale)"
   ]
  },
  {
   "cell_type": "code",
   "execution_count": 10,
   "id": "50dbe7a8-770c-43fe-8296-3f4a7125b1fd",
   "metadata": {},
   "outputs": [],
   "source": [
    "# Shuffling the data\n",
    "\n",
    "BUFFER_SIZE = 10000\n",
    "shuffled_train_and_validation_data = scaled_train_and_validation_data.shuffle(BUFFER_SIZE)"
   ]
  },
  {
   "cell_type": "code",
   "execution_count": 11,
   "id": "eb0ee688-af60-463a-9599-fafff74ea378",
   "metadata": {},
   "outputs": [],
   "source": [
    "# Spliting validation set \n",
    "\n",
    "validation_data = shuffled_train_and_validation_data.take(num_validation_samples)\n",
    "train_data = shuffled_train_and_validation_data.skip(num_validation_samples)"
   ]
  },
  {
   "cell_type": "code",
   "execution_count": 12,
   "id": "cf3533ed-34df-4604-bb2f-a0bf6dbe4116",
   "metadata": {},
   "outputs": [
    {
     "name": "stderr",
     "output_type": "stream",
     "text": [
      "2025-01-19 13:23:56.030977: I tensorflow/core/kernels/data/tf_record_dataset_op.cc:376] The default buffer size is 262144, which is overridden by the user specified `buffer_size` of 8388608\n",
      "2025-01-19 13:23:56.232090: W tensorflow/core/kernels/data/cache_dataset_ops.cc:914] The calling iterator did not fully read the dataset being cached. In order to avoid unexpected truncation of the dataset, the partially cached contents of the dataset  will be discarded. This can happen if you have an input pipeline similar to `dataset.cache().take(k).repeat()`. You should use `dataset.take(k).cache().repeat()` instead.\n"
     ]
    }
   ],
   "source": [
    "# Creating batch for mini batch Gradient Descent \n",
    "\n",
    "BATCH_SIZE = 100\n",
    "train_data = train_data.batch(BATCH_SIZE)\n",
    "validation_data = validation_data.batch(num_validation_samples)\n",
    "test_data = scaled_test_data.batch(num_test_samples)\n",
    "\n",
    "validation_inputs, validation_targets = next(iter(validation_data))"
   ]
  },
  {
   "cell_type": "markdown",
   "id": "55dcaf9d-6aea-4aa7-b21d-59e7bb2c595a",
   "metadata": {},
   "source": [
    "### Model"
   ]
  },
  {
   "cell_type": "markdown",
   "id": "c7a465a2-6d43-49b2-8214-2af697f95aac",
   "metadata": {},
   "source": [
    "#### Outline of the model"
   ]
  },
  {
   "cell_type": "code",
   "execution_count": 13,
   "id": "37fc20ba-7164-4a82-8d4a-a15fb69ccac4",
   "metadata": {},
   "outputs": [
    {
     "name": "stderr",
     "output_type": "stream",
     "text": [
      "/home/alexender/Desktop/Projects/My_Projects/envs/Data_Science/lib/python3.12/site-packages/keras/src/layers/reshaping/flatten.py:37: UserWarning: Do not pass an `input_shape`/`input_dim` argument to a layer. When using Sequential models, prefer using an `Input(shape)` object as the first layer in the model instead.\n",
      "  super().__init__(**kwargs)\n"
     ]
    }
   ],
   "source": [
    "input_size = 784\n",
    "output_size = 10\n",
    "hidden_layer_size = 200\n",
    "\n",
    "model = tf.keras.Sequential([\n",
    "                                tf.keras.layers.Flatten(input_shape=(28,28,1)),\n",
    "                                tf.keras.layers.Dense(hidden_layer_size, activation='relu'),\n",
    "                                tf.keras.layers.Dense(hidden_layer_size, activation='relu'),\n",
    "                                tf.keras.layers.Dense(hidden_layer_size,activation='relu'),\n",
    "                                tf.keras.layers.Dense(output_size, activation='softmax'),\n",
    "                            ])"
   ]
  },
  {
   "cell_type": "markdown",
   "id": "74cd635e-fe6c-491d-80e6-f00571ef8f5d",
   "metadata": {},
   "source": [
    "#### Choosing Optimizer and Loss Function"
   ]
  },
  {
   "cell_type": "code",
   "execution_count": 14,
   "id": "dfeee19c-62c9-4549-96e1-b9f6385737a1",
   "metadata": {},
   "outputs": [],
   "source": [
    "# This is a classification problem so we are choosing loss function as 'sparse_categorical_crossentropy' as its best for classification \n",
    "# For Optimizer we ara choosing the best ADAM optimizer \n",
    "# custom_optimizer = tf.keras.optimizers.Adam(learning_rate=0.0001)\n",
    "\n",
    "model.compile(optimizer='adam', loss='sparse_categorical_crossentropy', metrics=['accuracy'])"
   ]
  },
  {
   "cell_type": "markdown",
   "id": "cbedaa24-df43-41fa-80d6-b68f54bcb53f",
   "metadata": {},
   "source": [
    "#### Training "
   ]
  },
  {
   "cell_type": "code",
   "execution_count": 15,
   "id": "844548ed-223e-4662-9408-e3d6fa1e5347",
   "metadata": {},
   "outputs": [
    {
     "name": "stdout",
     "output_type": "stream",
     "text": [
      "Epoch 1/10\n",
      "540/540 - 3s - 5ms/step - accuracy: 0.9234 - loss: 0.2616 - val_accuracy: 0.9640 - val_loss: 0.1199\n",
      "Epoch 2/10\n",
      "540/540 - 1s - 2ms/step - accuracy: 0.9699 - loss: 0.1000 - val_accuracy: 0.9725 - val_loss: 0.0877\n",
      "Epoch 3/10\n",
      "540/540 - 1s - 2ms/step - accuracy: 0.9795 - loss: 0.0678 - val_accuracy: 0.9780 - val_loss: 0.0668\n",
      "Epoch 4/10\n",
      "540/540 - 1s - 2ms/step - accuracy: 0.9834 - loss: 0.0523 - val_accuracy: 0.9835 - val_loss: 0.0530\n",
      "Epoch 5/10\n",
      "540/540 - 1s - 2ms/step - accuracy: 0.9878 - loss: 0.0391 - val_accuracy: 0.9878 - val_loss: 0.0445\n",
      "Epoch 6/10\n",
      "540/540 - 1s - 2ms/step - accuracy: 0.9889 - loss: 0.0342 - val_accuracy: 0.9888 - val_loss: 0.0331\n",
      "Epoch 7/10\n",
      "540/540 - 1s - 2ms/step - accuracy: 0.9910 - loss: 0.0286 - val_accuracy: 0.9845 - val_loss: 0.0486\n",
      "Epoch 8/10\n",
      "540/540 - 1s - 2ms/step - accuracy: 0.9925 - loss: 0.0236 - val_accuracy: 0.9907 - val_loss: 0.0279\n",
      "Epoch 9/10\n",
      "540/540 - 1s - 2ms/step - accuracy: 0.9931 - loss: 0.0216 - val_accuracy: 0.9915 - val_loss: 0.0261\n",
      "Epoch 10/10\n",
      "540/540 - 1s - 2ms/step - accuracy: 0.9929 - loss: 0.0219 - val_accuracy: 0.9915 - val_loss: 0.0234\n"
     ]
    },
    {
     "data": {
      "text/plain": [
       "<keras.src.callbacks.history.History at 0x737c86944080>"
      ]
     },
     "execution_count": 15,
     "metadata": {},
     "output_type": "execute_result"
    }
   ],
   "source": [
    "NUM_EPOCH = 10\n",
    "\n",
    "model.fit(train_data, epochs=NUM_EPOCH, callbacks=[tf.keras.callbacks.EarlyStopping(patience=2)], verbose=2, validation_data=(validation_inputs, validation_targets))"
   ]
  },
  {
   "cell_type": "markdown",
   "id": "488949f0-d49d-4592-8cb5-5d899132783e",
   "metadata": {},
   "source": [
    "### Testing the model "
   ]
  },
  {
   "cell_type": "code",
   "execution_count": 16,
   "id": "f63c728e-bb4e-4f6f-a3d6-de3cea576e4a",
   "metadata": {},
   "outputs": [
    {
     "name": "stdout",
     "output_type": "stream",
     "text": [
      "\u001b[1m1/1\u001b[0m \u001b[32m━━━━━━━━━━━━━━━━━━━━\u001b[0m\u001b[37m\u001b[0m \u001b[1m0s\u001b[0m 152ms/step - accuracy: 0.9779 - loss: 0.0882\n"
     ]
    }
   ],
   "source": [
    "test_loss, test_accuracy = model.evaluate(test_data)"
   ]
  },
  {
   "cell_type": "code",
   "execution_count": 17,
   "id": "14ee5b4f-b4d2-4fa9-affb-347d89678637",
   "metadata": {},
   "outputs": [
    {
     "name": "stdout",
     "output_type": "stream",
     "text": [
      "Test Loss: 0.09, Test Accuracy: 97.79\n"
     ]
    }
   ],
   "source": [
    "print(\"Test Loss: {:.2f}, Test Accuracy: {:.2f}\".format(test_loss, test_accuracy*100))"
   ]
  },
  {
   "cell_type": "code",
   "execution_count": null,
   "id": "e47a0284-7e1c-462a-9ad0-c70daed0b50b",
   "metadata": {},
   "outputs": [],
   "source": []
  }
 ],
 "metadata": {
  "kernelspec": {
   "display_name": "Python 3 (ipykernel)",
   "language": "python",
   "name": "python3"
  },
  "language_info": {
   "codemirror_mode": {
    "name": "ipython",
    "version": 3
   },
   "file_extension": ".py",
   "mimetype": "text/x-python",
   "name": "python",
   "nbconvert_exporter": "python",
   "pygments_lexer": "ipython3",
   "version": "3.12.3"
  }
 },
 "nbformat": 4,
 "nbformat_minor": 5
}
