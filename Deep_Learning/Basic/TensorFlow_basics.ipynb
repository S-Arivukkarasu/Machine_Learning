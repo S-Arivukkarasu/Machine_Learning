{
 "cells": [
  {
   "cell_type": "markdown",
   "id": "574a08ba-2cc1-4bf3-9032-2c89d2e33027",
   "metadata": {},
   "source": [
    "# Minimal Example using TensorFlow \n",
    "In this notebook we will recreate the minimal Model using TensorFlow"
   ]
  },
  {
   "cell_type": "markdown",
   "id": "e5c81ee0-4e9f-4e62-9aa2-cddf6096ac2c",
   "metadata": {},
   "source": [
    "### Importing Libraries"
   ]
  },
  {
   "cell_type": "code",
   "execution_count": 1,
   "id": "305a09a6-bc2c-4eda-8f60-d3e54cc9fd0f",
   "metadata": {},
   "outputs": [
    {
     "name": "stderr",
     "output_type": "stream",
     "text": [
      "2024-11-20 19:10:25.553131: E external/local_xla/xla/stream_executor/cuda/cuda_fft.cc:477] Unable to register cuFFT factory: Attempting to register factory for plugin cuFFT when one has already been registered\n",
      "WARNING: All log messages before absl::InitializeLog() is called are written to STDERR\n",
      "E0000 00:00:1732110025.699053   11433 cuda_dnn.cc:8310] Unable to register cuDNN factory: Attempting to register factory for plugin cuDNN when one has already been registered\n",
      "E0000 00:00:1732110025.743016   11433 cuda_blas.cc:1418] Unable to register cuBLAS factory: Attempting to register factory for plugin cuBLAS when one has already been registered\n",
      "2024-11-20 19:10:26.024594: I tensorflow/core/platform/cpu_feature_guard.cc:210] This TensorFlow binary is optimized to use available CPU instructions in performance-critical operations.\n",
      "To enable the following instructions: AVX2 FMA, in other operations, rebuild TensorFlow with the appropriate compiler flags.\n"
     ]
    }
   ],
   "source": [
    "import numpy as np \n",
    "import tensorflow as tf\n",
    "import matplotlib.pyplot as plt"
   ]
  },
  {
   "cell_type": "code",
   "execution_count": 2,
   "id": "39d0fcff-d62b-4474-a3bb-532e4ebc9ab2",
   "metadata": {},
   "outputs": [
    {
     "name": "stdout",
     "output_type": "stream",
     "text": [
      "2.18.0\n",
      "[PhysicalDevice(name='/physical_device:GPU:0', device_type='GPU')]\n"
     ]
    }
   ],
   "source": [
    "print(tf.__version__)\n",
    "print(tf.config.list_physical_devices('GPU'))"
   ]
  },
  {
   "cell_type": "markdown",
   "id": "7f921351-99f5-42ee-9dad-e03cf7fa38e8",
   "metadata": {},
   "source": [
    "### Data Generation \n",
    "we will generate the fake data like in the basic NN notebook. Please refer that to understand the whole process"
   ]
  },
  {
   "cell_type": "code",
   "execution_count": 3,
   "id": "d15ebd49-f086-475c-9014-7ab6446c8937",
   "metadata": {},
   "outputs": [],
   "source": [
    "np.random.seed(42)\n",
    "observations = 100000\n",
    "\n",
    "xs = np.random.uniform(low=-10, high=10, size=(observations,1))\n",
    "zs = np.random.uniform(low=-10, high=10, size=(observations,1))\n",
    "\n",
    "generated_inputs = np.column_stack((xs, zs))\n",
    "\n",
    "noise = np.random.uniform(-1, 1, (observations, 1))\n",
    "\n",
    "generated_targets = 2*xs -3*zs + 5 + noise\n",
    "\n",
    "# This savez function will save multiple n-D arrays into one single file with \".npz\" extension \n",
    "np.savez(\"TF_intro_2\", inputs=generated_inputs, targets=generated_targets)"
   ]
  },
  {
   "cell_type": "markdown",
   "id": "0717b23f-5073-4af1-aea3-be4a55c00f2b",
   "metadata": {},
   "source": [
    "### Solving with TensorFlow"
   ]
  },
  {
   "cell_type": "code",
   "execution_count": 4,
   "id": "9032ae22-f47a-4605-906f-40f7cd39ba06",
   "metadata": {},
   "outputs": [],
   "source": [
    "# Loading the Data from \"npz\" files \n",
    "training_data = np.load(\"TF_intro_2.npz\")"
   ]
  },
  {
   "cell_type": "code",
   "execution_count": 5,
   "id": "c459f1e1-c04d-45d7-b1b7-7495ed8fa1aa",
   "metadata": {},
   "outputs": [],
   "source": [
    "# we declare input and output size \n",
    "# Since we have 2 independent variables we have input size 2\n",
    "input_size = 2 \n",
    "\n",
    "# Since we have 1 dependent variables we have output size \n",
    "output_size = 1"
   ]
  },
  {
   "cell_type": "markdown",
   "id": "3de5e870-cd70-4e1f-ada7-83c8480d59d0",
   "metadata": {},
   "source": [
    "`Sequential` function uses to create a model will be laid down i.e. stacks layers\n",
    "\n",
    "`Dense` method takes the inputs to the model and dot product the inputs and add it with bias which is actual linear model does\n"
   ]
  },
  {
   "cell_type": "code",
   "execution_count": 6,
   "id": "db459d73-233c-4320-a276-d3f0ca535010",
   "metadata": {},
   "outputs": [],
   "source": [
    "model = tf.keras.Sequential([\n",
    "                            tf.keras.layers.Dense(output_size,\n",
    "                                                  kernel_initializer=tf.random_uniform_initializer(minval=-0.1, maxval=0.1),\n",
    "                                                  bias_initializer=tf.random_uniform_initializer(minval=-0.1, maxval=0.1)\n",
    "                                                 )\n",
    "])"
   ]
  },
  {
   "cell_type": "markdown",
   "id": "e3462b91-ad70-4f98-be08-17183ddd264c",
   "metadata": {},
   "source": [
    "Now we got the model and need the optimization method\n",
    "\n",
    "TF provides the method `compile` where we can specify which optimization technique we going to use \n",
    "\n",
    "Here we use **SGD-Stochastic Gradient Descent** which a for of Gradient Descent itself and for Loss function we use L2-norm fuction which is the **Mean Squared Error function**"
   ]
  },
  {
   "cell_type": "code",
   "execution_count": 7,
   "id": "46340228-eadc-46e6-b993-eef514c84bd8",
   "metadata": {},
   "outputs": [
    {
     "name": "stderr",
     "output_type": "stream",
     "text": [
      "I0000 00:00:1732110036.863609   11433 gpu_device.cc:2022] Created device /job:localhost/replica:0/task:0/device:GPU:0 with 2605 MB memory:  -> device: 0, name: NVIDIA GeForce GTX 1650 Ti, pci bus id: 0000:01:00.0, compute capability: 7.5\n"
     ]
    }
   ],
   "source": [
    "# custom_optimizer = tf.keras.optimizers.SGD(learning_rate=0.01)\n",
    "\n",
    "model.compile(optimizer='sgd', loss='mean_squared_error')\n",
    "# model.compile(optimizer=custom_optimizer, loss='mean_squared_error')"
   ]
  },
  {
   "cell_type": "markdown",
   "id": "c31cb465-4c70-4acd-9647-80003222d823",
   "metadata": {},
   "source": [
    "Now we will fit the model using `fit` function\n",
    "\n",
    "We use `Epochs` which is the number times that the learning algorithm will work through the entire training dataset and `verbose` which the info while training the model usually we set verbose to 1 to know how the model performs in training in each iteration"
   ]
  },
  {
   "cell_type": "code",
   "execution_count": 8,
   "id": "b625a322-6275-4b72-91a6-710a7fecb9ab",
   "metadata": {},
   "outputs": [
    {
     "name": "stdout",
     "output_type": "stream",
     "text": [
      "Epoch 1/100\n"
     ]
    },
    {
     "name": "stderr",
     "output_type": "stream",
     "text": [
      "WARNING: All log messages before absl::InitializeLog() is called are written to STDERR\n",
      "I0000 00:00:1732110048.752515   11514 service.cc:148] XLA service 0x7f9588165320 initialized for platform CUDA (this does not guarantee that XLA will be used). Devices:\n",
      "I0000 00:00:1732110048.752807   11514 service.cc:156]   StreamExecutor device (0): NVIDIA GeForce GTX 1650 Ti, Compute Capability 7.5\n",
      "I0000 00:00:1732110048.794560   11514 cuda_dnn.cc:529] Loaded cuDNN version 90300\n",
      "I0000 00:00:1732110049.217175   11514 device_compiler.h:188] Compiled cluster using XLA!  This line is logged at most once for the lifetime of the process.\n"
     ]
    },
    {
     "name": "stdout",
     "output_type": "stream",
     "text": [
      "3125/3125 - 5s - 1ms/step - loss: 0.7047\n",
      "Epoch 2/100\n",
      "3125/3125 - 4s - 1ms/step - loss: 0.3443\n",
      "Epoch 3/100\n",
      "3125/3125 - 4s - 1ms/step - loss: 0.3445\n",
      "Epoch 4/100\n",
      "3125/3125 - 5s - 2ms/step - loss: 0.3443\n",
      "Epoch 5/100\n",
      "3125/3125 - 5s - 1ms/step - loss: 0.3444\n",
      "Epoch 6/100\n",
      "3125/3125 - 7s - 2ms/step - loss: 0.3442\n",
      "Epoch 7/100\n",
      "3125/3125 - 2s - 488us/step - loss: 0.3448\n",
      "Epoch 8/100\n",
      "3125/3125 - 2s - 515us/step - loss: 0.3447\n",
      "Epoch 9/100\n",
      "3125/3125 - 2s - 507us/step - loss: 0.3443\n",
      "Epoch 10/100\n",
      "3125/3125 - 2s - 557us/step - loss: 0.3441\n",
      "Epoch 11/100\n",
      "3125/3125 - 2s - 543us/step - loss: 0.3442\n",
      "Epoch 12/100\n",
      "3125/3125 - 2s - 667us/step - loss: 0.3441\n",
      "Epoch 13/100\n",
      "3125/3125 - 2s - 578us/step - loss: 0.3444\n",
      "Epoch 14/100\n",
      "3125/3125 - 2s - 561us/step - loss: 0.3448\n",
      "Epoch 15/100\n",
      "3125/3125 - 2s - 611us/step - loss: 0.3446\n",
      "Epoch 16/100\n",
      "3125/3125 - 2s - 499us/step - loss: 0.3446\n",
      "Epoch 17/100\n",
      "3125/3125 - 2s - 483us/step - loss: 0.3441\n",
      "Epoch 18/100\n",
      "3125/3125 - 2s - 497us/step - loss: 0.3440\n",
      "Epoch 19/100\n",
      "3125/3125 - 1s - 480us/step - loss: 0.3442\n",
      "Epoch 20/100\n",
      "3125/3125 - 1s - 478us/step - loss: 0.3448\n",
      "Epoch 21/100\n",
      "3125/3125 - 2s - 482us/step - loss: 0.3446\n",
      "Epoch 22/100\n",
      "3125/3125 - 2s - 485us/step - loss: 0.3439\n",
      "Epoch 23/100\n",
      "3125/3125 - 2s - 482us/step - loss: 0.3446\n",
      "Epoch 24/100\n",
      "3125/3125 - 2s - 485us/step - loss: 0.3446\n",
      "Epoch 25/100\n",
      "3125/3125 - 2s - 480us/step - loss: 0.3440\n",
      "Epoch 26/100\n",
      "3125/3125 - 1s - 474us/step - loss: 0.3439\n",
      "Epoch 27/100\n",
      "3125/3125 - 2s - 486us/step - loss: 0.3438\n",
      "Epoch 28/100\n",
      "3125/3125 - 1s - 479us/step - loss: 0.3444\n",
      "Epoch 29/100\n",
      "3125/3125 - 1s - 479us/step - loss: 0.3447\n",
      "Epoch 30/100\n",
      "3125/3125 - 1s - 479us/step - loss: 0.3443\n",
      "Epoch 31/100\n",
      "3125/3125 - 2s - 489us/step - loss: 0.3445\n",
      "Epoch 32/100\n",
      "3125/3125 - 1s - 473us/step - loss: 0.3442\n",
      "Epoch 33/100\n",
      "3125/3125 - 2s - 481us/step - loss: 0.3445\n",
      "Epoch 34/100\n",
      "3125/3125 - 1s - 476us/step - loss: 0.3446\n",
      "Epoch 35/100\n",
      "3125/3125 - 2s - 481us/step - loss: 0.3445\n",
      "Epoch 36/100\n",
      "3125/3125 - 1s - 470us/step - loss: 0.3443\n",
      "Epoch 37/100\n",
      "3125/3125 - 2s - 484us/step - loss: 0.3449\n",
      "Epoch 38/100\n",
      "3125/3125 - 1s - 478us/step - loss: 0.3441\n",
      "Epoch 39/100\n",
      "3125/3125 - 1s - 476us/step - loss: 0.3439\n",
      "Epoch 40/100\n",
      "3125/3125 - 1s - 471us/step - loss: 0.3443\n",
      "Epoch 41/100\n",
      "3125/3125 - 2s - 494us/step - loss: 0.3445\n",
      "Epoch 42/100\n",
      "3125/3125 - 2s - 480us/step - loss: 0.3450\n",
      "Epoch 43/100\n",
      "3125/3125 - 1s - 472us/step - loss: 0.3443\n",
      "Epoch 44/100\n",
      "3125/3125 - 1s - 477us/step - loss: 0.3451\n",
      "Epoch 45/100\n",
      "3125/3125 - 2s - 486us/step - loss: 0.3446\n",
      "Epoch 46/100\n",
      "3125/3125 - 2s - 490us/step - loss: 0.3446\n",
      "Epoch 47/100\n",
      "3125/3125 - 2s - 494us/step - loss: 0.3447\n",
      "Epoch 48/100\n",
      "3125/3125 - 1s - 474us/step - loss: 0.3444\n",
      "Epoch 49/100\n",
      "3125/3125 - 2s - 486us/step - loss: 0.3442\n",
      "Epoch 50/100\n",
      "3125/3125 - 2s - 482us/step - loss: 0.3446\n",
      "Epoch 51/100\n",
      "3125/3125 - 2s - 485us/step - loss: 0.3441\n",
      "Epoch 52/100\n",
      "3125/3125 - 1s - 472us/step - loss: 0.3450\n",
      "Epoch 53/100\n",
      "3125/3125 - 1s - 476us/step - loss: 0.3446\n",
      "Epoch 54/100\n",
      "3125/3125 - 2s - 483us/step - loss: 0.3446\n",
      "Epoch 55/100\n",
      "3125/3125 - 2s - 485us/step - loss: 0.3453\n",
      "Epoch 56/100\n",
      "3125/3125 - 2s - 486us/step - loss: 0.3444\n",
      "Epoch 57/100\n",
      "3125/3125 - 1s - 475us/step - loss: 0.3443\n",
      "Epoch 58/100\n",
      "3125/3125 - 2s - 499us/step - loss: 0.3439\n",
      "Epoch 59/100\n",
      "3125/3125 - 2s - 516us/step - loss: 0.3441\n",
      "Epoch 60/100\n",
      "3125/3125 - 2s - 515us/step - loss: 0.3440\n",
      "Epoch 61/100\n",
      "3125/3125 - 2s - 545us/step - loss: 0.3447\n",
      "Epoch 62/100\n",
      "3125/3125 - 2s - 521us/step - loss: 0.3447\n",
      "Epoch 63/100\n",
      "3125/3125 - 2s - 529us/step - loss: 0.3449\n",
      "Epoch 64/100\n",
      "3125/3125 - 2s - 501us/step - loss: 0.3448\n",
      "Epoch 65/100\n",
      "3125/3125 - 2s - 528us/step - loss: 0.3445\n",
      "Epoch 66/100\n",
      "3125/3125 - 2s - 521us/step - loss: 0.3441\n",
      "Epoch 67/100\n",
      "3125/3125 - 2s - 506us/step - loss: 0.3450\n",
      "Epoch 68/100\n",
      "3125/3125 - 2s - 506us/step - loss: 0.3444\n",
      "Epoch 69/100\n",
      "3125/3125 - 2s - 504us/step - loss: 0.3448\n",
      "Epoch 70/100\n",
      "3125/3125 - 2s - 505us/step - loss: 0.3451\n",
      "Epoch 71/100\n",
      "3125/3125 - 2s - 506us/step - loss: 0.3440\n",
      "Epoch 72/100\n",
      "3125/3125 - 2s - 512us/step - loss: 0.3445\n",
      "Epoch 73/100\n",
      "3125/3125 - 2s - 507us/step - loss: 0.3444\n",
      "Epoch 74/100\n",
      "3125/3125 - 2s - 504us/step - loss: 0.3443\n",
      "Epoch 75/100\n",
      "3125/3125 - 2s - 508us/step - loss: 0.3449\n",
      "Epoch 76/100\n",
      "3125/3125 - 2s - 517us/step - loss: 0.3444\n",
      "Epoch 77/100\n",
      "3125/3125 - 2s - 503us/step - loss: 0.3446\n",
      "Epoch 78/100\n",
      "3125/3125 - 2s - 510us/step - loss: 0.3441\n",
      "Epoch 79/100\n",
      "3125/3125 - 2s - 506us/step - loss: 0.3438\n",
      "Epoch 80/100\n",
      "3125/3125 - 2s - 501us/step - loss: 0.3446\n",
      "Epoch 81/100\n",
      "3125/3125 - 2s - 505us/step - loss: 0.3441\n",
      "Epoch 82/100\n",
      "3125/3125 - 2s - 506us/step - loss: 0.3446\n",
      "Epoch 83/100\n",
      "3125/3125 - 2s - 507us/step - loss: 0.3444\n",
      "Epoch 84/100\n",
      "3125/3125 - 2s - 516us/step - loss: 0.3449\n",
      "Epoch 85/100\n",
      "3125/3125 - 2s - 505us/step - loss: 0.3446\n",
      "Epoch 86/100\n",
      "3125/3125 - 2s - 501us/step - loss: 0.3445\n",
      "Epoch 87/100\n",
      "3125/3125 - 2s - 481us/step - loss: 0.3444\n",
      "Epoch 88/100\n",
      "3125/3125 - 2s - 482us/step - loss: 0.3447\n",
      "Epoch 89/100\n",
      "3125/3125 - 2s - 484us/step - loss: 0.3448\n",
      "Epoch 90/100\n",
      "3125/3125 - 1s - 479us/step - loss: 0.3443\n",
      "Epoch 91/100\n",
      "3125/3125 - 1s - 479us/step - loss: 0.3445\n",
      "Epoch 92/100\n",
      "3125/3125 - 1s - 470us/step - loss: 0.3444\n",
      "Epoch 93/100\n",
      "3125/3125 - 1s - 475us/step - loss: 0.3438\n",
      "Epoch 94/100\n",
      "3125/3125 - 2s - 489us/step - loss: 0.3445\n",
      "Epoch 95/100\n",
      "3125/3125 - 2s - 484us/step - loss: 0.3441\n",
      "Epoch 96/100\n",
      "3125/3125 - 1s - 477us/step - loss: 0.3449\n",
      "Epoch 97/100\n",
      "3125/3125 - 2s - 482us/step - loss: 0.3443\n",
      "Epoch 98/100\n",
      "3125/3125 - 1s - 475us/step - loss: 0.3444\n",
      "Epoch 99/100\n",
      "3125/3125 - 1s - 477us/step - loss: 0.3447\n",
      "Epoch 100/100\n",
      "3125/3125 - 1s - 474us/step - loss: 0.3451\n"
     ]
    },
    {
     "data": {
      "text/plain": [
       "<keras.src.callbacks.history.History at 0x7f969bd370b0>"
      ]
     },
     "execution_count": 8,
     "metadata": {},
     "output_type": "execute_result"
    }
   ],
   "source": [
    "model.fit(training_data['inputs'], training_data['targets'], epochs=100, verbose=2)"
   ]
  },
  {
   "cell_type": "markdown",
   "id": "00446c48-dee9-4199-b694-38e09e1001e9",
   "metadata": {},
   "source": [
    "### Extract weights and bias\n",
    "\n",
    "we can use the build in methods to get the values of weights and bias"
   ]
  },
  {
   "cell_type": "code",
   "execution_count": 9,
   "id": "c8150464-c352-41c9-a56a-596dc890c660",
   "metadata": {},
   "outputs": [
    {
     "data": {
      "text/plain": [
       "[array([[ 1.9819934],\n",
       "        [-2.993531 ]], dtype=float32),\n",
       " array([4.999803], dtype=float32)]"
      ]
     },
     "execution_count": 9,
     "metadata": {},
     "output_type": "execute_result"
    }
   ],
   "source": [
    "model.layers[0].get_weights()"
   ]
  },
  {
   "cell_type": "markdown",
   "id": "13ee7678-d272-4c42-95cd-c97634725f1f",
   "metadata": {},
   "source": [
    "### Predicting the outputs"
   ]
  },
  {
   "cell_type": "code",
   "execution_count": 10,
   "id": "ff63bacc-4b1c-46b1-9e01-e2ef53ac1a6f",
   "metadata": {},
   "outputs": [],
   "source": [
    "predictions = model.predict_on_batch(training_data['inputs'])"
   ]
  },
  {
   "cell_type": "markdown",
   "id": "a3f5dd65-c5ad-4313-bf67-bf87a6b4e0b4",
   "metadata": {},
   "source": [
    "### Plotting the targets vs predictions"
   ]
  },
  {
   "cell_type": "code",
   "execution_count": 11,
   "id": "bf251727-352b-48bf-aec0-7f04d1c0be09",
   "metadata": {},
   "outputs": [
    {
     "data": {
      "image/png": "[encoded data removed]",
      "text/plain": [
       "<Figure size 640x480 with 1 Axes>"
      ]
     },
     "metadata": {},
     "output_type": "display_data"
    }
   ],
   "source": [
    "plt.plot(np.squeeze(predictions), np.squeeze(training_data['targets']))\n",
    "plt.xlabel('Prediction')\n",
    "plt.ylabel('Actual Outputs')\n",
    "plt.show()"
   ]
  },
  {
   "cell_type": "code",
   "execution_count": null,
   "id": "52caa558-4475-4979-bade-b48e9c992ee6",
   "metadata": {},
   "outputs": [],
   "source": []
  }
 ],
 "metadata": {
  "kernelspec": {
   "display_name": "Python 3 (ipykernel)",
   "language": "python",
   "name": "python3"
  },
  "language_info": {
   "codemirror_mode": {
    "name": "ipython",
    "version": 3
   },
   "file_extension": ".py",
   "mimetype": "text/x-python",
   "name": "python",
   "nbconvert_exporter": "python",
   "pygments_lexer": "ipython3",
   "version": "3.12.3"
  }
 },
 "nbformat": 4,
 "nbformat_minor": 5
}
