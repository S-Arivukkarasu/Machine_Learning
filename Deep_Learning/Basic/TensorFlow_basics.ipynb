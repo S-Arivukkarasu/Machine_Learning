{
 "cells": [
  {
   "cell_type": "markdown",
   "id": "574a08ba-2cc1-4bf3-9032-2c89d2e33027",
   "metadata": {},
   "source": [
    "# Minimal Example using TensorFlow \n",
    "In this notebook we will recreate the minimal Model using TensorFlow"
   ]
  },
  {
   "cell_type": "markdown",
   "id": "e5c81ee0-4e9f-4e62-9aa2-cddf6096ac2c",
   "metadata": {},
   "source": [
    "### Importing Libraries"
   ]
  },
  {
   "cell_type": "code",
   "execution_count": 1,
   "id": "305a09a6-bc2c-4eda-8f60-d3e54cc9fd0f",
   "metadata": {},
   "outputs": [
    {
     "name": "stderr",
     "output_type": "stream",
     "text": [
      "2025-02-08 14:11:30.051538: E external/local_xla/xla/stream_executor/cuda/cuda_fft.cc:477] Unable to register cuFFT factory: Attempting to register factory for plugin cuFFT when one has already been registered\n",
      "WARNING: All log messages before absl::InitializeLog() is called are written to STDERR\n",
      "E0000 00:00:1739004090.066879    5221 cuda_dnn.cc:8310] Unable to register cuDNN factory: Attempting to register factory for plugin cuDNN when one has already been registered\n",
      "E0000 00:00:1739004090.071598    5221 cuda_blas.cc:1418] Unable to register cuBLAS factory: Attempting to register factory for plugin cuBLAS when one has already been registered\n",
      "2025-02-08 14:11:30.087061: I tensorflow/core/platform/cpu_feature_guard.cc:210] This TensorFlow binary is optimized to use available CPU instructions in performance-critical operations.\n",
      "To enable the following instructions: AVX2 FMA, in other operations, rebuild TensorFlow with the appropriate compiler flags.\n"
     ]
    }
   ],
   "source": [
    "import numpy as np \n",
    "import tensorflow as tf\n",
    "import matplotlib.pyplot as plt"
   ]
  },
  {
   "cell_type": "code",
   "execution_count": 2,
   "id": "39d0fcff-d62b-4474-a3bb-532e4ebc9ab2",
   "metadata": {},
   "outputs": [
    {
     "name": "stdout",
     "output_type": "stream",
     "text": [
      "2.18.0\n",
      "[PhysicalDevice(name='/physical_device:GPU:0', device_type='GPU')]\n"
     ]
    }
   ],
   "source": [
    "print(tf.__version__)\n",
    "print(tf.config.list_physical_devices('GPU'))"
   ]
  },
  {
   "cell_type": "markdown",
   "id": "7f921351-99f5-42ee-9dad-e03cf7fa38e8",
   "metadata": {},
   "source": [
    "### Data Generation \n",
    "we will generate the fake data like in the basic NN notebook. Please refer that to understand the whole process"
   ]
  },
  {
   "cell_type": "code",
   "execution_count": 3,
   "id": "d15ebd49-f086-475c-9014-7ab6446c8937",
   "metadata": {},
   "outputs": [],
   "source": [
    "np.random.seed(42)\n",
    "observations = 100000\n",
    "\n",
    "xs = np.random.uniform(low=-10, high=10, size=(observations,1))\n",
    "zs = np.random.uniform(low=-10, high=10, size=(observations,1))\n",
    "\n",
    "generated_inputs = np.column_stack((xs, zs))\n",
    "\n",
    "noise = np.random.uniform(-1, 1, (observations, 1))\n",
    "\n",
    "generated_targets = 2*xs -3*zs + 5 + noise\n",
    "\n",
    "# This savez function will save multiple n-D arrays into one single file with \".npz\" extension \n",
    "np.savez(\"TF_intro_2\", inputs=generated_inputs, targets=generated_targets)"
   ]
  },
  {
   "cell_type": "markdown",
   "id": "0717b23f-5073-4af1-aea3-be4a55c00f2b",
   "metadata": {},
   "source": [
    "### Solving with TensorFlow"
   ]
  },
  {
   "cell_type": "code",
   "execution_count": 4,
   "id": "9032ae22-f47a-4605-906f-40f7cd39ba06",
   "metadata": {},
   "outputs": [],
   "source": [
    "# Loading the Data from \"npz\" files \n",
    "training_data = np.load(\"TF_intro.npz\")"
   ]
  },
  {
   "cell_type": "code",
   "execution_count": 5,
   "id": "c459f1e1-c04d-45d7-b1b7-7495ed8fa1aa",
   "metadata": {},
   "outputs": [],
   "source": [
    "# we declare input and output size \n",
    "# Since we have 2 independent variables we have input size 2\n",
    "input_size = 2 \n",
    "\n",
    "# Since we have 1 dependent variables we have output size \n",
    "output_size = 1"
   ]
  },
  {
   "cell_type": "markdown",
   "id": "3de5e870-cd70-4e1f-ada7-83c8480d59d0",
   "metadata": {},
   "source": [
    "`Sequential` function uses to create a model will be laid down i.e. stacks layers\n",
    "\n",
    "`Dense` method takes the inputs to the model and dot product the inputs and add it with bias which is actual linear model does\n"
   ]
  },
  {
   "cell_type": "code",
   "execution_count": 6,
   "id": "db459d73-233c-4320-a276-d3f0ca535010",
   "metadata": {},
   "outputs": [],
   "source": [
    "model = tf.keras.Sequential([\n",
    "                            tf.keras.layers.Dense(output_size,\n",
    "                                                  kernel_initializer=tf.random_uniform_initializer(minval=-0.1, maxval=0.1),\n",
    "                                                  bias_initializer=tf.random_uniform_initializer(minval=-0.1, maxval=0.1)\n",
    "                                                 )\n",
    "])"
   ]
  },
  {
   "cell_type": "markdown",
   "id": "e3462b91-ad70-4f98-be08-17183ddd264c",
   "metadata": {},
   "source": [
    "Now we got the model and need the optimization method\n",
    "\n",
    "TF provides the method `compile` where we can specify which optimization technique we going to use \n",
    "\n",
    "Here we use **SGD-Stochastic Gradient Descent** which a for of Gradient Descent itself and for Loss function we use L2-norm fuction which is the **Mean Squared Error function**"
   ]
  },
  {
   "cell_type": "code",
   "execution_count": 7,
   "id": "46340228-eadc-46e6-b993-eef514c84bd8",
   "metadata": {},
   "outputs": [
    {
     "name": "stderr",
     "output_type": "stream",
     "text": [
      "I0000 00:00:1739004094.060458    5221 gpu_device.cc:2022] Created device /job:localhost/replica:0/task:0/device:GPU:0 with 765 MB memory:  -> device: 0, name: NVIDIA GeForce GTX 1650 Ti, pci bus id: 0000:01:00.0, compute capability: 7.5\n"
     ]
    }
   ],
   "source": [
    "# custom_optimizer = tf.keras.optimizers.SGD(learning_rate=0.01)\n",
    "\n",
    "model.compile(optimizer='sgd', loss='mean_squared_error')\n",
    "# model.compile(optimizer=custom_optimizer, loss='mean_squared_error')"
   ]
  },
  {
   "cell_type": "markdown",
   "id": "c31cb465-4c70-4acd-9647-80003222d823",
   "metadata": {},
   "source": [
    "Now we will fit the model using `fit` function\n",
    "\n",
    "We use `Epochs` which is the number times that the learning algorithm will work through the entire training dataset and `verbose` which the info while training the model usually we set verbose to 1 to know how the model performs in training in each iteration"
   ]
  },
  {
   "cell_type": "code",
   "execution_count": 8,
   "id": "b625a322-6275-4b72-91a6-710a7fecb9ab",
   "metadata": {},
   "outputs": [
    {
     "name": "stdout",
     "output_type": "stream",
     "text": [
      "Epoch 1/100\n"
     ]
    },
    {
     "name": "stderr",
     "output_type": "stream",
     "text": [
      "WARNING: All log messages before absl::InitializeLog() is called are written to STDERR\n",
      "I0000 00:00:1739004095.708297    5290 service.cc:148] XLA service 0x7a9358175da0 initialized for platform CUDA (this does not guarantee that XLA will be used). Devices:\n",
      "I0000 00:00:1739004095.708320    5290 service.cc:156]   StreamExecutor device (0): NVIDIA GeForce GTX 1650 Ti, Compute Capability 7.5\n",
      "E0000 00:00:1739004095.727477    5290 cuda_dnn.cc:522] Loaded runtime CuDNN library: 9.1.0 but source was compiled with: 9.3.0.  CuDNN library needs to have matching major version and equal or higher minor version. If using a binary install, upgrade your CuDNN library.  If building from sources, make sure the library loaded at runtime is compatible with the version specified during compile configuration.\n",
      "E0000 00:00:1739004095.734598    5290 cuda_dnn.cc:522] Loaded runtime CuDNN library: 9.1.0 but source was compiled with: 9.3.0.  CuDNN library needs to have matching major version and equal or higher minor version. If using a binary install, upgrade your CuDNN library.  If building from sources, make sure the library loaded at runtime is compatible with the version specified during compile configuration.\n",
      "2025-02-08 14:11:35.735721: W tensorflow/core/framework/op_kernel.cc:1841] OP_REQUIRES failed at xla_ops.cc:577 : FAILED_PRECONDITION: DNN library initialization failed. Look at the errors above for more details.\n",
      "2025-02-08 14:11:35.735752: I tensorflow/core/framework/local_rendezvous.cc:405] Local rendezvous is aborting with status: FAILED_PRECONDITION: DNN library initialization failed. Look at the errors above for more details.\n",
      "\t [[{{node StatefulPartitionedCall}}]]\n"
     ]
    },
    {
     "ename": "FailedPreconditionError",
     "evalue": "Graph execution error:\n\nDetected at node StatefulPartitionedCall defined at (most recent call last):\n  File \"<frozen runpy>\", line 198, in _run_module_as_main\n\n  File \"<frozen runpy>\", line 88, in _run_code\n\n  File \"/home/alexender/Desktop/Projects/My_projects/envs/Data_Science/lib/python3.12/site-packages/ipykernel_launcher.py\", line 18, in <module>\n\n  File \"/home/alexender/Desktop/Projects/My_projects/envs/Data_Science/lib/python3.12/site-packages/traitlets/config/application.py\", line 1075, in launch_instance\n\n  File \"/home/alexender/Desktop/Projects/My_projects/envs/Data_Science/lib/python3.12/site-packages/ipykernel/kernelapp.py\", line 739, in start\n\n  File \"/home/alexender/Desktop/Projects/My_projects/envs/Data_Science/lib/python3.12/site-packages/tornado/platform/asyncio.py\", line 205, in start\n\n  File \"/usr/lib/python3.12/asyncio/base_events.py\", line 641, in run_forever\n\n  File \"/usr/lib/python3.12/asyncio/base_events.py\", line 1987, in _run_once\n\n  File \"/usr/lib/python3.12/asyncio/events.py\", line 88, in _run\n\n  File \"/home/alexender/Desktop/Projects/My_projects/envs/Data_Science/lib/python3.12/site-packages/ipykernel/kernelbase.py\", line 545, in dispatch_queue\n\n  File \"/home/alexender/Desktop/Projects/My_projects/envs/Data_Science/lib/python3.12/site-packages/ipykernel/kernelbase.py\", line 534, in process_one\n\n  File \"/home/alexender/Desktop/Projects/My_projects/envs/Data_Science/lib/python3.12/site-packages/ipykernel/kernelbase.py\", line 437, in dispatch_shell\n\n  File \"/home/alexender/Desktop/Projects/My_projects/envs/Data_Science/lib/python3.12/site-packages/ipykernel/ipkernel.py\", line 362, in execute_request\n\n  File \"/home/alexender/Desktop/Projects/My_projects/envs/Data_Science/lib/python3.12/site-packages/ipykernel/kernelbase.py\", line 778, in execute_request\n\n  File \"/home/alexender/Desktop/Projects/My_projects/envs/Data_Science/lib/python3.12/site-packages/ipykernel/ipkernel.py\", line 449, in do_execute\n\n  File \"/home/alexender/Desktop/Projects/My_projects/envs/Data_Science/lib/python3.12/site-packages/ipykernel/zmqshell.py\", line 549, in run_cell\n\n  File \"/home/alexender/Desktop/Projects/My_projects/envs/Data_Science/lib/python3.12/site-packages/IPython/core/interactiveshell.py\", line 3077, in run_cell\n\n  File \"/home/alexender/Desktop/Projects/My_projects/envs/Data_Science/lib/python3.12/site-packages/IPython/core/interactiveshell.py\", line 3132, in _run_cell\n\n  File \"/home/alexender/Desktop/Projects/My_projects/envs/Data_Science/lib/python3.12/site-packages/IPython/core/async_helpers.py\", line 128, in _pseudo_sync_runner\n\n  File \"/home/alexender/Desktop/Projects/My_projects/envs/Data_Science/lib/python3.12/site-packages/IPython/core/interactiveshell.py\", line 3336, in run_cell_async\n\n  File \"/home/alexender/Desktop/Projects/My_projects/envs/Data_Science/lib/python3.12/site-packages/IPython/core/interactiveshell.py\", line 3519, in run_ast_nodes\n\n  File \"/home/alexender/Desktop/Projects/My_projects/envs/Data_Science/lib/python3.12/site-packages/IPython/core/interactiveshell.py\", line 3579, in run_code\n\n  File \"/tmp/ipykernel_5221/72117971.py\", line 1, in <module>\n\n  File \"/home/alexender/Desktop/Projects/My_projects/envs/Data_Science/lib/python3.12/site-packages/keras/src/utils/traceback_utils.py\", line 117, in error_handler\n\n  File \"/home/alexender/Desktop/Projects/My_projects/envs/Data_Science/lib/python3.12/site-packages/keras/src/backend/tensorflow/trainer.py\", line 371, in fit\n\n  File \"/home/alexender/Desktop/Projects/My_projects/envs/Data_Science/lib/python3.12/site-packages/keras/src/backend/tensorflow/trainer.py\", line 219, in function\n\n  File \"/home/alexender/Desktop/Projects/My_projects/envs/Data_Science/lib/python3.12/site-packages/keras/src/backend/tensorflow/trainer.py\", line 132, in multi_step_on_iterator\n\nDNN library initialization failed. Look at the errors above for more details.\n\t [[{{node StatefulPartitionedCall}}]] [Op:__inference_multi_step_on_iterator_422]",
     "output_type": "error",
     "traceback": [
      "\u001b[0;31m---------------------------------------------------------------------------\u001b[0m",
      "\u001b[0;31mFailedPreconditionError\u001b[0m                   Traceback (most recent call last)",
      "Cell \u001b[0;32mIn[8], line 1\u001b[0m\n\u001b[0;32m----> 1\u001b[0m \u001b[43mmodel\u001b[49m\u001b[38;5;241;43m.\u001b[39;49m\u001b[43mfit\u001b[49m\u001b[43m(\u001b[49m\u001b[43mtraining_data\u001b[49m\u001b[43m[\u001b[49m\u001b[38;5;124;43m'\u001b[39;49m\u001b[38;5;124;43minputs\u001b[39;49m\u001b[38;5;124;43m'\u001b[39;49m\u001b[43m]\u001b[49m\u001b[43m,\u001b[49m\u001b[43m \u001b[49m\u001b[43mtraining_data\u001b[49m\u001b[43m[\u001b[49m\u001b[38;5;124;43m'\u001b[39;49m\u001b[38;5;124;43mtargets\u001b[39;49m\u001b[38;5;124;43m'\u001b[39;49m\u001b[43m]\u001b[49m\u001b[43m,\u001b[49m\u001b[43m \u001b[49m\u001b[43mepochs\u001b[49m\u001b[38;5;241;43m=\u001b[39;49m\u001b[38;5;241;43m100\u001b[39;49m\u001b[43m,\u001b[49m\u001b[43m \u001b[49m\u001b[43mverbose\u001b[49m\u001b[38;5;241;43m=\u001b[39;49m\u001b[38;5;241;43m2\u001b[39;49m\u001b[43m)\u001b[49m\n",
      "File \u001b[0;32m~/Desktop/Projects/My_projects/envs/Data_Science/lib/python3.12/site-packages/keras/src/utils/traceback_utils.py:122\u001b[0m, in \u001b[0;36mfilter_traceback.<locals>.error_handler\u001b[0;34m(*args, **kwargs)\u001b[0m\n\u001b[1;32m    119\u001b[0m     filtered_tb \u001b[38;5;241m=\u001b[39m _process_traceback_frames(e\u001b[38;5;241m.\u001b[39m__traceback__)\n\u001b[1;32m    120\u001b[0m     \u001b[38;5;66;03m# To get the full stack trace, call:\u001b[39;00m\n\u001b[1;32m    121\u001b[0m     \u001b[38;5;66;03m# `keras.config.disable_traceback_filtering()`\u001b[39;00m\n\u001b[0;32m--> 122\u001b[0m     \u001b[38;5;28;01mraise\u001b[39;00m e\u001b[38;5;241m.\u001b[39mwith_traceback(filtered_tb) \u001b[38;5;28;01mfrom\u001b[39;00m\u001b[38;5;250m \u001b[39m\u001b[38;5;28;01mNone\u001b[39;00m\n\u001b[1;32m    123\u001b[0m \u001b[38;5;28;01mfinally\u001b[39;00m:\n\u001b[1;32m    124\u001b[0m     \u001b[38;5;28;01mdel\u001b[39;00m filtered_tb\n",
      "File \u001b[0;32m~/Desktop/Projects/My_projects/envs/Data_Science/lib/python3.12/site-packages/tensorflow/python/eager/execute.py:53\u001b[0m, in \u001b[0;36mquick_execute\u001b[0;34m(op_name, num_outputs, inputs, attrs, ctx, name)\u001b[0m\n\u001b[1;32m     51\u001b[0m \u001b[38;5;28;01mtry\u001b[39;00m:\n\u001b[1;32m     52\u001b[0m   ctx\u001b[38;5;241m.\u001b[39mensure_initialized()\n\u001b[0;32m---> 53\u001b[0m   tensors \u001b[38;5;241m=\u001b[39m pywrap_tfe\u001b[38;5;241m.\u001b[39mTFE_Py_Execute(ctx\u001b[38;5;241m.\u001b[39m_handle, device_name, op_name,\n\u001b[1;32m     54\u001b[0m                                       inputs, attrs, num_outputs)\n\u001b[1;32m     55\u001b[0m \u001b[38;5;28;01mexcept\u001b[39;00m core\u001b[38;5;241m.\u001b[39m_NotOkStatusException \u001b[38;5;28;01mas\u001b[39;00m e:\n\u001b[1;32m     56\u001b[0m   \u001b[38;5;28;01mif\u001b[39;00m name \u001b[38;5;129;01mis\u001b[39;00m \u001b[38;5;129;01mnot\u001b[39;00m \u001b[38;5;28;01mNone\u001b[39;00m:\n",
      "\u001b[0;31mFailedPreconditionError\u001b[0m: Graph execution error:\n\nDetected at node StatefulPartitionedCall defined at (most recent call last):\n  File \"<frozen runpy>\", line 198, in _run_module_as_main\n\n  File \"<frozen runpy>\", line 88, in _run_code\n\n  File \"/home/alexender/Desktop/Projects/My_projects/envs/Data_Science/lib/python3.12/site-packages/ipykernel_launcher.py\", line 18, in <module>\n\n  File \"/home/alexender/Desktop/Projects/My_projects/envs/Data_Science/lib/python3.12/site-packages/traitlets/config/application.py\", line 1075, in launch_instance\n\n  File \"/home/alexender/Desktop/Projects/My_projects/envs/Data_Science/lib/python3.12/site-packages/ipykernel/kernelapp.py\", line 739, in start\n\n  File \"/home/alexender/Desktop/Projects/My_projects/envs/Data_Science/lib/python3.12/site-packages/tornado/platform/asyncio.py\", line 205, in start\n\n  File \"/usr/lib/python3.12/asyncio/base_events.py\", line 641, in run_forever\n\n  File \"/usr/lib/python3.12/asyncio/base_events.py\", line 1987, in _run_once\n\n  File \"/usr/lib/python3.12/asyncio/events.py\", line 88, in _run\n\n  File \"/home/alexender/Desktop/Projects/My_projects/envs/Data_Science/lib/python3.12/site-packages/ipykernel/kernelbase.py\", line 545, in dispatch_queue\n\n  File \"/home/alexender/Desktop/Projects/My_projects/envs/Data_Science/lib/python3.12/site-packages/ipykernel/kernelbase.py\", line 534, in process_one\n\n  File \"/home/alexender/Desktop/Projects/My_projects/envs/Data_Science/lib/python3.12/site-packages/ipykernel/kernelbase.py\", line 437, in dispatch_shell\n\n  File \"/home/alexender/Desktop/Projects/My_projects/envs/Data_Science/lib/python3.12/site-packages/ipykernel/ipkernel.py\", line 362, in execute_request\n\n  File \"/home/alexender/Desktop/Projects/My_projects/envs/Data_Science/lib/python3.12/site-packages/ipykernel/kernelbase.py\", line 778, in execute_request\n\n  File \"/home/alexender/Desktop/Projects/My_projects/envs/Data_Science/lib/python3.12/site-packages/ipykernel/ipkernel.py\", line 449, in do_execute\n\n  File \"/home/alexender/Desktop/Projects/My_projects/envs/Data_Science/lib/python3.12/site-packages/ipykernel/zmqshell.py\", line 549, in run_cell\n\n  File \"/home/alexender/Desktop/Projects/My_projects/envs/Data_Science/lib/python3.12/site-packages/IPython/core/interactiveshell.py\", line 3077, in run_cell\n\n  File \"/home/alexender/Desktop/Projects/My_projects/envs/Data_Science/lib/python3.12/site-packages/IPython/core/interactiveshell.py\", line 3132, in _run_cell\n\n  File \"/home/alexender/Desktop/Projects/My_projects/envs/Data_Science/lib/python3.12/site-packages/IPython/core/async_helpers.py\", line 128, in _pseudo_sync_runner\n\n  File \"/home/alexender/Desktop/Projects/My_projects/envs/Data_Science/lib/python3.12/site-packages/IPython/core/interactiveshell.py\", line 3336, in run_cell_async\n\n  File \"/home/alexender/Desktop/Projects/My_projects/envs/Data_Science/lib/python3.12/site-packages/IPython/core/interactiveshell.py\", line 3519, in run_ast_nodes\n\n  File \"/home/alexender/Desktop/Projects/My_projects/envs/Data_Science/lib/python3.12/site-packages/IPython/core/interactiveshell.py\", line 3579, in run_code\n\n  File \"/tmp/ipykernel_5221/72117971.py\", line 1, in <module>\n\n  File \"/home/alexender/Desktop/Projects/My_projects/envs/Data_Science/lib/python3.12/site-packages/keras/src/utils/traceback_utils.py\", line 117, in error_handler\n\n  File \"/home/alexender/Desktop/Projects/My_projects/envs/Data_Science/lib/python3.12/site-packages/keras/src/backend/tensorflow/trainer.py\", line 371, in fit\n\n  File \"/home/alexender/Desktop/Projects/My_projects/envs/Data_Science/lib/python3.12/site-packages/keras/src/backend/tensorflow/trainer.py\", line 219, in function\n\n  File \"/home/alexender/Desktop/Projects/My_projects/envs/Data_Science/lib/python3.12/site-packages/keras/src/backend/tensorflow/trainer.py\", line 132, in multi_step_on_iterator\n\nDNN library initialization failed. Look at the errors above for more details.\n\t [[{{node StatefulPartitionedCall}}]] [Op:__inference_multi_step_on_iterator_422]"
     ]
    }
   ],
   "source": [
    "model.fit(training_data['inputs'], training_data['targets'], epochs=100, verbose=2)"
   ]
  },
  {
   "cell_type": "markdown",
   "id": "00446c48-dee9-4199-b694-38e09e1001e9",
   "metadata": {},
   "source": [
    "### Extract weights and bias\n",
    "\n",
    "we can use the build in methods to get the values of weights and bias"
   ]
  },
  {
   "cell_type": "code",
   "execution_count": 9,
   "id": "c8150464-c352-41c9-a56a-596dc890c660",
   "metadata": {},
   "outputs": [
    {
     "data": {
      "text/plain": [
       "[array([[ 1.9943048],\n",
       "        [-2.9534519]], dtype=float32),\n",
       " array([5.012233], dtype=float32)]"
      ]
     },
     "execution_count": 9,
     "metadata": {},
     "output_type": "execute_result"
    }
   ],
   "source": [
    "model.layers[0].get_weights()"
   ]
  },
  {
   "cell_type": "markdown",
   "id": "13ee7678-d272-4c42-95cd-c97634725f1f",
   "metadata": {},
   "source": [
    "### Predicting the outputs"
   ]
  },
  {
   "cell_type": "code",
   "execution_count": 10,
   "id": "ff63bacc-4b1c-46b1-9e01-e2ef53ac1a6f",
   "metadata": {},
   "outputs": [],
   "source": [
    "predictions = model.predict_on_batch(training_data['inputs'])"
   ]
  },
  {
   "cell_type": "markdown",
   "id": "a3f5dd65-c5ad-4313-bf67-bf87a6b4e0b4",
   "metadata": {},
   "source": [
    "### Plotting the targets vs predictions"
   ]
  },
  {
   "cell_type": "code",
   "execution_count": 11,
   "id": "bf251727-352b-48bf-aec0-7f04d1c0be09",
   "metadata": {},
   "outputs": [
    {
     "data": {
      "image/png": "[encoded data removed]",
      "text/plain": [
       "<Figure size 640x480 with 1 Axes>"
      ]
     },
     "metadata": {},
     "output_type": "display_data"
    }
   ],
   "source": [
    "plt.plot(np.squeeze(predictions), np.squeeze(training_data['targets']))\n",
    "plt.xlabel('Prediction')\n",
    "plt.ylabel('Actual Outputs')\n",
    "plt.show()"
   ]
  },
  {
   "cell_type": "code",
   "execution_count": null,
   "id": "52caa558-4475-4979-bade-b48e9c992ee6",
   "metadata": {},
   "outputs": [],
   "source": []
  }
 ],
 "metadata": {
  "kernelspec": {
   "display_name": "Python 3 (ipykernel)",
   "language": "python",
   "name": "python3"
  },
  "language_info": {
   "codemirror_mode": {
    "name": "ipython",
    "version": 3
   },
   "file_extension": ".py",
   "mimetype": "text/x-python",
   "name": "python",
   "nbconvert_exporter": "python",
   "pygments_lexer": "ipython3",
   "version": "3.12.3"
  }
 },
 "nbformat": 4,
 "nbformat_minor": 5
}
