{
 "cells": [
  {
   "cell_type": "markdown",
   "id": "eed7bdd6-2052-41de-b05e-65d6c96b2d8c",
   "metadata": {},
   "source": [
    "# Matrix Operation"
   ]
  },
  {
   "cell_type": "markdown",
   "id": "827b78bd-763b-4baa-98c4-36e4007d08c7",
   "metadata": {},
   "source": [
    "### Import Libraries"
   ]
  },
  {
   "cell_type": "code",
   "execution_count": 1,
   "id": "9d98cf2a-c9ea-445b-b565-6ff911581f01",
   "metadata": {},
   "outputs": [],
   "source": [
    "import numpy as np"
   ]
  },
  {
   "cell_type": "markdown",
   "id": "6f588329-da6b-4c94-b0b6-05b471390a43",
   "metadata": {},
   "source": [
    "### Addition"
   ]
  },
  {
   "cell_type": "code",
   "execution_count": 2,
   "id": "80f72035-7550-44ff-bf87-08c7e8b523b0",
   "metadata": {},
   "outputs": [
    {
     "data": {
      "text/plain": [
       "array([[ 5, 12,  6],\n",
       "       [-3,  0, 14]])"
      ]
     },
     "execution_count": 2,
     "metadata": {},
     "output_type": "execute_result"
    }
   ],
   "source": [
    "m1 = np.array([[5, 12, 6], [-3, 0, 14]])\n",
    "m1"
   ]
  },
  {
   "cell_type": "code",
   "execution_count": 3,
   "id": "f4f607f2-61ba-4af1-9406-2fa24c862dfb",
   "metadata": {},
   "outputs": [
    {
     "data": {
      "text/plain": [
       "array([[ 9,  8,  7],\n",
       "       [ 1,  3, -5]])"
      ]
     },
     "execution_count": 3,
     "metadata": {},
     "output_type": "execute_result"
    }
   ],
   "source": [
    "m2 = np.array([[9, 8, 7], [1, 3, -5]])\n",
    "m2"
   ]
  },
  {
   "cell_type": "code",
   "execution_count": 4,
   "id": "077fb722-6f19-47f2-841e-40663d2eeacf",
   "metadata": {},
   "outputs": [
    {
     "data": {
      "text/plain": [
       "array([[14, 20, 13],\n",
       "       [-2,  3,  9]])"
      ]
     },
     "execution_count": 4,
     "metadata": {},
     "output_type": "execute_result"
    }
   ],
   "source": [
    "m1+m2"
   ]
  },
  {
   "cell_type": "markdown",
   "id": "d7036b41-bc19-4406-b399-5ec26b8d503f",
   "metadata": {},
   "source": [
    "### Difference"
   ]
  },
  {
   "cell_type": "code",
   "execution_count": 5,
   "id": "9de50d4d-c40f-4f88-9b5d-d9a62b5871d4",
   "metadata": {},
   "outputs": [
    {
     "data": {
      "text/plain": [
       "array([[-4,  4, -1],\n",
       "       [-4, -3, 19]])"
      ]
     },
     "execution_count": 5,
     "metadata": {},
     "output_type": "execute_result"
    }
   ],
   "source": [
    "m1-m2"
   ]
  },
  {
   "cell_type": "markdown",
   "id": "1eecfe3f-cd17-4ab6-a913-b73345ad6c4d",
   "metadata": {},
   "source": [
    "### Addition and Difference of Vector "
   ]
  },
  {
   "cell_type": "code",
   "execution_count": 6,
   "id": "5c23f909-d1d8-4303-81d6-83d1edb19d09",
   "metadata": {},
   "outputs": [],
   "source": [
    "m3 = np.array([1, 2, 3, 4, 5])\n",
    "m4 = np.array([5, 4, 3, 2, 1])"
   ]
  },
  {
   "cell_type": "code",
   "execution_count": 7,
   "id": "5abd139f-a874-457c-9c6a-78dcde01e459",
   "metadata": {},
   "outputs": [
    {
     "data": {
      "text/plain": [
       "array([6, 6, 6, 6, 6])"
      ]
     },
     "execution_count": 7,
     "metadata": {},
     "output_type": "execute_result"
    }
   ],
   "source": [
    "m3+m4"
   ]
  },
  {
   "cell_type": "code",
   "execution_count": 8,
   "id": "08b4088f-f822-4c52-b0a1-d6cda0202461",
   "metadata": {},
   "outputs": [
    {
     "data": {
      "text/plain": [
       "array([-4, -2,  0,  2,  4])"
      ]
     },
     "execution_count": 8,
     "metadata": {},
     "output_type": "execute_result"
    }
   ],
   "source": [
    "m3-m4"
   ]
  },
  {
   "cell_type": "code",
   "execution_count": null,
   "id": "9b53f595-0ecf-493f-b50b-a01ab31048ec",
   "metadata": {},
   "outputs": [],
   "source": []
  },
  {
   "cell_type": "markdown",
   "id": "cacb9c00-9fc7-4e5a-93eb-418338b946fb",
   "metadata": {},
   "source": [
    "### Transpose of a Matrix"
   ]
  },
  {
   "cell_type": "code",
   "execution_count": 12,
   "id": "eb19aeda-3320-4fc8-9ab6-208375ae1263",
   "metadata": {},
   "outputs": [
    {
     "data": {
      "text/plain": [
       "array([[ 5, 12,  6],\n",
       "       [-3,  0, 14]])"
      ]
     },
     "execution_count": 12,
     "metadata": {},
     "output_type": "execute_result"
    }
   ],
   "source": [
    "A = np.array([[5, 12, 6], [-3, 0, 14]])\n",
    "A"
   ]
  },
  {
   "cell_type": "code",
   "execution_count": 13,
   "id": "5f333599-e8e0-493e-8e2c-9b933a275f72",
   "metadata": {},
   "outputs": [
    {
     "data": {
      "text/plain": [
       "array([[ 5, -3],\n",
       "       [12,  0],\n",
       "       [ 6, 14]])"
      ]
     },
     "execution_count": 13,
     "metadata": {},
     "output_type": "execute_result"
    }
   ],
   "source": [
    "A.T"
   ]
  },
  {
   "cell_type": "markdown",
   "id": "da4f6aa5-a76d-400f-acf4-d8da0d396538",
   "metadata": {},
   "source": [
    "### Dot Product"
   ]
  },
  {
   "cell_type": "markdown",
   "id": "7c273acf-81e2-4cab-9982-f1b279f6f83d",
   "metadata": {},
   "source": [
    "### Vector*Vector"
   ]
  },
  {
   "cell_type": "code",
   "execution_count": 18,
   "id": "9f6c1fb3-e707-412b-988d-06f8123fb69a",
   "metadata": {},
   "outputs": [],
   "source": [
    "x = np.array([5, 12, 6])\n",
    "y = np.array([-3, 0, 17])"
   ]
  },
  {
   "cell_type": "code",
   "execution_count": 19,
   "id": "cc97bb4b-cadc-45f3-991e-52e1c9e8996d",
   "metadata": {},
   "outputs": [
    {
     "data": {
      "text/plain": [
       "87"
      ]
     },
     "execution_count": 19,
     "metadata": {},
     "output_type": "execute_result"
    }
   ],
   "source": [
    "np.dot(x, y)"
   ]
  },
  {
   "cell_type": "markdown",
   "id": "b8c40f45-cc6d-442c-980b-de9c3f97a5b7",
   "metadata": {},
   "source": [
    "### Scalar * Scalar"
   ]
  },
  {
   "cell_type": "code",
   "execution_count": 20,
   "id": "8fae43d4-d09c-4b29-a588-888a357db090",
   "metadata": {},
   "outputs": [
    {
     "data": {
      "text/plain": [
       "30"
      ]
     },
     "execution_count": 20,
     "metadata": {},
     "output_type": "execute_result"
    }
   ],
   "source": [
    "np.dot(5, 6)"
   ]
  },
  {
   "cell_type": "code",
   "execution_count": 21,
   "id": "710788f0-5380-4861-9fc4-cabe6bbbe964",
   "metadata": {},
   "outputs": [
    {
     "data": {
      "text/plain": [
       "240"
      ]
     },
     "execution_count": 21,
     "metadata": {},
     "output_type": "execute_result"
    }
   ],
   "source": [
    "np.dot(15, 16)"
   ]
  },
  {
   "cell_type": "markdown",
   "id": "b024cf7e-01ec-4d8e-8738-65ad86f50797",
   "metadata": {},
   "source": [
    "### Scalar * Vector"
   ]
  },
  {
   "cell_type": "code",
   "execution_count": 22,
   "id": "044f1eb8-d8d4-42a6-b683-143440b6fe9e",
   "metadata": {},
   "outputs": [
    {
     "data": {
      "text/plain": [
       "array([25, 60, 30])"
      ]
     },
     "execution_count": 22,
     "metadata": {},
     "output_type": "execute_result"
    }
   ],
   "source": [
    "np.dot(5, x)"
   ]
  },
  {
   "cell_type": "markdown",
   "id": "220e15e1-e599-4fe8-ad5f-2e66111319ba",
   "metadata": {},
   "source": [
    "### Scalar * Matrix"
   ]
  },
  {
   "cell_type": "code",
   "execution_count": 23,
   "id": "40390135-fed7-4932-ad79-d8d09be25326",
   "metadata": {},
   "outputs": [
    {
     "data": {
      "text/plain": [
       "array([[ 5, 12,  6],\n",
       "       [-3,  0, 14]])"
      ]
     },
     "execution_count": 23,
     "metadata": {},
     "output_type": "execute_result"
    }
   ],
   "source": [
    "A"
   ]
  },
  {
   "cell_type": "code",
   "execution_count": 24,
   "id": "a3943c2d-6322-421b-862d-f0ea90d410cf",
   "metadata": {},
   "outputs": [
    {
     "data": {
      "text/plain": [
       "array([[ 25,  60,  30],\n",
       "       [-15,   0,  70]])"
      ]
     },
     "execution_count": 24,
     "metadata": {},
     "output_type": "execute_result"
    }
   ],
   "source": [
    "np.dot(5, A)"
   ]
  },
  {
   "cell_type": "markdown",
   "id": "969c10b1-1924-4777-8ded-f9d3be4e6d7c",
   "metadata": {},
   "source": [
    "### Matrix * Matrix"
   ]
  },
  {
   "cell_type": "code",
   "execution_count": 25,
   "id": "9cfc014a-891b-444e-ae13-0e8dec2903d0",
   "metadata": {},
   "outputs": [
    {
     "data": {
      "text/plain": [
       "array([[ 2, -1],\n",
       "       [ 8,  0],\n",
       "       [ 3, 14]])"
      ]
     },
     "execution_count": 25,
     "metadata": {},
     "output_type": "execute_result"
    }
   ],
   "source": [
    "B = np.array([[2, -1], [8, 0], [3, 14]])\n",
    "B"
   ]
  },
  {
   "cell_type": "code",
   "execution_count": 26,
   "id": "d4b0d526-77b5-4a48-a6dc-fbc79de44f91",
   "metadata": {},
   "outputs": [
    {
     "data": {
      "text/plain": [
       "array([[124,  79],\n",
       "       [ 36, 199]])"
      ]
     },
     "execution_count": 26,
     "metadata": {},
     "output_type": "execute_result"
    }
   ],
   "source": [
    "np.dot(A, B)"
   ]
  },
  {
   "cell_type": "code",
   "execution_count": null,
   "id": "1d337c6a-aba3-48c7-bf27-00fe8944b279",
   "metadata": {},
   "outputs": [],
   "source": []
  }
 ],
 "metadata": {
  "kernelspec": {
   "display_name": "Python 3 (ipykernel)",
   "language": "python",
   "name": "python3"
  },
  "language_info": {
   "codemirror_mode": {
    "name": "ipython",
    "version": 3
   },
   "file_extension": ".py",
   "mimetype": "text/x-python",
   "name": "python",
   "nbconvert_exporter": "python",
   "pygments_lexer": "ipython3",
   "version": "3.12.3"
  }
 },
 "nbformat": 4,
 "nbformat_minor": 5
}
