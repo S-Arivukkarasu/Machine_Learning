{
 "cells": [
  {
   "cell_type": "markdown",
   "id": "2bf51917-3057-4174-aeb9-fec9c12aacde",
   "metadata": {},
   "source": [
    "# Tensors"
   ]
  },
  {
   "cell_type": "markdown",
   "id": "22bd25fe-b9b3-413b-b60a-8a53c73ad2f8",
   "metadata": {},
   "source": [
    "### Importing Libraries"
   ]
  },
  {
   "cell_type": "code",
   "execution_count": 1,
   "id": "89364439-5c95-48b9-8606-dbc401d1a610",
   "metadata": {},
   "outputs": [],
   "source": [
    "import numpy as np"
   ]
  },
  {
   "cell_type": "markdown",
   "id": "a7ef1016-590d-4f26-967c-ef3a677d8157",
   "metadata": {},
   "source": [
    "### Creating a tensor "
   ]
  },
  {
   "cell_type": "code",
   "execution_count": 2,
   "id": "b99851e5-0321-42b8-9bba-65eadba35f5d",
   "metadata": {},
   "outputs": [
    {
     "data": {
      "text/plain": [
       "array([[ 5, 12,  6],\n",
       "       [-3,  0, 14]])"
      ]
     },
     "execution_count": 2,
     "metadata": {},
     "output_type": "execute_result"
    }
   ],
   "source": [
    "m1 = np.array([[5, 12, 6], [-3, 0, 14]])\n",
    "m1"
   ]
  },
  {
   "cell_type": "code",
   "execution_count": 3,
   "id": "762bfd28-b196-4422-8597-f2ee44362c26",
   "metadata": {},
   "outputs": [
    {
     "data": {
      "text/plain": [
       "array([[ 9,  8,  7],\n",
       "       [ 1,  3, -5]])"
      ]
     },
     "execution_count": 3,
     "metadata": {},
     "output_type": "execute_result"
    }
   ],
   "source": [
    "m2 = np.array([[9, 8, 7], [1, 3, -5]])\n",
    "m2"
   ]
  },
  {
   "cell_type": "code",
   "execution_count": 5,
   "id": "e3fd5922-4398-478a-8bf4-df6475060816",
   "metadata": {},
   "outputs": [
    {
     "data": {
      "text/plain": [
       "array([[[ 5, 12,  6],\n",
       "        [-3,  0, 14]],\n",
       "\n",
       "       [[ 9,  8,  7],\n",
       "        [ 1,  3, -5]]])"
      ]
     },
     "execution_count": 5,
     "metadata": {},
     "output_type": "execute_result"
    }
   ],
   "source": [
    "t = np.array([m1, m2])\n",
    "t"
   ]
  },
  {
   "cell_type": "markdown",
   "id": "f28944b8-1df6-40fd-8eeb-00172d376be4",
   "metadata": {},
   "source": [
    "### Checking the Shape "
   ]
  },
  {
   "cell_type": "code",
   "execution_count": 6,
   "id": "dc979a46-535a-4723-a978-8a3c544dc26a",
   "metadata": {},
   "outputs": [
    {
     "data": {
      "text/plain": [
       "(2, 2, 3)"
      ]
     },
     "execution_count": 6,
     "metadata": {},
     "output_type": "execute_result"
    }
   ],
   "source": [
    "t.shape"
   ]
  },
  {
   "cell_type": "markdown",
   "id": "01f98ec0-d1bb-44bd-baf9-d32cd2b3dfd7",
   "metadata": {},
   "source": [
    "### Manually creating the Tensor "
   ]
  },
  {
   "cell_type": "code",
   "execution_count": 7,
   "id": "39c0161f-be0d-43a9-80f5-5f624ce6437a",
   "metadata": {},
   "outputs": [],
   "source": [
    "t_manual = np.array([[[5, 12, 6], [-3, 0, 14]], [[9, 8, 7], [1, 3, -5]]])"
   ]
  },
  {
   "cell_type": "code",
   "execution_count": 8,
   "id": "efbf41af-1df0-46d5-9bf6-95912ee58d28",
   "metadata": {},
   "outputs": [
    {
     "data": {
      "text/plain": [
       "array([[[ 5, 12,  6],\n",
       "        [-3,  0, 14]],\n",
       "\n",
       "       [[ 9,  8,  7],\n",
       "        [ 1,  3, -5]]])"
      ]
     },
     "execution_count": 8,
     "metadata": {},
     "output_type": "execute_result"
    }
   ],
   "source": [
    "t_manual"
   ]
  },
  {
   "cell_type": "code",
   "execution_count": null,
   "id": "b882aa09-3252-4289-ae6f-89fe233dd861",
   "metadata": {},
   "outputs": [],
   "source": []
  }
 ],
 "metadata": {
  "kernelspec": {
   "display_name": "Python 3 (ipykernel)",
   "language": "python",
   "name": "python3"
  },
  "language_info": {
   "codemirror_mode": {
    "name": "ipython",
    "version": 3
   },
   "file_extension": ".py",
   "mimetype": "text/x-python",
   "name": "python",
   "nbconvert_exporter": "python",
   "pygments_lexer": "ipython3",
   "version": "3.12.3"
  }
 },
 "nbformat": 4,
 "nbformat_minor": 5
}
